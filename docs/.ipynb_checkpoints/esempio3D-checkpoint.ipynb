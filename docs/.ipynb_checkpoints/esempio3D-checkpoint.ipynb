{
 "cells": [
  {
   "cell_type": "code",
   "execution_count": null,
   "metadata": {},
   "outputs": [],
   "source": [
    "include(\"../src/AlphaStructures.jl\")\n",
    "using LinearAlgebraicRepresentation, ViewerGL\n",
    "using BenchmarkTools\n",
    "using Distributed\n",
    "Lar = LinearAlgebraicRepresentation\n",
    "GL = ViewerGL\n",
    "using TimerOutputs\n",
    "\n",
    "filename = \"../examples/examples3D/OBJ/teapot.obj\";\n",
    "W, EVs, FVs = Lar.obj2lar(filename);\n",
    "WW = [[i] for i = 1:size(W, 2)];\n",
    "V, VV = Lar.apply(Lar.r(pi / 2, 0, 0), (W, WW)); #object rotated\n",
    "\n",
    "points = convert(Lar.Points, V')\n",
    "GL.VIEW([\n",
    "    GL.GLPoints(points)\n",
    "    GL.GLAxis(GL.Point3d(-1, -1, -1), GL.Point3d(1, 1, 1))\n",
    "]);\n",
    "\n",
    "\n",
    "filtration = AlphaStructures.alphaFilter(V);\n",
    "VV, EV, FV, TV = AlphaStructures.alphaSimplex(V, filtration, 3.7)\n",
    "\n",
    "GL.VIEW([\n",
    "    GL.GLGrid(V, EV, GL.COLORS[1], 0.6) # White\n",
    "    GL.GLGrid(V, FV, GL.COLORS[2], 0.3) # Red\n",
    "    GL.GLGrid(V, TV, GL.COLORS[3], 0.3) # Green\n",
    "]);\n",
    "\n",
    "filter_key = sort(unique(values(filtration)))\n",
    "\n",
    "granular = 10\n",
    "\n",
    "reduced_filter =\n",
    "    filter_key[sort(abs.(rand(Int, granular) .% length(filter_key)))]\n",
    "reduced_filter = [reduced_filter; max(filter_key...)]\n",
    "\n",
    "\n",
    "for α in reduced_filter\n",
    "    @show α\n",
    "    VVV, EEV, FFV, TTV = AlphaStructures.alphaSimplex(V, filtration, α)\n",
    "    \n",
    "    GL.VIEW(GL.GLExplode(\n",
    "        V,\n",
    "        [[[t] for t in TTV]; [[f] for f in FFV]; [[e] for e in EEV]],\n",
    "        1.0,\n",
    "        1.0,\n",
    "        1.0,# Explode Ratio\n",
    "        99,\n",
    "        1,# Colors\n",
    "    ))\n",
    "    \n",
    "end"
   ]
  },
  {
   "cell_type": "code",
   "execution_count": null,
   "metadata": {},
   "outputs": [],
   "source": []
  }
 ],
 "metadata": {
  "kernelspec": {
   "display_name": "Julia 1.5.3",
   "language": "julia",
   "name": "julia-1.5"
  },
  "language_info": {
   "file_extension": ".jl",
   "mimetype": "application/julia",
   "name": "julia",
   "version": "1.5.3"
  }
 },
 "nbformat": 4,
 "nbformat_minor": 4
}
