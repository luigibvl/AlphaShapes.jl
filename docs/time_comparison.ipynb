{
 "cells": [
  {
   "cell_type": "markdown",
   "metadata": {},
   "source": [
    "### Di seguito tutte le funzioni originali del modulo AlphaStructures, per poter comparare i loro tempi di esecuzione con le nuove versioni delle stesse funzioni"
   ]
  },
  {
   "cell_type": "code",
   "execution_count": 1,
   "metadata": {},
   "outputs": [
    {
     "data": {
      "text/plain": [
       "Main.AlphaStructures"
      ]
     },
     "execution_count": 1,
     "metadata": {},
     "output_type": "execute_result"
    }
   ],
   "source": [
    "using LinearAlgebraicRepresentation\n",
    "using Delaunay, Triangle\n",
    "using Combinatorics, DataStructures\n",
    "using Distributed, SharedArrays\n",
    "Lar = LinearAlgebraicRepresentation\n",
    "include(\"../src/AlphaStructures.jl\") # nuovo modulo AlphaStructures"
   ]
  },
  {
   "cell_type": "code",
   "execution_count": 2,
   "metadata": {},
   "outputs": [
    {
     "data": {
      "text/plain": [
       "findCenter (generic function with 1 method)"
      ]
     },
     "execution_count": 2,
     "metadata": {},
     "output_type": "execute_result"
    }
   ],
   "source": [
    "function findCenter(P::Lar.Points)::Array{Float64,1}\n",
    "    dim, n = size(P)\n",
    "    @assert n > 0\t\t\"findCenter: at least one points is needed.\"\n",
    "    @assert dim >= n-1\t\"findCenter: Too much points\"\n",
    "\n",
    "    @assert dim < 4\t\t\"findCenter: Function not yet Programmed.\"\n",
    "\n",
    "    if n == 1\n",
    "        center = P[:, 1]\n",
    "\n",
    "    elseif n == 2\n",
    "        #for each dimension\n",
    "        center = (P[:, 1] + P[:, 2]) / 2\n",
    "\n",
    "    elseif n == 3\n",
    "        #https://www.ics.uci.edu/~eppstein/junkyard/circumcenter.html\n",
    "        if dim == 2\n",
    "            denom = 2 * Lar.det([ P[:, 2] - P[:, 1]  P[:, 3] - P[:, 1] ])\n",
    "            deter = (P[:, 2] - P[:, 1]) * Lar.norm(P[:, 3] - P[:, 1])^2 -\n",
    "                    (P[:, 3] - P[:, 1]) * Lar.norm(P[:, 2] - P[:, 1])^2\n",
    "            numer = [- deter[2], deter[1]]\n",
    "            center = P[:, 1] + numer / denom\n",
    "\n",
    "        elseif dim == 3\n",
    "            #circumcenter of a triangle in R^3\n",
    "            numer = Lar.norm(P[:, 3] - P[:, 1])^2 * Lar.cross(\n",
    "                        Lar.cross(P[:, 2] - P[:, 1], P[:, 3] - P[:, 1]),\n",
    "                        P[:, 2] - P[:, 1]\n",
    "                    ) +\n",
    "                    Lar.norm(P[:, 2] - P[:, 1])^2 * Lar.cross(\n",
    "                        P[:, 3] - P[:, 1],\n",
    "                        Lar.cross(P[:, 2] - P[:, 1], P[:, 3] - P[:, 1]\n",
    "                    )\n",
    "            )\n",
    "            denom = 2 * Lar.norm(\n",
    "                Lar.cross(P[:, 2] - P[:, 1], P[:, 3] - P[:, 1])\n",
    "            )^2\n",
    "            center = P[:, 1] + numer / denom\n",
    "        end\n",
    "\n",
    "    elseif n == 4 #&& dim = 3\n",
    "        # https://people.sc.fsu.edu/~jburkardt/presentations\n",
    "        #\t/cg_lab_tetrahedrons.pdf\n",
    "        # page 6 (matrix are transposed)\n",
    "        α = Lar.det([P; ones(1, 4)])\n",
    "        sq = sum(abs2, P, dims = 1)\n",
    "        Dx = Lar.det([sq; P[2:2,:]; P[3:3,:]; ones(1, 4)])\n",
    "        Dy = Lar.det([P[1:1,:]; sq; P[3:3,:]; ones(1, 4)])\n",
    "        Dz = Lar.det([P[1:1,:]; P[2:2,:]; sq; ones(1, 4)])\n",
    "        center = [Dx; Dy; Dz]/2α\n",
    "    end\n",
    "\n",
    "    return center\n",
    "end"
   ]
  },
  {
   "cell_type": "code",
   "execution_count": 3,
   "metadata": {},
   "outputs": [
    {
     "data": {
      "text/plain": [
       "findClosestPoint (generic function with 1 method)"
      ]
     },
     "execution_count": 3,
     "metadata": {},
     "output_type": "execute_result"
    }
   ],
   "source": [
    "function findClosestPoint(\n",
    "        Psimplex::Lar.Points, P::Lar.Points;\n",
    "        metric = \"circumcenter\"\n",
    "    )::Union{Int64, Nothing}\n",
    "\n",
    "    @assert metric ∈ [\"circumcenter\", \"dd\"] \"findClosestPoint: available metrics are\n",
    "        `circumcenter` and `dd`.\"\n",
    "\n",
    "    simplexDim = size(Psimplex, 2)\n",
    "    @assert simplexDim <= size(Psimplex, 1) \"findClosestPoint: Cannot add\n",
    "    another point to the simplex.\"\n",
    "\n",
    "    @assert (m = size(P, 2)) != 0 \"findClosestPoint: No Points in `P`.\"\n",
    "\n",
    "    radlist = SharedArray{Float64}(m)\n",
    "    for col = 1 : m\n",
    "        r, c = findRadius([Psimplex P[:,col]], true)\n",
    "        sameSign = (\n",
    "            r == Inf ||\n",
    "            metric != \"dd\" ||\n",
    "            isempty(oppositeHalfSpacePoints(\n",
    "                [Psimplex P[:,col]], Psimplex, c\n",
    "            ))\n",
    "        )\n",
    "        radlist[col] = ((-1)^(1 + sameSign)) * r\n",
    "    end\n",
    "\n",
    "    radius, closestidx = findmin(radlist)\n",
    "\n",
    "    if radius == Inf\n",
    "        closestidx = nothing\n",
    "    end\n",
    "\n",
    "    return closestidx\n",
    "\n",
    "end\n"
   ]
  },
  {
   "cell_type": "code",
   "execution_count": 4,
   "metadata": {},
   "outputs": [
    {
     "data": {
      "text/plain": [
       "findMedian (generic function with 1 method)"
      ]
     },
     "execution_count": 4,
     "metadata": {},
     "output_type": "execute_result"
    }
   ],
   "source": [
    "function findMedian(P::Lar.Points, ax::Int64)::Float64\n",
    "    xp = sort(unique(P[ax, :]))\n",
    "    if length(xp) == 1\n",
    "        median = xp[1]\n",
    "    else\n",
    "        idx = Int64(floor(length(xp)/2))\n",
    "        median = (xp[idx] + xp[idx+1])/2\n",
    "    end\n",
    "    return median\n",
    "end"
   ]
  },
  {
   "cell_type": "code",
   "execution_count": 5,
   "metadata": {},
   "outputs": [
    {
     "data": {
      "text/plain": [
       "findRadius (generic function with 2 methods)"
      ]
     },
     "execution_count": 5,
     "metadata": {},
     "output_type": "execute_result"
    }
   ],
   "source": [
    "function findRadius(\n",
    "        P::Lar.Points, center=false; digits=64\n",
    "    )::Union{Float64, Tuple{Float64, Array{Float64,1}}}\n",
    "\n",
    "    c = findCenter(P)\n",
    "    if any(isnan, c)\n",
    "        r = Inf\n",
    "    else\n",
    "        r = round(\n",
    "            findmin([Lar.norm(c - P[:, i]) for i = 1 : size(P, 2)])[1],\n",
    "            digits = digits\n",
    "        )\n",
    "    end\n",
    "    if center\n",
    "        return r, c\n",
    "    end\n",
    "    return r\n",
    "end"
   ]
  },
  {
   "cell_type": "code",
   "execution_count": 6,
   "metadata": {},
   "outputs": [
    {
     "data": {
      "text/plain": [
       "matrixPerturbation (generic function with 1 method)"
      ]
     },
     "execution_count": 6,
     "metadata": {},
     "output_type": "execute_result"
    }
   ],
   "source": [
    "function matrixPerturbation(\n",
    "        M::Array{Float64,2};\n",
    "        atol=1e-10, row = [0], col = [0]\n",
    "    )::Array{Float64,2}\n",
    "\n",
    "    if atol == 0.0\n",
    "        println(\"Warning: no perturbation has been performed.\")\n",
    "        return M\n",
    "    end\n",
    "\n",
    "    if row == [0]\n",
    "        row = [i for i = 1 : size(M, 1)]\n",
    "    end\n",
    "    if col == [0]\n",
    "        col = [i for i = 1 : size(M, 2)]\n",
    "    end\n",
    "\n",
    "    N = copy(M)\n",
    "    perturbation = mod.(rand(Float64, length(row), length(col)), 2*atol).-atol\n",
    "    N[row, col] = M[row, col] + perturbation\n",
    "    return N\n",
    "end"
   ]
  },
  {
   "cell_type": "code",
   "execution_count": 7,
   "metadata": {},
   "outputs": [
    {
     "data": {
      "text/plain": [
       "oppositeHalfSpacePoints (generic function with 1 method)"
      ]
     },
     "execution_count": 7,
     "metadata": {},
     "output_type": "execute_result"
    }
   ],
   "source": [
    "function oppositeHalfSpacePoints(\n",
    "        P::Lar.Points,\n",
    "        face::Array{Float64,2},\n",
    "        point::Array{Float64,1}\n",
    "    )::Array{Int64,1}\n",
    "\n",
    "    dim, n = size(P)\n",
    "    noV = size(face, 2)\n",
    "    @assert dim <= 3 \"oppositeHalfSpacePoints: Not yet coded.\"\n",
    "    @assert noV == dim \"oppositeHalfSpacePoints:\n",
    "        Cannot determine opposite to non hyperplanes.\"\n",
    "    if dim == 1\n",
    "        threshold = face[1]\n",
    "        if point[1] < threshold\n",
    "            opposite = [i for i = 1 : n if P[1, i] > threshold]\n",
    "        else\n",
    "            opposite = [i for i = 1 : n if P[1, i] < threshold]\n",
    "        end\n",
    "    elseif dim == 2\n",
    "        if (Δx = face[1, 1] - face[1, 2]) != 0.0\n",
    "            m = (face[2, 1] - face[2, 2]) / Δx\n",
    "            q = face[2, 1] - m * face[1, 1]\n",
    "            # false = under the line, true = over the line\n",
    "            @assert point[2] ≠ m * point[1] + q \"oppositeHalfSpacePoints,\n",
    "                the point belongs to the face\"\n",
    "            side = sign(m * point[1] + q - point[2])\n",
    "            opposite =\n",
    "                [i for i = 1 : n if side * (m * P[1, i] + q - P[2, i]) < 0]\n",
    "        else\n",
    "            q = face[1, 1]\n",
    "            side = sign(point[1] - q)\n",
    "            opposite = [i for i = 1 : n if side * (P[1, i] - q) < 0]\n",
    "        end\n",
    "\n",
    "\n",
    "    elseif dim == 3\n",
    "        axis = Lar.cross(\n",
    "            face[:, 2] - face[:, 1],\n",
    "            face[:, 3] - face[:, 1]\n",
    "        )\n",
    "        off = Lar.dot(axis, face[:, 1])\n",
    "        position = Lar.dot(point, axis)\n",
    "        if position < off\n",
    "            opposite = [i for i = 1:size(P, 2) if Lar.dot(P[:,i], axis) > off]\n",
    "        else\n",
    "            opposite = [i for i = 1:size(P, 2) if Lar.dot(P[:,i], axis) < off]\n",
    "        end\n",
    "    end\n",
    "\n",
    "    return [\n",
    "        i for i in opposite\n",
    "        if sum([P[:, i] == face[:, j] for j = 1 : noV]) == 0\n",
    "    ]\n",
    "end"
   ]
  },
  {
   "cell_type": "code",
   "execution_count": 8,
   "metadata": {},
   "outputs": [
    {
     "data": {
      "text/plain": [
       "planarIntersection (generic function with 1 method)"
      ]
     },
     "execution_count": 8,
     "metadata": {},
     "output_type": "execute_result"
    }
   ],
   "source": [
    "function planarIntersection(\n",
    "        P::Lar.Points,\n",
    "        face::Array{Int64,1},\n",
    "        axis::Int64,\n",
    "        off::Float64\n",
    "    )::Int64\n",
    "\n",
    "    pos = [P[axis, i] > off for i in face]\n",
    "\n",
    "    if sum([P[axis, i] == off for i in face]) == length(pos)\n",
    "        position = 0 # face coplanar with axis\n",
    "    elseif sum(pos) == 0\n",
    "        position = -1\n",
    "    elseif sum(pos) == length(pos)\n",
    "        position = +1\n",
    "    else\n",
    "        position = 0\n",
    "    end\n",
    "\n",
    "    return position\n",
    "end"
   ]
  },
  {
   "cell_type": "code",
   "execution_count": 9,
   "metadata": {},
   "outputs": [
    {
     "data": {
      "text/plain": [
       "simplexFaces (generic function with 1 method)"
      ]
     },
     "execution_count": 9,
     "metadata": {},
     "output_type": "execute_result"
    }
   ],
   "source": [
    "function simplexFaces(σ::Array{Int64,1})::Array{Array{Int64,1},1}\n",
    "    sort!(sort!.(collect(Combinatorics.combinations(σ, length(σ)-1))))\n",
    "end"
   ]
  },
  {
   "cell_type": "code",
   "execution_count": 10,
   "metadata": {},
   "outputs": [
    {
     "data": {
      "text/plain": [
       "vertexInCircumball (generic function with 1 method)"
      ]
     },
     "execution_count": 10,
     "metadata": {},
     "output_type": "execute_result"
    }
   ],
   "source": [
    "function vertexInCircumball(\n",
    "        P::Lar.Points,\n",
    "        α_char::Float64,\n",
    "        point::Array{Float64,2}\n",
    "    )::Bool\n",
    "\n",
    "    center = findCenter(P)\n",
    "    return Lar.norm(point - center) <= α_char\n",
    "end"
   ]
  },
  {
   "cell_type": "code",
   "execution_count": 11,
   "metadata": {},
   "outputs": [
    {
     "data": {
      "text/plain": [
       "delaunayWall (generic function with 5 methods)"
      ]
     },
     "execution_count": 11,
     "metadata": {},
     "output_type": "execute_result"
    }
   ],
   "source": [
    "function delaunayWall(\n",
    "        P::Lar.Points,\n",
    "        ax = 1,\n",
    "        Pblack = Float64[],\n",
    "        AFL = Array{Int64,1}[],\n",
    "        tetraDict = DataStructures.Dict{Array{Int64,1},Array{Float64,1}}();\n",
    "        DEBUG = false\n",
    "    )::Lar.Cells\n",
    "\n",
    "    if DEBUG @show \"Delaunay Wall with parameters\" P ax AFL tetraDict end\n",
    "\n",
    "    # 0 - Data Reading and Container definition\n",
    "    DT = Array{Int64,1}[]\t\t# Delaunay Triangulation\n",
    "    AFLα = Array{Int64,1}[]\t\t# (d-1)faces intersecting the Wall\n",
    "    AFLplus = Array{Int64,1}[]  # (d-1)faces in positive Wall half-space\n",
    "    AFLminus = Array{Int64,1}[] # (d-1)faces in positive Wall half-space\n",
    "    off = findMedian(P, ax)\n",
    "    if !isempty(Pblack) Pext = [P Pblack] else Pext = copy(P) end\n",
    "\n",
    "    # 1 - Determine first simplex (if necessary)\n",
    "    if isempty(AFL)\n",
    "        @assert isempty(Pblack) \"delaunayWall: If AFL is empty => Pblack must be\"\n",
    "        @assert isempty(tetraDict) \"delaunayWall: If AFL is empty => tetraDict must be\"\n",
    "        σ = sort(firstDeWallSimplex(P, ax, off, DEBUG = DEBUG))\n",
    "        push!(DT, σ)\n",
    "        AFL = simplexFaces(σ)\n",
    "        updateTetraDict!(P, tetraDict, AFL, σ)\n",
    "    else\n",
    "        @assert !isempty(Pblack) \"delaunayWall: Data missing - Pblack\"\n",
    "        @assert !isempty(AFL) \"delaunayWall: Data missing - AFL\"\n",
    "        @assert !isempty(tetraDict) \"delaunayWall: Data missing - tetraDict\"\n",
    "    end\n",
    "\n",
    "    # 2 - Build `AFL*` according to the axis `ax` with constant term `off`\n",
    "    updateAFL!(\n",
    "        P, AFL, AFLα, AFLplus, AFLminus, ax, off, DEBUG = DEBUG\n",
    "    )\n",
    "\n",
    "    # 4 - Build simplex Wall\n",
    "    while !isempty(AFLα)\n",
    "        # if face ∈ keys(tetraDict) oppoint = tetraDict[face]\n",
    "        # else Pselection = setdiff([i for i = 1 : n], face) end\n",
    "        σ = findWallSimplex(\n",
    "                Pext, AFLα[1], tetraDict[AFLα[1]], size(P, 2), DEBUG = DEBUG\n",
    "            )\n",
    "        if σ != nothing && σ ∉ DT\n",
    "            push!(DT, σ)\n",
    "            AFL = simplexFaces(σ)\n",
    "            updateTetraDict!(P, tetraDict, AFL, σ)\n",
    "            # Split σ's Faces according in semi-spaces\n",
    "            updateAFL!(\n",
    "                P, AFL, AFLα, AFLplus, AFLminus, ax, off, DEBUG=DEBUG\n",
    "            )\n",
    "        else\n",
    "            @assert updatelist!(AFLα, AFLα[1]) == false \"delaunayWall:\n",
    "                Something unespected happends while removing a face.\"\n",
    "        end\n",
    "    end\n",
    "\n",
    "    # 5 - Change the axis `ax` and repeat until there are no faces but exposed.\n",
    "    #      A.K.A. Divide & Conquer phase.\n",
    "    if !isempty(AFLminus)\n",
    "        union!(DT, recursiveDelaunayWall(\n",
    "            P, Pblack, tetraDict, AFLminus, ax, off, false; DEBUG = DEBUG\n",
    "        ))\n",
    "    end\n",
    "    if !isempty(AFLplus)\n",
    "        union!(DT, recursiveDelaunayWall(\n",
    "            P, Pblack, tetraDict, AFLplus, ax, off, true; DEBUG = DEBUG\n",
    "        ))\n",
    "    end\n",
    "\n",
    "    return DT\n",
    "end"
   ]
  },
  {
   "cell_type": "code",
   "execution_count": 12,
   "metadata": {},
   "outputs": [
    {
     "data": {
      "text/plain": [
       "findWallSimplex (generic function with 2 methods)"
      ]
     },
     "execution_count": 12,
     "metadata": {},
     "output_type": "execute_result"
    }
   ],
   "source": [
    "function findWallSimplex(\n",
    "        P::Lar.Points,\n",
    "        face::Array{Int64,1},\n",
    "        oppoint::Array{Float64,1},\n",
    "        blackidx = size(P, 2);\n",
    "        DEBUG = false\n",
    "    )::Union{Array{Int64,1}, Nothing}\n",
    "\n",
    "    if DEBUG @show \"find Wall Simplex of\" face oppoint end\n",
    "    # Find the points in the halfspace defined by `face` that do not\n",
    "    #  containsother the other point of the simplex.\n",
    "    Pselection =\n",
    "        oppositeHalfSpacePoints(P, P[:, face], oppoint)\n",
    "\n",
    "    if DEBUG @show Pselection end\n",
    "\n",
    "    # If there are no such points than the face is part of the convex hull.\n",
    "    if isempty(Pselection)\n",
    "        return nothing\n",
    "    end\n",
    "\n",
    "    # Find the Closest Point in the other halfspace with respect to σ\n",
    "    #  according to dd-distance.\n",
    "    idxbase = Pselection[ findClosestPoint(\n",
    "        P[:, face], P[:, Pselection], metric = \"dd\"\n",
    "    ) ]\n",
    "\n",
    "    # @assert !isnothing(idxbase)\n",
    "    # if isnothing(idxbase)\n",
    "    # \treturn nothing\n",
    "    # end\n",
    "\n",
    "    # It prevent from adding the same simplex again (cause it has been\n",
    "    #  determined in a previous recursive call in the stacktrace).\n",
    "    if idxbase > blackidx\n",
    "        if DEBUG println(\"Excluding $face cause simplex already inside.\") end\n",
    "        return nothing\n",
    "    end\n",
    "\n",
    "    σ = sort([face; idxbase])\n",
    "    if DEBUG @show \"Found face\" σ end\n",
    "\n",
    "    # Check the simplex correctness\n",
    "    radius, center = findRadius(P[:, σ], true)\n",
    "    for i = 1 : size(P, 2)\n",
    "        if Lar.norm(center - P[:, i]) < radius - 1.e-14\n",
    "            # @assert i ∉ Pselection \"ERROR: Numerical error\n",
    "            # \tevaluating minimum radius for $σ\"\n",
    "            if DEBUG println(\"$σ discarded due to a closer point.\") end\n",
    "            return nothing\n",
    "        end\n",
    "    end\n",
    "\n",
    "    return σ\n",
    "end\n",
    "\n"
   ]
  },
  {
   "cell_type": "code",
   "execution_count": 13,
   "metadata": {},
   "outputs": [
    {
     "data": {
      "text/plain": [
       "firstDeWallSimplex (generic function with 1 method)"
      ]
     },
     "execution_count": 13,
     "metadata": {},
     "output_type": "execute_result"
    }
   ],
   "source": [
    "function firstDeWallSimplex(\n",
    "        P::Lar.Points,\n",
    "        ax::Int64,\n",
    "        off::Float64;\n",
    "        DEBUG = false\n",
    "    )::Array{Int64,1}\n",
    "\n",
    "    dim = size(P, 1)\n",
    "    n = size(P, 2)\n",
    "\n",
    "    if DEBUG println(\"Determine first Simplex with ax = $ax\") end\n",
    "    # the first point of the simplex is the one with coordinate `ax` maximal\n",
    "    #  such that it is less than `off` (closer to α from minus)\n",
    "\n",
    "    Pselection = findall(x -> x < off, P[ax, :])\n",
    "\n",
    "    # it gives an error if no point are less than `off`\n",
    "    #  in fact it means that all the points are located on the median,\n",
    "    #  with respect to `ax`.\n",
    "    @assert !isempty(Pselection) \"firstDeWallSimplex: not able to build the first Delaunay\n",
    "        dimplex; all the points have the same `ax` coordinate.\"\n",
    "    newidx = Pselection[findmax(P[ax, Pselection])[2]]\n",
    "    # indices will store the indices of the simplex ...\n",
    "    indices = [newidx]                      #Array{Int64,1}\n",
    "    # ... and `Psimplex` will store the corresponding points\n",
    "    Psimplex = P[:, newidx][:,:]    #Array{Float64,2}\n",
    "\n",
    "    # the second point must be seeken across those with coordinate `ax`\n",
    "    #  grater than `off`\n",
    "    Pselection = findall(x -> x > off, P[ax, :])\n",
    "\n",
    "    for d = 1 : dim\n",
    "        idxbase = findClosestPoint(Psimplex, P[:, Pselection])\n",
    "        @assert !isnothing(idxbase) \"firstDeWallSimplex:\n",
    "            not able to determine first Delaunay Simplex\"\n",
    "        newidx = Pselection[idxbase]\n",
    "        indices = [indices; newidx]\n",
    "        Psimplex = [Psimplex P[:, newidx]]\n",
    "        Pselection = [i for i = 1 : n if i ∉ indices]\n",
    "    end\n",
    "\n",
    "    # Correctness check\n",
    "    radius, center = findRadius(Psimplex, true)\n",
    "    for i = 1 : n\n",
    "        @assert Lar.norm(center - P[:, i]) >= radius \"firstDeWallSimplex:\n",
    "            Unable to find first Simplex.\"\n",
    "    end\n",
    "\n",
    "    if DEBUG println(\"First Simplex = $indices\") end\n",
    "\n",
    "    return indices\n",
    "end"
   ]
  },
  {
   "cell_type": "code",
   "execution_count": 14,
   "metadata": {},
   "outputs": [
    {
     "data": {
      "text/plain": [
       "recursiveDelaunayWall (generic function with 1 method)"
      ]
     },
     "execution_count": 14,
     "metadata": {},
     "output_type": "execute_result"
    }
   ],
   "source": [
    "function recursiveDelaunayWall(\n",
    "        P::Lar.Points,\n",
    "        Pblack::Array{Float64},\n",
    "        tetraDict::DataStructures.Dict{Array{Int64,1},Array{Float64,1}},\n",
    "        AFL::Array{Array{Int64,1},1},\n",
    "        ax::Int64,\n",
    "        off::Float64,\n",
    "        positive::Bool;\n",
    "        DEBUG = false\n",
    "    )::Lar.Cells\n",
    "\n",
    "    #DEBUG = true\n",
    "\n",
    "    dim, n = size(P)\n",
    "    newaxis = mod(ax, dim) + 1\n",
    "\n",
    "    if DEBUG println(\"Divide Plus/Minus $positive\") end\n",
    "\n",
    "    Psubset = findall(x -> (x > off) == positive, P[ax, :])\n",
    "    blacklist = setdiff(unique([(keys(tetraDict)...)...]), Psubset)\n",
    "    if !isempty(Pblack)\n",
    "        Pblack = [Pblack P[:, blacklist]]\n",
    "    else\n",
    "        Pblack = P[:, blacklist]\n",
    "    end\n",
    "\n",
    "    if DEBUG println(\"Step In\") end\n",
    "\n",
    "    DT = delaunayWall(\n",
    "            P[:, Psubset],\n",
    "            newaxis,\n",
    "            Pblack,\n",
    "            [[findall(Psubset.==p)[1] for p in σ] for σ in AFL],\n",
    "            Dict([\n",
    "                [findall(Psubset.==p)[1] for p in k] => v\n",
    "                for (k,v) in tetraDict\n",
    "                    if k ⊆ Psubset\n",
    "            ]),\n",
    "            DEBUG = DEBUG\n",
    "        )\n",
    "\n",
    "    if DEBUG @show \"Step Out with \" DT end\n",
    "\n",
    "    return [[Psubset[i] for i in σ] for σ in DT]\n",
    "end\n"
   ]
  },
  {
   "cell_type": "code",
   "execution_count": 15,
   "metadata": {},
   "outputs": [
    {
     "data": {
      "text/plain": [
       "updateAFL! (generic function with 1 method)"
      ]
     },
     "execution_count": 15,
     "metadata": {},
     "output_type": "execute_result"
    }
   ],
   "source": [
    "function updateAFL!(\n",
    "        P::Lar.Points,\n",
    "        newσ::Array{Array{Int64,1},1},\n",
    "        AFLα::Array{Array{Int64,1},1},\n",
    "        AFLplus::Array{Array{Int64,1},1},\n",
    "        AFLminus::Array{Array{Int64,1},1},\n",
    "        ax::Int64, off::Float64;\n",
    "        DEBUG = false\n",
    "    )::Bool\n",
    "\n",
    "    for face in newσ\n",
    "        inters = planarIntersection(P, face, ax, off)\n",
    "        if inters == 0 # intersected by plane α\n",
    "            updatelist!(AFLα, face)\n",
    "        elseif inters == -1 # in NegHalfspace(α)\n",
    "            updatelist!(AFLminus, face)\n",
    "        elseif inters == 1 # in PosHalfspace(α)\n",
    "            updatelist!(AFLplus, face)\n",
    "        else\n",
    "            return false\n",
    "        end\n",
    "    end\n",
    "\n",
    "    if DEBUG @show AFLα AFLminus AFLplus end\n",
    "\n",
    "    return true\n",
    "\n",
    "end\n"
   ]
  },
  {
   "cell_type": "code",
   "execution_count": 16,
   "metadata": {},
   "outputs": [
    {
     "data": {
      "text/plain": [
       "updatelist! (generic function with 1 method)"
      ]
     },
     "execution_count": 16,
     "metadata": {},
     "output_type": "execute_result"
    }
   ],
   "source": [
    "function updatelist!(list, element)::Bool\n",
    "    if element ∈ list\n",
    "        setdiff!(list, [element])\n",
    "        return false\n",
    "    else\n",
    "        push!(list, element)\n",
    "        return true\n",
    "    end\n",
    "end"
   ]
  },
  {
   "cell_type": "code",
   "execution_count": 17,
   "metadata": {},
   "outputs": [
    {
     "data": {
      "text/plain": [
       "updateTetraDict! (generic function with 1 method)"
      ]
     },
     "execution_count": 17,
     "metadata": {},
     "output_type": "execute_result"
    }
   ],
   "source": [
    "function updateTetraDict!(\n",
    "        P::Lar.Points,\n",
    "        tetraDict::DataStructures.Dict{Array{Int64,1},Array{Float64,1}},\n",
    "        AFL::Array{Array{Int64,1},1},\n",
    "        σ::Array{Int64,1}\n",
    "    )::Nothing\n",
    "    for cell in AFL\n",
    "        point = setdiff(σ, cell)\n",
    "        @assert length(point) == 1 \"updateTetraDict!: Error during update of TetraDict $σ, $cell\"\n",
    "        tetraDict[ cell ] = P[:, point[1]]\n",
    "    end\n",
    "end\n"
   ]
  },
  {
   "cell_type": "code",
   "execution_count": 18,
   "metadata": {},
   "outputs": [
    {
     "data": {
      "text/plain": [
       "alphaFilter (generic function with 2 methods)"
      ]
     },
     "execution_count": 18,
     "metadata": {},
     "output_type": "execute_result"
    }
   ],
   "source": [
    "function alphaFilter(\n",
    "        V::Lar.Points,\n",
    "        DT = Array{Int64,1}[];\n",
    "        digits=64\n",
    "    )::DataStructures.SortedDict{}\n",
    "\n",
    "    dim = size(V, 1)\n",
    "    filtration = DataStructures.SortedDict{Array{Int64,1},Float64}()\n",
    "\n",
    "    # 1 - Each point => alpha_char = 0.\n",
    "    for i = 1 : size(V, 2)\n",
    "        insert!(filtration, [i], 0.)\n",
    "    end\n",
    "\n",
    "    # 2 - Delaunay triangulation of ``V``\n",
    "    if isempty(DT)\n",
    "        DT = delaunayTriangulation(V)\n",
    "    end\n",
    "\n",
    "    n_upsimplex = length(DT)\n",
    "\n",
    "    # 3 - process all upper simplex\n",
    "    ind = 1\n",
    "    for upper_simplex in DT\n",
    "        if ind % 500000 == 0\n",
    "            println(ind,\" simplices processed of \", n_upsimplex)\n",
    "        end\n",
    "        processuppersimplex(V,upper_simplex,filtration; digits = digits)\n",
    "        ind = ind + 1\n",
    "    end\n",
    "\n",
    "    return filtration\n",
    "end"
   ]
  },
  {
   "cell_type": "code",
   "execution_count": 19,
   "metadata": {},
   "outputs": [
    {
     "data": {
      "text/plain": [
       "processuppersimplex (generic function with 1 method)"
      ]
     },
     "execution_count": 19,
     "metadata": {},
     "output_type": "execute_result"
    }
   ],
   "source": [
    "function processuppersimplex(\n",
    "        V::Lar.Points,\n",
    "        up_simplex::Array{Int64,1},\n",
    "        filtration::DataStructures.SortedDict{};\n",
    "        digits=64\n",
    "        )\n",
    "\n",
    "    α_char = findRadius(V[:, up_simplex], digits=digits);\n",
    "    insert!(filtration, up_simplex, α_char)\n",
    "\n",
    "    d = length(up_simplex)-1\n",
    "    if d > 1\n",
    "        # It gives back combinations in natural order\n",
    "        newsimplex = collect(Combinatorics.combinations(up_simplex,d))\n",
    "        for lowsimplex in newsimplex\n",
    "            processlowsimplex(V, up_simplex, lowsimplex, filtration; digits=digits)\n",
    "        end\n",
    "    end\n",
    "end"
   ]
  },
  {
   "cell_type": "code",
   "execution_count": 20,
   "metadata": {},
   "outputs": [
    {
     "data": {
      "text/plain": [
       "processlowsimplex (generic function with 1 method)"
      ]
     },
     "execution_count": 20,
     "metadata": {},
     "output_type": "execute_result"
    }
   ],
   "source": [
    "function processlowsimplex(\n",
    "    V::Lar.Points,\n",
    "    up_simplex::Array{Int64,1},\n",
    "    lowsimplex::Array{Int64,1},\n",
    "    filtration::DataStructures.SortedDict{};\n",
    "    digits=64)\n",
    "\n",
    "    α_char = findRadius(V[:, lowsimplex], digits=digits)\n",
    "    point = V[:, setdiff(up_simplex, lowsimplex)]\n",
    "\n",
    "    if vertexInCircumball(V[:, lowsimplex], α_char, point)\n",
    "        filtration[lowsimplex] = filtration[up_simplex]\n",
    "\n",
    "    elseif !haskey(filtration, lowsimplex)\n",
    "        filtration[lowsimplex] = α_char\n",
    "\n",
    "    end\n",
    "\n",
    "    d = length(lowsimplex)-1\n",
    "    if d > 1\n",
    "        # It gives back combinations in natural order\n",
    "        newsimplex = collect(Combinatorics.combinations(lowsimplex,d))\n",
    "        for simplex in newsimplex\n",
    "             processlowsimplex(V, lowsimplex, simplex, filtration, digits=digits)\n",
    "        end\n",
    "    end\n",
    "end\n"
   ]
  },
  {
   "cell_type": "code",
   "execution_count": 21,
   "metadata": {},
   "outputs": [
    {
     "data": {
      "text/plain": [
       "alphaSimplex (generic function with 1 method)"
      ]
     },
     "execution_count": 21,
     "metadata": {},
     "output_type": "execute_result"
    }
   ],
   "source": [
    "function alphaSimplex(\n",
    "        V::Lar.Points,\n",
    "        filtration::DataStructures.SortedDict{},\n",
    "        α_threshold::Float64\n",
    "    )::Array{Lar.Cells,1}\n",
    "\n",
    "    dim = size(V, 1)\n",
    "    # [VV, EV, FV, ...]\n",
    "    simplexCollection = [ Array{Array{Int64,1},1}() for i = 1 : dim+1 ]\n",
    "\n",
    "    for (k, v) in filtration\n",
    "        if v <= α_threshold\n",
    "            push!(simplexCollection[length(k)], k)\n",
    "        end\n",
    "    end\n",
    "\n",
    "    sort!.(simplexCollection)\n",
    "\n",
    "    return simplexCollection\n",
    "end"
   ]
  },
  {
   "cell_type": "code",
   "execution_count": 22,
   "metadata": {},
   "outputs": [
    {
     "data": {
      "text/plain": [
       "delaunayTriangulation (generic function with 1 method)"
      ]
     },
     "execution_count": 22,
     "metadata": {},
     "output_type": "execute_result"
    }
   ],
   "source": [
    "function delaunayTriangulation(V::Lar.Points)::Lar.Cells\n",
    "    dim = size(V, 1)\n",
    "    @assert dim > 0 \"delaunayTriangulation: V do not contains points.\"\n",
    "    @assert dim < 4 \"delaunayTriangulation: Function not yet Programmed.\"\n",
    "\n",
    "    if dim == 1\n",
    "        vertices = vcat(V...)\n",
    "        p = sortperm(vertices)\n",
    "        upper_simplex = [[p[i],p[i+1]] for i=1:length(p)-1]\n",
    "\n",
    "    elseif dim == 2\n",
    "        vertices = convert(Array{Float64,2},V')\n",
    "        points_map = Array{Int64,1}(collect(1:1:size(vertices)[1]))\n",
    "        @assert size(vertices, 1) > 3\n",
    "        upper_simplex = Triangle.basic_triangulation(vertices, points_map)\n",
    "\n",
    "    elseif dim == 3\n",
    "        upper_simplex = delaunayWall(V)\n",
    "    end\n",
    "\n",
    "    sort!.(upper_simplex)\n",
    "\n",
    "    return sort(upper_simplex)\n",
    "end"
   ]
  },
  {
   "cell_type": "markdown",
   "metadata": {},
   "source": [
    "# Esempio 3D (utilizzando le funzioni del vecchio modulo)"
   ]
  },
  {
   "cell_type": "code",
   "execution_count": 23,
   "metadata": {},
   "outputs": [
    {
     "data": {
      "text/plain": [
       "529×3 Array{Float64,2}:\n",
       " 20.2617   3.9956  22.3469\n",
       " 19.2515  -1.1209  22.3469\n",
       " 19.0837  -1.0495  23.0343\n",
       " 20.0799   3.9956  23.0343\n",
       " 19.2783  -1.1323  23.2634\n",
       " 20.2908   3.9956  23.2634\n",
       " 19.6742  -1.3008  23.0343\n",
       " 20.72     3.9956  23.0343\n",
       " 20.1104  -1.4864  22.3469\n",
       " 21.1929   3.9956  22.3469\n",
       " 16.4814  -5.2597  22.3469\n",
       " 16.3523  -5.1306  23.0343\n",
       " 16.5021  -5.2804  23.2634\n",
       "  ⋮                \n",
       "  8.8935   7.9146  24.3109\n",
       " 10.2411  11.082   23.7435\n",
       " 11.4517  13.9273  23.1761\n",
       " 11.9771  15.162   22.3469\n",
       " 10.2423   7.0118  24.3109\n",
       " 12.6801   9.4496  23.7435\n",
       " 14.87    11.6395  23.1761\n",
       " 15.8203  12.5898  22.3469\n",
       " 11.1451   5.663   24.3109\n",
       " 14.3125   7.0107  23.7435\n",
       " 17.1578   8.2213  23.1761\n",
       " 18.3925   8.7466  22.3469"
      ]
     },
     "execution_count": 23,
     "metadata": {},
     "output_type": "execute_result"
    }
   ],
   "source": [
    "using LinearAlgebraicRepresentation, ViewerGL\n",
    "using BenchmarkTools\n",
    "using Distributed\n",
    "GL = ViewerGL\n",
    "filename = \"../examples/examples3D/OBJ/teapot.obj\";\n",
    "\n",
    "W, EVs, FVs = Lar.obj2lar(filename);\n",
    "WW = [[i] for i = 1:size(W, 2)];\n",
    "V, VV = Lar.apply(Lar.r(pi / 2, 0, 0), (W, WW)); #object rotated\n",
    "\n",
    "points = convert(Lar.Points, V')\n",
    "#=\n",
    "GL.VIEW([\n",
    "    GL.GLPoints(points)\n",
    "    GL.GLAxis(GL.Point3d(-1, -1, -1), GL.Point3d(1, 1, 1))\n",
    "]);\n",
    "=#"
   ]
  },
  {
   "cell_type": "code",
   "execution_count": 24,
   "metadata": {},
   "outputs": [
    {
     "name": "stdout",
     "output_type": "stream",
     "text": [
      "  6.362 s (51972796 allocations: 4.07 GiB)\n"
     ]
    }
   ],
   "source": [
    "@btime filtration = alphaFilter(V); # 8.448 s (51918223 allocations: 4.07 GiB)"
   ]
  },
  {
   "cell_type": "code",
   "execution_count": 25,
   "metadata": {},
   "outputs": [],
   "source": [
    "@benchmark filtration = alphaFilter(V);"
   ]
  },
  {
   "cell_type": "code",
   "execution_count": 26,
   "metadata": {},
   "outputs": [
    {
     "name": "stdout",
     "output_type": "stream",
     "text": [
      "Variables\n",
      "  #self#\u001b[36m::Core.Compiler.Const(alphaFilter, false)\u001b[39m\n",
      "  V\u001b[36m::Array{Float64,2}\u001b[39m\n",
      "\n",
      "Body\u001b[36m::SortedDict{Array{Int64,1},Float64,Base.Order.ForwardOrdering}\u001b[39m\n",
      "\u001b[90m1 ─\u001b[39m %1 = Core.apply_type(Main.Array, Main.Int64, 1)\u001b[36m::Core.Compiler.Const(Array{Int64,1}, false)\u001b[39m\n",
      "\u001b[90m│  \u001b[39m %2 = Base.getindex(%1)\u001b[36m::Array{Array{Int64,1},1}\u001b[39m\n",
      "\u001b[90m│  \u001b[39m %3 = (#self#)(V, %2)\u001b[36m::SortedDict{Array{Int64,1},Float64,Base.Order.ForwardOrdering}\u001b[39m\n",
      "\u001b[90m└──\u001b[39m      return %3\n"
     ]
    }
   ],
   "source": [
    "@code_warntype alphaFilter(V);"
   ]
  },
  {
   "cell_type": "code",
   "execution_count": 27,
   "metadata": {},
   "outputs": [],
   "source": [
    "filtration = alphaFilter(V);"
   ]
  },
  {
   "cell_type": "code",
   "execution_count": 28,
   "metadata": {},
   "outputs": [
    {
     "name": "stdout",
     "output_type": "stream",
     "text": [
      "  1.824 ms (55 allocations: 205.47 KiB)\n"
     ]
    },
    {
     "data": {
      "text/plain": [
       "4-element Array{Array{Array{Int64,1},1},1}:\n",
       " [[1], [2], [3], [4], [5], [6], [7], [8], [9], [10]  …  [520], [521], [522], [523], [524], [525], [526], [527], [528], [529]]\n",
       " [[1, 2], [1, 3], [1, 4], [1, 8], [1, 10], [1, 76], [1, 77], [1, 82], [1, 472], [1, 473]  …  [523, 524], [523, 527], [523, 528], [524, 525], [524, 528], [524, 529], [525, 529], [526, 527], [527, 528], [528, 529]]\n",
       " [[1, 2, 3], [1, 2, 8], [1, 2, 10], [1, 2, 472], [1, 3, 4], [1, 3, 8], [1, 3, 472], [1, 4, 8], [1, 4, 77], [1, 4, 472]  …  [519, 522, 523], [520, 521, 524], [520, 523, 524], [521, 524, 525], [522, 523, 527], [522, 526, 527], [523, 524, 528], [523, 527, 528], [524, 525, 529], [524, 528, 529]]\n",
       " [[1, 2, 3, 8], [1, 2, 3, 472], [1, 2, 8, 10], [1, 3, 4, 8], [1, 3, 4, 472], [1, 4, 8, 77], [1, 4, 77, 529], [1, 4, 472, 473], [1, 4, 473, 529], [1, 8, 10, 76]  …  [459, 460, 518, 522], [459, 460, 522, 526], [460, 461, 464, 465], [460, 461, 465, 526], [460, 461, 518, 522], [460, 461, 522, 526], [460, 463, 464, 526], [460, 464, 465, 526], [463, 464, 467, 526], [464, 465, 467, 526]]"
      ]
     },
     "execution_count": 28,
     "metadata": {},
     "output_type": "execute_result"
    }
   ],
   "source": [
    "@btime VV, EV, FV, TV = alphaSimplex(V, filtration, 3.7) # 2.156 ms (55 allocations: 205.47 KiB)"
   ]
  },
  {
   "cell_type": "code",
   "execution_count": 29,
   "metadata": {},
   "outputs": [
    {
     "data": {
      "text/plain": [
       "BenchmarkTools.Trial: \n",
       "  memory estimate:  205.47 KiB\n",
       "  allocs estimate:  55\n",
       "  --------------\n",
       "  minimum time:     1.797 ms (0.00% GC)\n",
       "  median time:      2.078 ms (0.00% GC)\n",
       "  mean time:        2.337 ms (1.19% GC)\n",
       "  maximum time:     12.469 ms (0.00% GC)\n",
       "  --------------\n",
       "  samples:          2134\n",
       "  evals/sample:     1"
      ]
     },
     "execution_count": 29,
     "metadata": {},
     "output_type": "execute_result"
    }
   ],
   "source": [
    "@benchmark VV, EV, FV, TV = alphaSimplex(V, filtration, 3.7)"
   ]
  },
  {
   "cell_type": "code",
   "execution_count": 30,
   "metadata": {},
   "outputs": [
    {
     "name": "stdout",
     "output_type": "stream",
     "text": [
      "Variables\n",
      "  #self#\u001b[36m::Core.Compiler.Const(alphaSimplex, false)\u001b[39m\n",
      "  V\u001b[36m::Array{Float64,2}\u001b[39m\n",
      "  filtration\u001b[36m::SortedDict{Array{Int64,1},Float64,Base.Order.ForwardOrdering}\u001b[39m\n",
      "  α_threshold\u001b[36m::Float64\u001b[39m\n",
      "  #56\u001b[36m::var\"#56#57\"\u001b[39m\n",
      "  dim\u001b[36m::Int64\u001b[39m\n",
      "  simplexCollection\u001b[36m::Array{Array{Array{Int64,1},1},1}\u001b[39m\n",
      "  @_8\u001b[33m\u001b[1m::Union{Nothing, Tuple{Pair{Array{Int64,1},Float64},DataStructures.SAIterationState}}\u001b[22m\u001b[39m\n",
      "  k\u001b[36m::Array{Int64,1}\u001b[39m\n",
      "  v\u001b[36m::Float64\u001b[39m\n",
      "  @_11\u001b[36m::Int64\u001b[39m\n",
      "\n",
      "Body\u001b[91m\u001b[1m::Array{_A,1} where _A\u001b[22m\u001b[39m\n",
      "\u001b[90m1 ─\u001b[39m %1  = Base.getproperty(Main.Lar, :Cells)\u001b[91m\u001b[1m::Any\u001b[22m\u001b[39m\n",
      "\u001b[90m│  \u001b[39m %2  = Core.apply_type(Main.Array, %1, 1)\u001b[91m\u001b[1m::Type{Array{_A,1}} where _A\u001b[22m\u001b[39m\n",
      "\u001b[90m│  \u001b[39m       (dim = Main.size(V, 1))\n",
      "\u001b[90m│  \u001b[39m       (#56 = %new(Main.:(var\"#56#57\")))\n",
      "\u001b[90m│  \u001b[39m %5  = #56\u001b[36m::Core.Compiler.Const(var\"#56#57\"(), false)\u001b[39m\n",
      "\u001b[90m│  \u001b[39m %6  = (dim + 1)\u001b[36m::Int64\u001b[39m\n",
      "\u001b[90m│  \u001b[39m %7  = (1:%6)\u001b[36m::Core.Compiler.PartialStruct(UnitRange{Int64}, Any[Core.Compiler.Const(1, false), Int64])\u001b[39m\n",
      "\u001b[90m│  \u001b[39m %8  = Base.Generator(%5, %7)\u001b[36m::Core.Compiler.PartialStruct(Base.Generator{UnitRange{Int64},var\"#56#57\"}, Any[Core.Compiler.Const(var\"#56#57\"(), false), Core.Compiler.PartialStruct(UnitRange{Int64}, Any[Core.Compiler.Const(1, false), Int64])])\u001b[39m\n",
      "\u001b[90m│  \u001b[39m       (simplexCollection = Base.collect(%8))\n",
      "\u001b[90m│  \u001b[39m %10 = filtration\u001b[36m::SortedDict{Array{Int64,1},Float64,Base.Order.ForwardOrdering}\u001b[39m\n",
      "\u001b[90m│  \u001b[39m       (@_8 = Base.iterate(%10))\n",
      "\u001b[90m│  \u001b[39m %12 = (@_8 === nothing)\u001b[36m::Bool\u001b[39m\n",
      "\u001b[90m│  \u001b[39m %13 = Base.not_int(%12)\u001b[36m::Bool\u001b[39m\n",
      "\u001b[90m└──\u001b[39m       goto #6 if not %13\n",
      "\u001b[90m2 ┄\u001b[39m %15 = @_8::Tuple{Pair{Array{Int64,1},Float64},DataStructures.SAIterationState}\u001b[36m::Tuple{Pair{Array{Int64,1},Float64},DataStructures.SAIterationState}\u001b[39m\n",
      "\u001b[90m│  \u001b[39m %16 = Core.getfield(%15, 1)\u001b[36m::Pair{Array{Int64,1},Float64}\u001b[39m\n",
      "\u001b[90m│  \u001b[39m %17 = Base.indexed_iterate(%16, 1)\u001b[36m::Core.Compiler.PartialStruct(Tuple{Array{Int64,1},Int64}, Any[Array{Int64,1}, Core.Compiler.Const(2, false)])\u001b[39m\n",
      "\u001b[90m│  \u001b[39m       (k = Core.getfield(%17, 1))\n",
      "\u001b[90m│  \u001b[39m       (@_11 = Core.getfield(%17, 2))\n",
      "\u001b[90m│  \u001b[39m %20 = Base.indexed_iterate(%16, 2, @_11::Core.Compiler.Const(2, false))\u001b[36m::Core.Compiler.PartialStruct(Tuple{Float64,Int64}, Any[Float64, Core.Compiler.Const(3, false)])\u001b[39m\n",
      "\u001b[90m│  \u001b[39m       (v = Core.getfield(%20, 1))\n",
      "\u001b[90m│  \u001b[39m %22 = Core.getfield(%15, 2)\u001b[36m::DataStructures.SAIterationState\u001b[39m\n",
      "\u001b[90m│  \u001b[39m %23 = (v <= α_threshold)\u001b[36m::Bool\u001b[39m\n",
      "\u001b[90m└──\u001b[39m       goto #4 if not %23\n",
      "\u001b[90m3 ─\u001b[39m %25 = simplexCollection\u001b[36m::Array{Array{Array{Int64,1},1},1}\u001b[39m\n",
      "\u001b[90m│  \u001b[39m %26 = Main.length(k)\u001b[36m::Int64\u001b[39m\n",
      "\u001b[90m│  \u001b[39m %27 = Base.getindex(%25, %26)\u001b[36m::Array{Array{Int64,1},1}\u001b[39m\n",
      "\u001b[90m└──\u001b[39m       Main.push!(%27, k)\n",
      "\u001b[90m4 ┄\u001b[39m       (@_8 = Base.iterate(%10, %22))\n",
      "\u001b[90m│  \u001b[39m %30 = (@_8 === nothing)\u001b[36m::Bool\u001b[39m\n",
      "\u001b[90m│  \u001b[39m %31 = Base.not_int(%30)\u001b[36m::Bool\u001b[39m\n",
      "\u001b[90m└──\u001b[39m       goto #6 if not %31\n",
      "\u001b[90m5 ─\u001b[39m       goto #2\n",
      "\u001b[90m6 ┄\u001b[39m %34 = Base.broadcasted(Main.sort!, simplexCollection)\u001b[36m::Base.Broadcast.Broadcasted{Base.Broadcast.DefaultArrayStyle{1},Nothing,typeof(sort!),Tuple{Array{Array{Array{Int64,1},1},1}}}\u001b[39m\n",
      "\u001b[90m│  \u001b[39m       Base.materialize(%34)\n",
      "\u001b[90m│  \u001b[39m %36 = Base.convert(%2, simplexCollection)\u001b[91m\u001b[1m::Any\u001b[22m\u001b[39m\n",
      "\u001b[90m│  \u001b[39m %37 = Core.typeassert(%36, %2)\u001b[91m\u001b[1m::Array{_A,1} where _A\u001b[22m\u001b[39m\n",
      "\u001b[90m└──\u001b[39m       return %37\n"
     ]
    }
   ],
   "source": [
    "@code_warntype alphaSimplex(V, filtration, 3.7)"
   ]
  },
  {
   "cell_type": "code",
   "execution_count": 31,
   "metadata": {},
   "outputs": [
    {
     "name": "stdout",
     "output_type": "stream",
     "text": [
      "α = 1.6383300768295206\n",
      "  657.194 μs (20 allocations: 19.34 KiB)\n",
      "α = 3.049671032083734\n",
      "  663.241 μs (20 allocations: 19.34 KiB)\n",
      "α = 3.3489573138497453\n",
      "  670.733 μs (20 allocations: 19.34 KiB)\n",
      "α = 4.349810176765581\n",
      "  666.734 μs (20 allocations: 19.34 KiB)\n",
      "α = 6.506397853235929\n",
      "  663.602 μs (20 allocations: 19.34 KiB)\n",
      "α = 8.649784947534581\n",
      "  664.548 μs (20 allocations: 19.34 KiB)\n",
      "α = 9.391321883831578\n",
      "  682.384 μs (20 allocations: 19.34 KiB)\n",
      "α = 27.872864658076487\n",
      "  660.378 μs (20 allocations: 19.34 KiB)\n",
      "α = 628.3730508750065\n",
      "  661.621 μs (20 allocations: 19.34 KiB)\n",
      "α = 49845.150419260535\n",
      "  662.572 μs (20 allocations: 19.34 KiB)\n",
      "α = Inf\n",
      "  668.429 μs (20 allocations: 19.34 KiB)\n"
     ]
    }
   ],
   "source": [
    "VV, EV, FV, TV = alphaSimplex(V, filtration, 3.7)\n",
    "#=\n",
    "GL.VIEW([\n",
    "    GL.GLGrid(V, EV, GL.COLORS[1], 0.6) # White\n",
    "    GL.GLGrid(V, FV, GL.COLORS[2], 0.3) # Red\n",
    "    GL.GLGrid(V, TV, GL.COLORS[3], 0.3) # Green\n",
    "]);\n",
    "=#\n",
    "filter_key = sort(unique(values(filtration)))\n",
    "\n",
    "granular = 10\n",
    "\n",
    "reduced_filter =\n",
    "    filter_key[sort(abs.(rand(Int, granular) .% length(filter_key)))]\n",
    "reduced_filter = [reduced_filter; max(filter_key...)]\n",
    "\n",
    "α=0.0\n",
    "for α in reduced_filter\n",
    "    @show α\n",
    "    @btime VVV, EEV, FFV, TTV = alphaSimplex(V, filtration, α) # 772.066 μs (20 allocations: 19.34 KiB) in media\n",
    "end"
   ]
  },
  {
   "cell_type": "markdown",
   "metadata": {},
   "source": [
    "# Esempio 3D (utilizzando le funzioni del nuovo modulo)"
   ]
  },
  {
   "cell_type": "code",
   "execution_count": 32,
   "metadata": {},
   "outputs": [
    {
     "data": {
      "text/plain": [
       "529×3 Array{Float64,2}:\n",
       " 20.2617   3.9956  22.3469\n",
       " 19.2515  -1.1209  22.3469\n",
       " 19.0837  -1.0495  23.0343\n",
       " 20.0799   3.9956  23.0343\n",
       " 19.2783  -1.1323  23.2634\n",
       " 20.2908   3.9956  23.2634\n",
       " 19.6742  -1.3008  23.0343\n",
       " 20.72     3.9956  23.0343\n",
       " 20.1104  -1.4864  22.3469\n",
       " 21.1929   3.9956  22.3469\n",
       " 16.4814  -5.2597  22.3469\n",
       " 16.3523  -5.1306  23.0343\n",
       " 16.5021  -5.2804  23.2634\n",
       "  ⋮                \n",
       "  8.8935   7.9146  24.3109\n",
       " 10.2411  11.082   23.7435\n",
       " 11.4517  13.9273  23.1761\n",
       " 11.9771  15.162   22.3469\n",
       " 10.2423   7.0118  24.3109\n",
       " 12.6801   9.4496  23.7435\n",
       " 14.87    11.6395  23.1761\n",
       " 15.8203  12.5898  22.3469\n",
       " 11.1451   5.663   24.3109\n",
       " 14.3125   7.0107  23.7435\n",
       " 17.1578   8.2213  23.1761\n",
       " 18.3925   8.7466  22.3469"
      ]
     },
     "execution_count": 32,
     "metadata": {},
     "output_type": "execute_result"
    }
   ],
   "source": [
    "using LinearAlgebraicRepresentation, ViewerGL\n",
    "using BenchmarkTools\n",
    "using Distributed\n",
    "GL = ViewerGL\n",
    "filename = \"../examples/examples3D/OBJ/teapot.obj\";\n",
    "\n",
    "W, EVs, FVs = Lar.obj2lar(filename);\n",
    "WW = [[i] for i = 1:size(W, 2)];\n",
    "V, VV = Lar.apply(Lar.r(pi / 2, 0, 0), (W, WW)); #object rotated\n",
    "\n",
    "points = convert(Lar.Points, V')\n",
    "#=\n",
    "GL.VIEW([\n",
    "    GL.GLPoints(points)\n",
    "    GL.GLAxis(GL.Point3d(-1, -1, -1), GL.Point3d(1, 1, 1))\n",
    "]);\n",
    "=#"
   ]
  },
  {
   "cell_type": "code",
   "execution_count": 33,
   "metadata": {},
   "outputs": [
    {
     "name": "stdout",
     "output_type": "stream",
     "text": [
      "  4.982 s (33370572 allocations: 3.73 GiB)\n"
     ]
    }
   ],
   "source": [
    "@btime filtration = AlphaStructures.alphaFilter(V); # 5.039 s (35330571 allocations: 3.80 GiB)"
   ]
  },
  {
   "cell_type": "code",
   "execution_count": 34,
   "metadata": {},
   "outputs": [],
   "source": [
    "@benchmark filtration = AlphaStructures.alphaFilter(V);"
   ]
  },
  {
   "cell_type": "code",
   "execution_count": 35,
   "metadata": {},
   "outputs": [
    {
     "name": "stdout",
     "output_type": "stream",
     "text": [
      "Variables\n",
      "  #self#\u001b[36m::Core.Compiler.Const(Main.AlphaStructures.alphaFilter, false)\u001b[39m\n",
      "  V\u001b[36m::Array{Float64,2}\u001b[39m\n",
      "\n",
      "Body\u001b[36m::SortedDict{Array{Int64,1},Float64,Base.Order.ForwardOrdering}\u001b[39m\n",
      "\u001b[90m1 ─\u001b[39m %1 = Core.apply_type(Main.AlphaStructures.Array, Main.AlphaStructures.Int64, 1)\u001b[36m::Core.Compiler.Const(Array{Int64,1}, false)\u001b[39m\n",
      "\u001b[90m│  \u001b[39m %2 = Base.getindex(%1)\u001b[36m::Array{Array{Int64,1},1}\u001b[39m\n",
      "\u001b[90m│  \u001b[39m %3 = (#self#)(V, %2)\u001b[36m::SortedDict{Array{Int64,1},Float64,Base.Order.ForwardOrdering}\u001b[39m\n",
      "\u001b[90m└──\u001b[39m      return %3\n"
     ]
    }
   ],
   "source": [
    "@code_warntype AlphaStructures.alphaFilter(V);"
   ]
  },
  {
   "cell_type": "code",
   "execution_count": 36,
   "metadata": {},
   "outputs": [],
   "source": [
    "filtration = AlphaStructures.alphaFilter(V);"
   ]
  },
  {
   "cell_type": "code",
   "execution_count": 37,
   "metadata": {},
   "outputs": [
    {
     "name": "stdout",
     "output_type": "stream",
     "text": [
      "  1.811 ms (55 allocations: 205.47 KiB)\n"
     ]
    },
    {
     "data": {
      "text/plain": [
       "4-element Array{Array{Array{Int64,1},1},1}:\n",
       " [[1], [2], [3], [4], [5], [6], [7], [8], [9], [10]  …  [520], [521], [522], [523], [524], [525], [526], [527], [528], [529]]\n",
       " [[1, 2], [1, 3], [1, 4], [1, 8], [1, 10], [1, 76], [1, 77], [1, 82], [1, 472], [1, 473]  …  [523, 524], [523, 527], [523, 528], [524, 525], [524, 528], [524, 529], [525, 529], [526, 527], [527, 528], [528, 529]]\n",
       " [[1, 2, 3], [1, 2, 8], [1, 2, 10], [1, 2, 472], [1, 3, 4], [1, 3, 8], [1, 3, 472], [1, 4, 8], [1, 4, 77], [1, 4, 472]  …  [519, 522, 523], [520, 521, 524], [520, 523, 524], [521, 524, 525], [522, 523, 527], [522, 526, 527], [523, 524, 528], [523, 527, 528], [524, 525, 529], [524, 528, 529]]\n",
       " [[1, 2, 3, 8], [1, 2, 3, 472], [1, 2, 8, 10], [1, 3, 4, 8], [1, 3, 4, 472], [1, 4, 8, 77], [1, 4, 77, 529], [1, 4, 472, 473], [1, 4, 473, 529], [1, 8, 10, 76]  …  [459, 460, 518, 522], [459, 460, 522, 526], [460, 461, 464, 465], [460, 461, 465, 526], [460, 461, 518, 522], [460, 461, 522, 526], [460, 463, 464, 526], [460, 464, 465, 526], [463, 464, 467, 526], [464, 465, 467, 526]]"
      ]
     },
     "execution_count": 37,
     "metadata": {},
     "output_type": "execute_result"
    }
   ],
   "source": [
    "@btime VV, EV, FV, TV = AlphaStructures.alphaSimplex(V, filtration, 3.7) # 2.110 ms (55 allocations: 205.47 KiB)"
   ]
  },
  {
   "cell_type": "code",
   "execution_count": 38,
   "metadata": {},
   "outputs": [
    {
     "data": {
      "text/plain": [
       "BenchmarkTools.Trial: \n",
       "  memory estimate:  205.47 KiB\n",
       "  allocs estimate:  55\n",
       "  --------------\n",
       "  minimum time:     1.862 ms (0.00% GC)\n",
       "  median time:      2.160 ms (0.00% GC)\n",
       "  mean time:        2.401 ms (1.15% GC)\n",
       "  maximum time:     17.073 ms (0.00% GC)\n",
       "  --------------\n",
       "  samples:          2081\n",
       "  evals/sample:     1"
      ]
     },
     "execution_count": 38,
     "metadata": {},
     "output_type": "execute_result"
    }
   ],
   "source": [
    "@benchmark VV, EV, FV, TV = AlphaStructures.alphaSimplex(V, filtration, 3.7)"
   ]
  },
  {
   "cell_type": "code",
   "execution_count": 39,
   "metadata": {},
   "outputs": [
    {
     "name": "stdout",
     "output_type": "stream",
     "text": [
      "Variables\n",
      "  #self#\u001b[36m::Core.Compiler.Const(Main.AlphaStructures.alphaSimplex, false)\u001b[39m\n",
      "  V\u001b[36m::Array{Float64,2}\u001b[39m\n",
      "  filtration\u001b[36m::SortedDict{Array{Int64,1},Float64,Base.Order.ForwardOrdering}\u001b[39m\n",
      "  α_threshold\u001b[36m::Float64\u001b[39m\n",
      "  #12\u001b[36m::Main.AlphaStructures.var\"#12#13\"{Array{Float64,2},SortedDict{Array{Int64,1},Float64,Base.Order.ForwardOrdering},Float64}\u001b[39m\n",
      "\n",
      "Body\u001b[36m::Array{Array{Array{Int64,1},1},1}\u001b[39m\n",
      "\u001b[90m1 ─\u001b[39m %1  = LinearAlgebraicRepresentation.Cells\u001b[36m::Core.Compiler.Const(Array{Array{Int64,1},1}, false)\u001b[39m\n",
      "\u001b[90m│  \u001b[39m %2  = Core.apply_type(Main.AlphaStructures.Array, %1, 1)\u001b[36m::Core.Compiler.Const(Array{Array{Array{Int64,1},1},1}, false)\u001b[39m\n",
      "\u001b[90m│  \u001b[39m %3  = Main.AlphaStructures.:(var\"#12#13\")\u001b[36m::Core.Compiler.Const(Main.AlphaStructures.var\"#12#13\", false)\u001b[39m\n",
      "\u001b[90m│  \u001b[39m %4  = Core.typeof(V)\u001b[36m::Core.Compiler.Const(Array{Float64,2}, false)\u001b[39m\n",
      "\u001b[90m│  \u001b[39m %5  = Core.typeof(filtration)\u001b[36m::Core.Compiler.Const(SortedDict{Array{Int64,1},Float64,Base.Order.ForwardOrdering}, false)\u001b[39m\n",
      "\u001b[90m│  \u001b[39m %6  = Core.typeof(α_threshold)\u001b[36m::Core.Compiler.Const(Float64, false)\u001b[39m\n",
      "\u001b[90m│  \u001b[39m %7  = Core.apply_type(%3, %4, %5, %6)\u001b[36m::Core.Compiler.Const(Main.AlphaStructures.var\"#12#13\"{Array{Float64,2},SortedDict{Array{Int64,1},Float64,Base.Order.ForwardOrdering},Float64}, false)\u001b[39m\n",
      "\u001b[90m│  \u001b[39m       (#12 = %new(%7, V, filtration, α_threshold))\n",
      "\u001b[90m│  \u001b[39m %9  = #12\u001b[36m::Main.AlphaStructures.var\"#12#13\"{Array{Float64,2},SortedDict{Array{Int64,1},Float64,Base.Order.ForwardOrdering},Float64}\u001b[39m\n",
      "\u001b[90m│  \u001b[39m %10 = (TimerOutputs.timeit)(%9, Main.AlphaStructures.to, \"alphaSimplex\")\u001b[36m::Array{Array{Array{Int64,1},1},1}\u001b[39m\n",
      "\u001b[90m│  \u001b[39m %11 = Base.convert(%2, %10)\u001b[36m::Array{Array{Array{Int64,1},1},1}\u001b[39m\n",
      "\u001b[90m│  \u001b[39m %12 = Core.typeassert(%11, %2)\u001b[36m::Array{Array{Array{Int64,1},1},1}\u001b[39m\n",
      "\u001b[90m└──\u001b[39m       return %12\n"
     ]
    }
   ],
   "source": [
    "@code_warntype AlphaStructures.alphaSimplex(V, filtration, 3.7)"
   ]
  },
  {
   "cell_type": "code",
   "execution_count": 40,
   "metadata": {},
   "outputs": [
    {
     "name": "stdout",
     "output_type": "stream",
     "text": [
      "α = 1.571880021661958\n",
      "  610.792 μs (20 allocations: 19.34 KiB)\n",
      "α = 1.804799700735925\n",
      "  613.349 μs (20 allocations: 19.34 KiB)\n",
      "α = 2.501756495200387\n",
      "  609.134 μs (20 allocations: 19.34 KiB)\n",
      "α = 3.9240910633208075\n",
      "  613.590 μs (20 allocations: 19.34 KiB)\n",
      "α = 6.394084225387956\n",
      "  611.202 μs (20 allocations: 19.34 KiB)\n",
      "α = 6.798877267627094\n",
      "  593.472 μs (20 allocations: 19.34 KiB)\n",
      "α = 10.616687916594595\n",
      "  610.435 μs (20 allocations: 19.34 KiB)\n",
      "α = 11.143660575928031\n",
      "  587.895 μs (20 allocations: 19.34 KiB)\n",
      "α = 12.049290192614249\n",
      "  594.528 μs (20 allocations: 19.34 KiB)\n",
      "α = 232.68624057353307\n",
      "  590.852 μs (20 allocations: 19.34 KiB)\n",
      "α = Inf\n",
      "  590.044 μs (20 allocations: 19.34 KiB)\n"
     ]
    }
   ],
   "source": [
    "VV, EV, FV, TV = AlphaStructures.alphaSimplex(V, filtration, 3.7)\n",
    "#=\n",
    "GL.VIEW([\n",
    "    GL.GLGrid(V, EV, GL.COLORS[1], 0.6) # White\n",
    "    GL.GLGrid(V, FV, GL.COLORS[2], 0.3) # Red\n",
    "    GL.GLGrid(V, TV, GL.COLORS[3], 0.3) # Green\n",
    "]);\n",
    "=#\n",
    "filter_key = sort(unique(values(filtration)))\n",
    "\n",
    "granular = 10\n",
    "\n",
    "reduced_filter =\n",
    "    filter_key[sort(abs.(rand(Int, granular) .% length(filter_key)))]\n",
    "reduced_filter = [reduced_filter; max(filter_key...)]\n",
    "\n",
    "α=0.0\n",
    "for α in reduced_filter\n",
    "    @show α\n",
    "    @btime VVV, EEV, FFV, TTV = AlphaStructures.alphaSimplex(V, filtration, α) # 685.523 μs (20 allocations: 19.34 KiB) in media\n",
    "end"
   ]
  },
  {
   "cell_type": "markdown",
   "metadata": {},
   "source": [
    "# Esempio 2D (utilizzando le funzioni del vecchio modulo)"
   ]
  },
  {
   "cell_type": "code",
   "execution_count": 41,
   "metadata": {},
   "outputs": [],
   "source": [
    "\"\"\"\n",
    "    pointsRand(V, VV, n, m)\n",
    "\n",
    "Generate random points inside and otuside `(V, VV)`.\n",
    "\"\"\"\n",
    "function pointsRand(\n",
    "        V::Lar.Points, EV::Lar.Cells, n = 1000, m = 0\n",
    "    )::Tuple{Lar.Points, Lar.Points, Lar.Cells, Lar.Cells}\n",
    "    classify = Lar.pointInPolygonClassification(V, EV)\n",
    "    Vi = [0;0]\n",
    "    Ve = [0;0]\n",
    "    k1 = 0\n",
    "    k2 = 0\n",
    "    while k1 < n || k2 < m\n",
    "        queryPoint = [rand();rand()]\n",
    "        inOut = classify(queryPoint)\n",
    "\n",
    "        if k1 < n && inOut == \"p_in\"\n",
    "            Vi = hcat(Vi, queryPoint)\n",
    "            k1 = k1 + 1;\n",
    "        end\n",
    "        if k2 < m && inOut == \"p_out\"\n",
    "            Ve = hcat(Ve, queryPoint)\n",
    "            k2 = k2 + 1;\n",
    "        end\n",
    "    end\n",
    "    VVi = [[i] for i = 1 : n]\n",
    "    VVe = [[i] for i = 1 : m]\n",
    "    return Vi[:,2:end], Ve[:,2:end], VVi, VVe\n",
    "end\n",
    "\n",
    "filename = \"../examples/examples2D/svg_files/Lar2.svg\";\n",
    "\n",
    "V,EV = Lar.svg2lar(filename);\n",
    "\n",
    "Vi, Ve, VVi, VVe = pointsRand(V, EV, 1000, 10000);\n",
    "\n",
    "#=\n",
    "GL.VIEW([\n",
    " \tGL.GLGrid(Vi, VVi, GL.COLORS[1], 1)\n",
    " \tGL.GLGrid(Ve, VVe, GL.COLORS[12], 1)\n",
    "])\n",
    "=#"
   ]
  },
  {
   "cell_type": "code",
   "execution_count": 42,
   "metadata": {},
   "outputs": [
    {
     "name": "stdout",
     "output_type": "stream",
     "text": [
      "  36.405 ms (377379 allocations: 25.65 MiB)\n"
     ]
    }
   ],
   "source": [
    "@btime filtration = alphaFilter(Vi); # 38.343 ms (371714 allocations: 25.58 MiB)"
   ]
  },
  {
   "cell_type": "code",
   "execution_count": 43,
   "metadata": {},
   "outputs": [],
   "source": [
    "@benchmark filtration = alphaFilter(Vi);"
   ]
  },
  {
   "cell_type": "code",
   "execution_count": 44,
   "metadata": {},
   "outputs": [
    {
     "name": "stdout",
     "output_type": "stream",
     "text": [
      "Variables\n",
      "  #self#\u001b[36m::Core.Compiler.Const(alphaFilter, false)\u001b[39m\n",
      "  V\u001b[36m::Array{Float64,2}\u001b[39m\n",
      "\n",
      "Body\u001b[36m::SortedDict{Array{Int64,1},Float64,Base.Order.ForwardOrdering}\u001b[39m\n",
      "\u001b[90m1 ─\u001b[39m %1 = Core.apply_type(Main.Array, Main.Int64, 1)\u001b[36m::Core.Compiler.Const(Array{Int64,1}, false)\u001b[39m\n",
      "\u001b[90m│  \u001b[39m %2 = Base.getindex(%1)\u001b[36m::Array{Array{Int64,1},1}\u001b[39m\n",
      "\u001b[90m│  \u001b[39m %3 = (#self#)(V, %2)\u001b[36m::SortedDict{Array{Int64,1},Float64,Base.Order.ForwardOrdering}\u001b[39m\n",
      "\u001b[90m└──\u001b[39m      return %3\n"
     ]
    }
   ],
   "source": [
    "@code_warntype alphaFilter(Vi);"
   ]
  },
  {
   "cell_type": "code",
   "execution_count": 45,
   "metadata": {},
   "outputs": [],
   "source": [
    "filtration = alphaFilter(Vi);"
   ]
  },
  {
   "cell_type": "code",
   "execution_count": 46,
   "metadata": {},
   "outputs": [
    {
     "name": "stdout",
     "output_type": "stream",
     "text": [
      "  669.170 μs (41 allocations: 134.94 KiB)\n"
     ]
    },
    {
     "data": {
      "text/plain": [
       "3-element Array{Array{Array{Int64,1},1},1}:\n",
       " [[1], [2], [3], [4], [5], [6], [7], [8], [9], [10]  …  [991], [992], [993], [994], [995], [996], [997], [998], [999], [1000]]\n",
       " [[1, 8], [1, 16], [1, 123], [1, 592], [2, 42], [2, 65], [2, 201], [2, 337], [2, 431], [2, 557]  …  [945, 955], [946, 987], [952, 969], [958, 995], [960, 973], [962, 981], [963, 966], [966, 970], [971, 988], [976, 991]]\n",
       " [[1, 8, 16], [1, 8, 592], [1, 16, 123], [1, 123, 592], [2, 42, 739], [2, 42, 746], [2, 65, 431], [2, 65, 813], [2, 201, 337], [2, 201, 813]  …  [811, 860, 977], [816, 828, 842], [834, 902, 942], [835, 932, 991], [835, 976, 991], [836, 922, 996], [837, 904, 982], [913, 919, 961], [918, 946, 987], [924, 945, 955]]"
      ]
     },
     "execution_count": 46,
     "metadata": {},
     "output_type": "execute_result"
    }
   ],
   "source": [
    "@btime VV,EV,FV = alphaSimplex(Vi, filtration, 0.02) # 744.878 μs (41 allocations: 135.13 KiB)"
   ]
  },
  {
   "cell_type": "code",
   "execution_count": 47,
   "metadata": {},
   "outputs": [
    {
     "data": {
      "text/plain": [
       "BenchmarkTools.Trial: \n",
       "  memory estimate:  134.94 KiB\n",
       "  allocs estimate:  41\n",
       "  --------------\n",
       "  minimum time:     659.294 μs (0.00% GC)\n",
       "  median time:      839.049 μs (0.00% GC)\n",
       "  mean time:        962.328 μs (2.11% GC)\n",
       "  maximum time:     10.272 ms (84.60% GC)\n",
       "  --------------\n",
       "  samples:          5172\n",
       "  evals/sample:     1"
      ]
     },
     "execution_count": 47,
     "metadata": {},
     "output_type": "execute_result"
    }
   ],
   "source": [
    "@benchmark VV,EV,FV = alphaSimplex(Vi, filtration, 0.02)"
   ]
  },
  {
   "cell_type": "code",
   "execution_count": 48,
   "metadata": {},
   "outputs": [
    {
     "name": "stdout",
     "output_type": "stream",
     "text": [
      "Variables\n",
      "  #self#\u001b[36m::Core.Compiler.Const(alphaSimplex, false)\u001b[39m\n",
      "  V\u001b[36m::Array{Float64,2}\u001b[39m\n",
      "  filtration\u001b[36m::SortedDict{Array{Int64,1},Float64,Base.Order.ForwardOrdering}\u001b[39m\n",
      "  α_threshold\u001b[36m::Float64\u001b[39m\n",
      "  #56\u001b[36m::var\"#56#57\"\u001b[39m\n",
      "  dim\u001b[36m::Int64\u001b[39m\n",
      "  simplexCollection\u001b[36m::Array{Array{Array{Int64,1},1},1}\u001b[39m\n",
      "  @_8\u001b[33m\u001b[1m::Union{Nothing, Tuple{Pair{Array{Int64,1},Float64},DataStructures.SAIterationState}}\u001b[22m\u001b[39m\n",
      "  k\u001b[36m::Array{Int64,1}\u001b[39m\n",
      "  v\u001b[36m::Float64\u001b[39m\n",
      "  @_11\u001b[36m::Int64\u001b[39m\n",
      "\n",
      "Body\u001b[91m\u001b[1m::Array{_A,1} where _A\u001b[22m\u001b[39m\n",
      "\u001b[90m1 ─\u001b[39m %1  = Base.getproperty(Main.Lar, :Cells)\u001b[91m\u001b[1m::Any\u001b[22m\u001b[39m\n",
      "\u001b[90m│  \u001b[39m %2  = Core.apply_type(Main.Array, %1, 1)\u001b[91m\u001b[1m::Type{Array{_A,1}} where _A\u001b[22m\u001b[39m\n",
      "\u001b[90m│  \u001b[39m       (dim = Main.size(V, 1))\n",
      "\u001b[90m│  \u001b[39m       (#56 = %new(Main.:(var\"#56#57\")))\n",
      "\u001b[90m│  \u001b[39m %5  = #56\u001b[36m::Core.Compiler.Const(var\"#56#57\"(), false)\u001b[39m\n",
      "\u001b[90m│  \u001b[39m %6  = (dim + 1)\u001b[36m::Int64\u001b[39m\n",
      "\u001b[90m│  \u001b[39m %7  = (1:%6)\u001b[36m::Core.Compiler.PartialStruct(UnitRange{Int64}, Any[Core.Compiler.Const(1, false), Int64])\u001b[39m\n",
      "\u001b[90m│  \u001b[39m %8  = Base.Generator(%5, %7)\u001b[36m::Core.Compiler.PartialStruct(Base.Generator{UnitRange{Int64},var\"#56#57\"}, Any[Core.Compiler.Const(var\"#56#57\"(), false), Core.Compiler.PartialStruct(UnitRange{Int64}, Any[Core.Compiler.Const(1, false), Int64])])\u001b[39m\n",
      "\u001b[90m│  \u001b[39m       (simplexCollection = Base.collect(%8))\n",
      "\u001b[90m│  \u001b[39m %10 = filtration\u001b[36m::SortedDict{Array{Int64,1},Float64,Base.Order.ForwardOrdering}\u001b[39m\n",
      "\u001b[90m│  \u001b[39m       (@_8 = Base.iterate(%10))\n",
      "\u001b[90m│  \u001b[39m %12 = (@_8 === nothing)\u001b[36m::Bool\u001b[39m\n",
      "\u001b[90m│  \u001b[39m %13 = Base.not_int(%12)\u001b[36m::Bool\u001b[39m\n",
      "\u001b[90m└──\u001b[39m       goto #6 if not %13\n",
      "\u001b[90m2 ┄\u001b[39m %15 = @_8::Tuple{Pair{Array{Int64,1},Float64},DataStructures.SAIterationState}\u001b[36m::Tuple{Pair{Array{Int64,1},Float64},DataStructures.SAIterationState}\u001b[39m\n",
      "\u001b[90m│  \u001b[39m %16 = Core.getfield(%15, 1)\u001b[36m::Pair{Array{Int64,1},Float64}\u001b[39m\n",
      "\u001b[90m│  \u001b[39m %17 = Base.indexed_iterate(%16, 1)\u001b[36m::Core.Compiler.PartialStruct(Tuple{Array{Int64,1},Int64}, Any[Array{Int64,1}, Core.Compiler.Const(2, false)])\u001b[39m\n",
      "\u001b[90m│  \u001b[39m       (k = Core.getfield(%17, 1))\n",
      "\u001b[90m│  \u001b[39m       (@_11 = Core.getfield(%17, 2))\n",
      "\u001b[90m│  \u001b[39m %20 = Base.indexed_iterate(%16, 2, @_11::Core.Compiler.Const(2, false))\u001b[36m::Core.Compiler.PartialStruct(Tuple{Float64,Int64}, Any[Float64, Core.Compiler.Const(3, false)])\u001b[39m\n",
      "\u001b[90m│  \u001b[39m       (v = Core.getfield(%20, 1))\n",
      "\u001b[90m│  \u001b[39m %22 = Core.getfield(%15, 2)\u001b[36m::DataStructures.SAIterationState\u001b[39m\n",
      "\u001b[90m│  \u001b[39m %23 = (v <= α_threshold)\u001b[36m::Bool\u001b[39m\n",
      "\u001b[90m└──\u001b[39m       goto #4 if not %23\n",
      "\u001b[90m3 ─\u001b[39m %25 = simplexCollection\u001b[36m::Array{Array{Array{Int64,1},1},1}\u001b[39m\n",
      "\u001b[90m│  \u001b[39m %26 = Main.length(k)\u001b[36m::Int64\u001b[39m\n",
      "\u001b[90m│  \u001b[39m %27 = Base.getindex(%25, %26)\u001b[36m::Array{Array{Int64,1},1}\u001b[39m\n",
      "\u001b[90m└──\u001b[39m       Main.push!(%27, k)\n",
      "\u001b[90m4 ┄\u001b[39m       (@_8 = Base.iterate(%10, %22))\n",
      "\u001b[90m│  \u001b[39m %30 = (@_8 === nothing)\u001b[36m::Bool\u001b[39m\n",
      "\u001b[90m│  \u001b[39m %31 = Base.not_int(%30)\u001b[36m::Bool\u001b[39m\n",
      "\u001b[90m└──\u001b[39m       goto #6 if not %31\n",
      "\u001b[90m5 ─\u001b[39m       goto #2\n",
      "\u001b[90m6 ┄\u001b[39m %34 = Base.broadcasted(Main.sort!, simplexCollection)\u001b[36m::Base.Broadcast.Broadcasted{Base.Broadcast.DefaultArrayStyle{1},Nothing,typeof(sort!),Tuple{Array{Array{Array{Int64,1},1},1}}}\u001b[39m\n",
      "\u001b[90m│  \u001b[39m       Base.materialize(%34)\n",
      "\u001b[90m│  \u001b[39m %36 = Base.convert(%2, simplexCollection)\u001b[91m\u001b[1m::Any\u001b[22m\u001b[39m\n",
      "\u001b[90m│  \u001b[39m %37 = Core.typeassert(%36, %2)\u001b[91m\u001b[1m::Array{_A,1} where _A\u001b[22m\u001b[39m\n",
      "\u001b[90m└──\u001b[39m       return %37\n"
     ]
    }
   ],
   "source": [
    "@code_warntype alphaSimplex(Vi, filtration, 0.02)"
   ]
  },
  {
   "cell_type": "code",
   "execution_count": 49,
   "metadata": {},
   "outputs": [
    {
     "name": "stdout",
     "output_type": "stream",
     "text": [
      "α = 0.001547205506734288\n",
      "  258.474 μs (18 allocations: 21.00 KiB)\n",
      "α = 0.0024160645286526766\n",
      "  257.776 μs (18 allocations: 21.00 KiB)\n",
      "α = 0.0027459516342449434\n",
      "  258.384 μs (18 allocations: 21.00 KiB)\n",
      "α = 0.0029407292309053725\n",
      "  259.099 μs (18 allocations: 21.00 KiB)\n",
      "α = 0.003129807245066744\n",
      "  258.164 μs (18 allocations: 21.00 KiB)\n",
      "α = 0.0037924521451703813\n",
      "  258.428 μs (18 allocations: 21.00 KiB)\n",
      "α = 0.005160781292231029\n",
      "  258.724 μs (18 allocations: 21.00 KiB)\n",
      "α = 0.005944035965826843\n",
      "  259.003 μs (18 allocations: 21.00 KiB)\n",
      "α = 0.009530199141774897\n",
      "  258.816 μs (18 allocations: 21.00 KiB)\n",
      "α = 0.023872597104947168\n",
      "  259.626 μs (18 allocations: 21.00 KiB)\n",
      "α = 78.86961125524701\n",
      "  258.116 μs (18 allocations: 21.00 KiB)\n",
      "  280.500 μs (31 allocations: 30.59 KiB)\n",
      "  307.397 μs (35 allocations: 40.84 KiB)\n",
      "  279.382 μs (31 allocations: 30.59 KiB)\n",
      "  306.831 μs (35 allocations: 40.84 KiB)\n",
      "  279.522 μs (31 allocations: 30.59 KiB)\n",
      "  306.302 μs (35 allocations: 40.84 KiB)\n",
      "  280.292 μs (31 allocations: 30.59 KiB)\n",
      "  307.662 μs (35 allocations: 40.84 KiB)\n",
      "  280.000 μs (31 allocations: 30.59 KiB)\n",
      "  307.178 μs (35 allocations: 40.84 KiB)\n",
      "  278.383 μs (31 allocations: 30.59 KiB)\n",
      "  305.105 μs (35 allocations: 40.84 KiB)\n",
      "  281.211 μs (31 allocations: 30.59 KiB)\n",
      "  307.968 μs (35 allocations: 40.84 KiB)\n",
      "  279.804 μs (31 allocations: 30.59 KiB)\n",
      "  307.093 μs (35 allocations: 40.84 KiB)\n",
      "  278.534 μs (31 allocations: 30.59 KiB)\n",
      "  307.297 μs (35 allocations: 40.84 KiB)\n",
      "  280.198 μs (31 allocations: 30.59 KiB)\n",
      "  307.808 μs (35 allocations: 40.84 KiB)\n",
      "  280.151 μs (31 allocations: 30.59 KiB)\n",
      "  305.815 μs (35 allocations: 40.84 KiB)\n",
      "  279.677 μs (31 allocations: 30.59 KiB)\n",
      "  305.746 μs (35 allocations: 40.84 KiB)\n",
      "  280.515 μs (31 allocations: 30.59 KiB)\n",
      "  306.574 μs (35 allocations: 40.84 KiB)\n"
     ]
    }
   ],
   "source": [
    "VV,EV,FV = alphaSimplex(Vi, filtration, 0.02)\n",
    "points = [[p] for p in VV]\n",
    "faces = [[f] for f in FV]\n",
    "edges = [[e] for e in EV]\n",
    "#GL.VIEW(\n",
    "#    GL.GLExplode(Vi, [edges; faces], 1.5, 1.5, 1.5, 99, 1)\n",
    "# );\n",
    "\n",
    "filter_key = sort(unique(values(filtration)))\n",
    "\n",
    "granular = 10\n",
    "\n",
    "reduced_filter = filter_key[sort(abs.(rand(Int, granular).%length(filter_key)))]\n",
    "reduced_filter = [reduced_filter; max(filter_key...)]\n",
    "\n",
    "#\n",
    "# Arlecchino's Lar\n",
    "#\n",
    "#\n",
    "α = 0.0\n",
    "for α in reduced_filter\n",
    "    @show α\n",
    "    @btime VV,EV,FV = alphaSimplex(Vi, filtration, α) # 315.970 μs (18 allocations: 21.00 KiB) in media\n",
    "    #VV,EV,FV = alphaSimplex(Vi, filtration, α)\n",
    "\n",
    "    #=\n",
    "    GL.VIEW(\n",
    "        GL.GLExplode(\n",
    "            Vi,\n",
    "            [[[f] for f in FV]; [[e] for e in EV]],\n",
    "            1., 1., 1.,\t# Explode Ratio\n",
    "            99, 1\t\t# Colors\n",
    "        )\n",
    "    )\n",
    "    =#\n",
    "    \n",
    "end\n",
    "#\n",
    "#\n",
    "# Appearing Colors\n",
    "#\n",
    "\n",
    "reduced_filter = [\n",
    "    0.002;\t0.003;\t0.004;\t0.005;  0.006;\n",
    "    0.007;\t0.008;\t0.009;\t0.010;\t0.013;\n",
    "    0.015;\t0.020;\t0.050;\t1.000\n",
    "]\n",
    "\n",
    "i=2\n",
    "for i = 2 : length(reduced_filter)\n",
    "    @btime VV0, EV0, FV0 = alphaSimplex(Vi, filtration, reduced_filter[i-1])# 337.409 μs (36 allocations: 42.03 KiB) in media\n",
    "    @btime VV,  EV,  FV  = alphaSimplex(Vi, filtration, reduced_filter[i])# 297.250 μs (32 allocations: 30.86 KiB) in media\n",
    "    \n",
    "    #=EV0mesh = GL.GLGrid(Vi, EV0)\n",
    "    FV0mesh = GL.GLGrid(Vi, FV0)\n",
    "    EVmesh = GL.GLGrid(Vi, setdiff(EV, EV0), GL.COLORS[2], 1)\n",
    "    FVmesh = GL.GLGrid(Vi, setdiff(FV, FV0), GL.COLORS[7], 1)\n",
    "    GL.VIEW([EV0mesh; FV0mesh; EVmesh; FVmesh])=#\n",
    "end"
   ]
  },
  {
   "cell_type": "markdown",
   "metadata": {},
   "source": [
    "# Esempio 2D (utilizzando le funzioni del nuovo modulo)"
   ]
  },
  {
   "cell_type": "code",
   "execution_count": 50,
   "metadata": {},
   "outputs": [],
   "source": [
    "\"\"\"\n",
    "    pointsRand(V, VV, n, m)\n",
    "\n",
    "Generate random points inside and otuside `(V, VV)`.\n",
    "\"\"\"\n",
    "function pointsRand(\n",
    "        V::Lar.Points, EV::Lar.Cells, n = 1000, m = 0\n",
    "    )::Tuple{Lar.Points, Lar.Points, Lar.Cells, Lar.Cells}\n",
    "    classify = Lar.pointInPolygonClassification(V, EV)\n",
    "    Vi = [0;0]\n",
    "    Ve = [0;0]\n",
    "    k1 = 0\n",
    "    k2 = 0\n",
    "    while k1 < n || k2 < m\n",
    "        queryPoint = [rand();rand()]\n",
    "        inOut = classify(queryPoint)\n",
    "\n",
    "        if k1 < n && inOut == \"p_in\"\n",
    "            Vi = hcat(Vi, queryPoint)\n",
    "            k1 = k1 + 1;\n",
    "        end\n",
    "        if k2 < m && inOut == \"p_out\"\n",
    "            Ve = hcat(Ve, queryPoint)\n",
    "            k2 = k2 + 1;\n",
    "        end\n",
    "    end\n",
    "    VVi = [[i] for i = 1 : n]\n",
    "    VVe = [[i] for i = 1 : m]\n",
    "    return Vi[:,2:end], Ve[:,2:end], VVi, VVe\n",
    "end\n",
    "\n",
    "filename = \"../examples/examples2D/svg_files/Lar2.svg\";\n",
    "\n",
    "V,EV = Lar.svg2lar(filename);\n",
    "\n",
    "Vi, Ve, VVi, VVe = pointsRand(V, EV, 1000, 10000);\n",
    "\n",
    "#=\n",
    "GL.VIEW([\n",
    " \tGL.GLGrid(Vi, VVi, GL.COLORS[1], 1)\n",
    " \tGL.GLGrid(Ve, VVe, GL.COLORS[12], 1)\n",
    "])\n",
    "=#"
   ]
  },
  {
   "cell_type": "code",
   "execution_count": 51,
   "metadata": {},
   "outputs": [
    {
     "name": "stdout",
     "output_type": "stream",
     "text": [
      "  28.584 ms (284223 allocations: 24.23 MiB)\n"
     ]
    }
   ],
   "source": [
    "@btime filtration = AlphaStructures.alphaFilter(Vi); # 30.037 ms (283750 allocations: 24.19 MiB)"
   ]
  },
  {
   "cell_type": "code",
   "execution_count": 52,
   "metadata": {},
   "outputs": [],
   "source": [
    "@benchmark filtration = AlphaStructures.alphaFilter(Vi);"
   ]
  },
  {
   "cell_type": "code",
   "execution_count": 53,
   "metadata": {},
   "outputs": [
    {
     "name": "stdout",
     "output_type": "stream",
     "text": [
      "Variables\n",
      "  #self#\u001b[36m::Core.Compiler.Const(Main.AlphaStructures.alphaFilter, false)\u001b[39m\n",
      "  V\u001b[36m::Array{Float64,2}\u001b[39m\n",
      "\n",
      "Body\u001b[36m::SortedDict{Array{Int64,1},Float64,Base.Order.ForwardOrdering}\u001b[39m\n",
      "\u001b[90m1 ─\u001b[39m %1 = Core.apply_type(Main.AlphaStructures.Array, Main.AlphaStructures.Int64, 1)\u001b[36m::Core.Compiler.Const(Array{Int64,1}, false)\u001b[39m\n",
      "\u001b[90m│  \u001b[39m %2 = Base.getindex(%1)\u001b[36m::Array{Array{Int64,1},1}\u001b[39m\n",
      "\u001b[90m│  \u001b[39m %3 = (#self#)(V, %2)\u001b[36m::SortedDict{Array{Int64,1},Float64,Base.Order.ForwardOrdering}\u001b[39m\n",
      "\u001b[90m└──\u001b[39m      return %3\n"
     ]
    }
   ],
   "source": [
    "@code_warntype AlphaStructures.alphaFilter(Vi); "
   ]
  },
  {
   "cell_type": "code",
   "execution_count": 54,
   "metadata": {},
   "outputs": [],
   "source": [
    "filtration = AlphaStructures.alphaFilter(Vi); "
   ]
  },
  {
   "cell_type": "code",
   "execution_count": 55,
   "metadata": {},
   "outputs": [
    {
     "name": "stdout",
     "output_type": "stream",
     "text": [
      "  695.281 μs (41 allocations: 134.94 KiB)\n"
     ]
    },
    {
     "data": {
      "text/plain": [
       "3-element Array{Array{Array{Int64,1},1},1}:\n",
       " [[1], [2], [3], [4], [5], [6], [7], [8], [9], [10]  …  [991], [992], [993], [994], [995], [996], [997], [998], [999], [1000]]\n",
       " [[1, 95], [1, 190], [1, 345], [1, 606], [1, 754], [1, 788], [2, 63], [2, 85], [2, 97], [2, 286]  …  [950, 974], [953, 990], [954, 971], [956, 985], [957, 966], [963, 964], [967, 977], [973, 997], [977, 994], [987, 996]]\n",
       " [[1, 95, 190], [1, 95, 606], [1, 190, 788], [1, 345, 754], [1, 345, 788], [1, 606, 754], [2, 63, 85], [2, 85, 390], [2, 97, 286], [2, 286, 390]  …  [876, 918, 927], [878, 906, 997], [881, 886, 966], [881, 892, 966], [886, 957, 966], [887, 963, 964], [906, 942, 997], [912, 929, 964], [927, 944, 993], [942, 973, 997]]"
      ]
     },
     "execution_count": 55,
     "metadata": {},
     "output_type": "execute_result"
    }
   ],
   "source": [
    "@btime VV,EV,FV = AlphaStructures.alphaSimplex(Vi, filtration, 0.02) # 690.470 μs (41 allocations: 135.00 KiB)"
   ]
  },
  {
   "cell_type": "code",
   "execution_count": 56,
   "metadata": {},
   "outputs": [
    {
     "data": {
      "text/plain": [
       "BenchmarkTools.Trial: \n",
       "  memory estimate:  134.94 KiB\n",
       "  allocs estimate:  41\n",
       "  --------------\n",
       "  minimum time:     692.301 μs (0.00% GC)\n",
       "  median time:      763.115 μs (0.00% GC)\n",
       "  mean time:        852.101 μs (2.22% GC)\n",
       "  maximum time:     8.287 ms (84.45% GC)\n",
       "  --------------\n",
       "  samples:          5860\n",
       "  evals/sample:     1"
      ]
     },
     "execution_count": 56,
     "metadata": {},
     "output_type": "execute_result"
    }
   ],
   "source": [
    "@benchmark VV,EV,FV = AlphaStructures.alphaSimplex(Vi, filtration, 0.02)"
   ]
  },
  {
   "cell_type": "code",
   "execution_count": 57,
   "metadata": {},
   "outputs": [
    {
     "name": "stdout",
     "output_type": "stream",
     "text": [
      "Variables\n",
      "  #self#\u001b[36m::Core.Compiler.Const(Main.AlphaStructures.alphaSimplex, false)\u001b[39m\n",
      "  V\u001b[36m::Array{Float64,2}\u001b[39m\n",
      "  filtration\u001b[36m::SortedDict{Array{Int64,1},Float64,Base.Order.ForwardOrdering}\u001b[39m\n",
      "  α_threshold\u001b[36m::Float64\u001b[39m\n",
      "  #12\u001b[36m::Main.AlphaStructures.var\"#12#13\"{Array{Float64,2},SortedDict{Array{Int64,1},Float64,Base.Order.ForwardOrdering},Float64}\u001b[39m\n",
      "\n",
      "Body\u001b[36m::Array{Array{Array{Int64,1},1},1}\u001b[39m\n",
      "\u001b[90m1 ─\u001b[39m %1  = LinearAlgebraicRepresentation.Cells\u001b[36m::Core.Compiler.Const(Array{Array{Int64,1},1}, false)\u001b[39m\n",
      "\u001b[90m│  \u001b[39m %2  = Core.apply_type(Main.AlphaStructures.Array, %1, 1)\u001b[36m::Core.Compiler.Const(Array{Array{Array{Int64,1},1},1}, false)\u001b[39m\n",
      "\u001b[90m│  \u001b[39m %3  = Main.AlphaStructures.:(var\"#12#13\")\u001b[36m::Core.Compiler.Const(Main.AlphaStructures.var\"#12#13\", false)\u001b[39m\n",
      "\u001b[90m│  \u001b[39m %4  = Core.typeof(V)\u001b[36m::Core.Compiler.Const(Array{Float64,2}, false)\u001b[39m\n",
      "\u001b[90m│  \u001b[39m %5  = Core.typeof(filtration)\u001b[36m::Core.Compiler.Const(SortedDict{Array{Int64,1},Float64,Base.Order.ForwardOrdering}, false)\u001b[39m\n",
      "\u001b[90m│  \u001b[39m %6  = Core.typeof(α_threshold)\u001b[36m::Core.Compiler.Const(Float64, false)\u001b[39m\n",
      "\u001b[90m│  \u001b[39m %7  = Core.apply_type(%3, %4, %5, %6)\u001b[36m::Core.Compiler.Const(Main.AlphaStructures.var\"#12#13\"{Array{Float64,2},SortedDict{Array{Int64,1},Float64,Base.Order.ForwardOrdering},Float64}, false)\u001b[39m\n",
      "\u001b[90m│  \u001b[39m       (#12 = %new(%7, V, filtration, α_threshold))\n",
      "\u001b[90m│  \u001b[39m %9  = #12\u001b[36m::Main.AlphaStructures.var\"#12#13\"{Array{Float64,2},SortedDict{Array{Int64,1},Float64,Base.Order.ForwardOrdering},Float64}\u001b[39m\n",
      "\u001b[90m│  \u001b[39m %10 = (TimerOutputs.timeit)(%9, Main.AlphaStructures.to, \"alphaSimplex\")\u001b[36m::Array{Array{Array{Int64,1},1},1}\u001b[39m\n",
      "\u001b[90m│  \u001b[39m %11 = Base.convert(%2, %10)\u001b[36m::Array{Array{Array{Int64,1},1},1}\u001b[39m\n",
      "\u001b[90m│  \u001b[39m %12 = Core.typeassert(%11, %2)\u001b[36m::Array{Array{Array{Int64,1},1},1}\u001b[39m\n",
      "\u001b[90m└──\u001b[39m       return %12\n"
     ]
    }
   ],
   "source": [
    "@code_warntype AlphaStructures.alphaSimplex(Vi, filtration, 0.02)"
   ]
  },
  {
   "cell_type": "code",
   "execution_count": 58,
   "metadata": {},
   "outputs": [
    {
     "name": "stdout",
     "output_type": "stream",
     "text": [
      "α = 0.002901257578776471\n",
      "  251.367 μs (18 allocations: 21.00 KiB)\n",
      "α = 0.002952180332978916\n",
      "  246.161 μs (18 allocations: 21.00 KiB)\n",
      "α = 0.004339101223448142\n",
      "  249.412 μs (18 allocations: 21.00 KiB)\n",
      "α = 0.004818391511634731\n",
      "  253.148 μs (18 allocations: 21.00 KiB)\n",
      "α = 0.005816498862531838\n",
      "  252.991 μs (18 allocations: 21.00 KiB)\n",
      "α = 0.005984109539165118\n",
      "  251.993 μs (18 allocations: 21.00 KiB)\n",
      "α = 0.006385431578220707\n",
      "  251.478 μs (18 allocations: 21.00 KiB)\n",
      "α = 0.006649700174401228\n",
      "  251.660 μs (18 allocations: 21.00 KiB)\n",
      "α = 0.01008595572447725\n",
      "  247.040 μs (18 allocations: 21.00 KiB)\n",
      "α = 0.010710782674895721\n",
      "  249.364 μs (18 allocations: 21.00 KiB)\n",
      "α = 51.680741717808125\n",
      "  250.702 μs (18 allocations: 21.00 KiB)\n",
      "  274.153 μs (30 allocations: 26.45 KiB)\n",
      "  306.681 μs (36 allocations: 41.92 KiB)\n",
      "  270.163 μs (30 allocations: 26.45 KiB)\n",
      "  298.283 μs (36 allocations: 41.92 KiB)\n",
      "  270.643 μs (30 allocations: 26.45 KiB)\n",
      "  296.568 μs (36 allocations: 41.92 KiB)\n",
      "  272.000 μs (30 allocations: 26.45 KiB)\n",
      "  293.501 μs (36 allocations: 41.92 KiB)\n",
      "  271.673 μs (30 allocations: 26.45 KiB)\n",
      "  308.016 μs (36 allocations: 41.92 KiB)\n",
      "  265.494 μs (30 allocations: 26.45 KiB)\n",
      "  300.998 μs (36 allocations: 41.92 KiB)\n",
      "  271.958 μs (30 allocations: 26.45 KiB)\n",
      "  306.542 μs (36 allocations: 41.92 KiB)\n",
      "  273.040 μs (30 allocations: 26.45 KiB)\n",
      "  305.679 μs (36 allocations: 41.92 KiB)\n",
      "  269.628 μs (30 allocations: 26.45 KiB)\n",
      "  302.789 μs (36 allocations: 41.92 KiB)\n",
      "  265.768 μs (30 allocations: 26.45 KiB)\n",
      "  299.450 μs (36 allocations: 41.92 KiB)\n",
      "  275.053 μs (30 allocations: 26.45 KiB)\n",
      "  292.723 μs (36 allocations: 41.92 KiB)\n",
      "  270.651 μs (30 allocations: 26.45 KiB)\n",
      "  293.560 μs (36 allocations: 41.92 KiB)\n",
      "  271.290 μs (30 allocations: 26.45 KiB)\n",
      "  295.015 μs (36 allocations: 41.92 KiB)\n"
     ]
    }
   ],
   "source": [
    "VV,EV,FV = AlphaStructures.alphaSimplex(Vi, filtration, 0.02)\n",
    "points = [[p] for p in VV]\n",
    "faces = [[f] for f in FV]\n",
    "edges = [[e] for e in EV]\n",
    "#GL.VIEW(\n",
    "#    GL.GLExplode(Vi, [edges; faces], 1.5, 1.5, 1.5, 99, 1)\n",
    "# );\n",
    "\n",
    "filter_key = sort(unique(values(filtration)))\n",
    "\n",
    "granular = 10\n",
    "\n",
    "reduced_filter = filter_key[sort(abs.(rand(Int, granular).%length(filter_key)))]\n",
    "reduced_filter = [reduced_filter; max(filter_key...)]\n",
    "\n",
    "#\n",
    "# Arlecchino's Lar\n",
    "#\n",
    "#\n",
    "α = 0.0\n",
    "for α in reduced_filter\n",
    "    @show α\n",
    "    @btime VV,EV,FV = AlphaStructures.alphaSimplex(Vi, filtration, α) # 255.389 μs (18 allocations: 21.00 KiB) in media\n",
    "    #VV,EV,FV = alphaSimplex(Vi, filtration, α)\n",
    "\n",
    "    #=\n",
    "    GL.VIEW(\n",
    "        GL.GLExplode(\n",
    "            Vi,\n",
    "            [[[f] for f in FV]; [[e] for e in EV]],\n",
    "            1., 1., 1.,\t# Explode Ratio\n",
    "            99, 1\t\t# Colors\n",
    "        )\n",
    "    )\n",
    "    =#\n",
    "    \n",
    "end\n",
    "#\n",
    "#\n",
    "# Appearing Colors\n",
    "#\n",
    "\n",
    "reduced_filter = [\n",
    "    0.002;\t0.003;\t0.004;\t0.005;  0.006;\n",
    "    0.007;\t0.008;\t0.009;\t0.010;\t0.013;\n",
    "    0.015;\t0.020;\t0.050;\t1.000\n",
    "]\n",
    "\n",
    "i=2\n",
    "for i = 2 : length(reduced_filter)\n",
    "    @btime VV0, EV0, FV0 = AlphaStructures.alphaSimplex(Vi, filtration, reduced_filter[i-1]) # 292.120 μs (35 allocations: 40.78 KiB) in media\n",
    "    @btime VV,  EV,  FV  = AlphaStructures.alphaSimplex(Vi, filtration, reduced_filter[i]) # 266.537 μs (30 allocations: 26.45 KiB) in media\n",
    "    \n",
    "    #=EV0mesh = GL.GLGrid(Vi, EV0)\n",
    "    FV0mesh = GL.GLGrid(Vi, FV0)\n",
    "    EVmesh = GL.GLGrid(Vi, setdiff(EV, EV0), GL.COLORS[2], 1)\n",
    "    FVmesh = GL.GLGrid(Vi, setdiff(FV, FV0), GL.COLORS[7], 1)\n",
    "    GL.VIEW([EV0mesh; FV0mesh; EVmesh; FVmesh])=#\n",
    "end"
   ]
  },
  {
   "cell_type": "code",
   "execution_count": null,
   "metadata": {},
   "outputs": [],
   "source": []
  }
 ],
 "metadata": {
  "kernelspec": {
   "display_name": "Julia 1.5.3",
   "language": "julia",
   "name": "julia-1.5"
  },
  "language_info": {
   "file_extension": ".jl",
   "mimetype": "application/julia",
   "name": "julia",
   "version": "1.5.3"
  }
 },
 "nbformat": 4,
 "nbformat_minor": 4
}
