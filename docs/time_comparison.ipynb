{
 "cells": [
  {
   "cell_type": "markdown",
   "metadata": {},
   "source": [
    "### Di seguito tutte le funzioni originali del modulo AlphaStructures, per poter comparare i loro tempi di esecuzione con le nuove versioni delle stesse funzioni"
   ]
  },
  {
   "cell_type": "code",
   "execution_count": 117,
   "metadata": {},
   "outputs": [
    {
     "name": "stderr",
     "output_type": "stream",
     "text": [
      "WARNING: replacing module AlphaStructures.\n"
     ]
    },
    {
     "data": {
      "text/plain": [
       "Main.AlphaStructures"
      ]
     },
     "execution_count": 117,
     "metadata": {},
     "output_type": "execute_result"
    }
   ],
   "source": [
    "using LinearAlgebraicRepresentation\n",
    "using Delaunay, Triangle\n",
    "using Combinatorics, DataStructures\n",
    "using Distributed, SharedArrays\n",
    "Lar = LinearAlgebraicRepresentation\n",
    "include(\"../src/AlphaStructures.jl\") # nuovo modulo AlphaStructures"
   ]
  },
  {
   "cell_type": "code",
   "execution_count": 118,
   "metadata": {},
   "outputs": [
    {
     "data": {
      "text/plain": [
       "findCenter (generic function with 1 method)"
      ]
     },
     "execution_count": 118,
     "metadata": {},
     "output_type": "execute_result"
    }
   ],
   "source": [
    "function findCenter(P::Lar.Points)::Array{Float64,1}\n",
    "    dim, n = size(P)\n",
    "    @assert n > 0\t\t\"findCenter: at least one points is needed.\"\n",
    "    @assert dim >= n-1\t\"findCenter: Too much points\"\n",
    "\n",
    "    @assert dim < 4\t\t\"findCenter: Function not yet Programmed.\"\n",
    "\n",
    "    if n == 1\n",
    "        center = P[:, 1]\n",
    "\n",
    "    elseif n == 2\n",
    "        #for each dimension\n",
    "        center = (P[:, 1] + P[:, 2]) / 2\n",
    "\n",
    "    elseif n == 3\n",
    "        #https://www.ics.uci.edu/~eppstein/junkyard/circumcenter.html\n",
    "        if dim == 2\n",
    "            denom = 2 * Lar.det([ P[:, 2] - P[:, 1]  P[:, 3] - P[:, 1] ])\n",
    "            deter = (P[:, 2] - P[:, 1]) * Lar.norm(P[:, 3] - P[:, 1])^2 -\n",
    "                    (P[:, 3] - P[:, 1]) * Lar.norm(P[:, 2] - P[:, 1])^2\n",
    "            numer = [- deter[2], deter[1]]\n",
    "            center = P[:, 1] + numer / denom\n",
    "\n",
    "        elseif dim == 3\n",
    "            #circumcenter of a triangle in R^3\n",
    "            numer = Lar.norm(P[:, 3] - P[:, 1])^2 * Lar.cross(\n",
    "                        Lar.cross(P[:, 2] - P[:, 1], P[:, 3] - P[:, 1]),\n",
    "                        P[:, 2] - P[:, 1]\n",
    "                    ) +\n",
    "                    Lar.norm(P[:, 2] - P[:, 1])^2 * Lar.cross(\n",
    "                        P[:, 3] - P[:, 1],\n",
    "                        Lar.cross(P[:, 2] - P[:, 1], P[:, 3] - P[:, 1]\n",
    "                    )\n",
    "            )\n",
    "            denom = 2 * Lar.norm(\n",
    "                Lar.cross(P[:, 2] - P[:, 1], P[:, 3] - P[:, 1])\n",
    "            )^2\n",
    "            center = P[:, 1] + numer / denom\n",
    "        end\n",
    "\n",
    "    elseif n == 4 #&& dim = 3\n",
    "        # https://people.sc.fsu.edu/~jburkardt/presentations\n",
    "        #\t/cg_lab_tetrahedrons.pdf\n",
    "        # page 6 (matrix are transposed)\n",
    "        α = Lar.det([P; ones(1, 4)])\n",
    "        sq = sum(abs2, P, dims = 1)\n",
    "        Dx = Lar.det([sq; P[2:2,:]; P[3:3,:]; ones(1, 4)])\n",
    "        Dy = Lar.det([P[1:1,:]; sq; P[3:3,:]; ones(1, 4)])\n",
    "        Dz = Lar.det([P[1:1,:]; P[2:2,:]; sq; ones(1, 4)])\n",
    "        center = [Dx; Dy; Dz]/2α\n",
    "    end\n",
    "\n",
    "    return center\n",
    "end"
   ]
  },
  {
   "cell_type": "code",
   "execution_count": 119,
   "metadata": {},
   "outputs": [
    {
     "data": {
      "text/plain": [
       "findClosestPoint (generic function with 1 method)"
      ]
     },
     "execution_count": 119,
     "metadata": {},
     "output_type": "execute_result"
    }
   ],
   "source": [
    "function findClosestPoint(\n",
    "        Psimplex::Lar.Points, P::Lar.Points;\n",
    "        metric = \"circumcenter\"\n",
    "    )::Union{Int64, Nothing}\n",
    "\n",
    "    @assert metric ∈ [\"circumcenter\", \"dd\"] \"findClosestPoint: available metrics are\n",
    "        `circumcenter` and `dd`.\"\n",
    "\n",
    "    simplexDim = size(Psimplex, 2)\n",
    "    @assert simplexDim <= size(Psimplex, 1) \"findClosestPoint: Cannot add\n",
    "    another point to the simplex.\"\n",
    "\n",
    "    @assert (m = size(P, 2)) != 0 \"findClosestPoint: No Points in `P`.\"\n",
    "\n",
    "    radlist = SharedArray{Float64}(m)\n",
    "    for col = 1 : m\n",
    "        r, c = findRadius([Psimplex P[:,col]], true)\n",
    "        sameSign = (\n",
    "            r == Inf ||\n",
    "            metric != \"dd\" ||\n",
    "            isempty(oppositeHalfSpacePoints(\n",
    "                [Psimplex P[:,col]], Psimplex, c\n",
    "            ))\n",
    "        )\n",
    "        radlist[col] = ((-1)^(1 + sameSign)) * r\n",
    "    end\n",
    "\n",
    "    radius, closestidx = findmin(radlist)\n",
    "\n",
    "    if radius == Inf\n",
    "        closestidx = nothing\n",
    "    end\n",
    "\n",
    "    return closestidx\n",
    "\n",
    "end\n"
   ]
  },
  {
   "cell_type": "code",
   "execution_count": 120,
   "metadata": {},
   "outputs": [
    {
     "data": {
      "text/plain": [
       "findMedian (generic function with 1 method)"
      ]
     },
     "execution_count": 120,
     "metadata": {},
     "output_type": "execute_result"
    }
   ],
   "source": [
    "function findMedian(P::Lar.Points, ax::Int64)::Float64\n",
    "    xp = sort(unique(P[ax, :]))\n",
    "    if length(xp) == 1\n",
    "        median = xp[1]\n",
    "    else\n",
    "        idx = Int64(floor(length(xp)/2))\n",
    "        median = (xp[idx] + xp[idx+1])/2\n",
    "    end\n",
    "    return median\n",
    "end"
   ]
  },
  {
   "cell_type": "code",
   "execution_count": 121,
   "metadata": {},
   "outputs": [
    {
     "data": {
      "text/plain": [
       "findRadius (generic function with 2 methods)"
      ]
     },
     "execution_count": 121,
     "metadata": {},
     "output_type": "execute_result"
    }
   ],
   "source": [
    "function findRadius(\n",
    "        P::Lar.Points, center=false; digits=64\n",
    "    )::Union{Float64, Tuple{Float64, Array{Float64,1}}}\n",
    "\n",
    "    c = findCenter(P)\n",
    "    if any(isnan, c)\n",
    "        r = Inf\n",
    "    else\n",
    "        r = round(\n",
    "            findmin([Lar.norm(c - P[:, i]) for i = 1 : size(P, 2)])[1],\n",
    "            digits = digits\n",
    "        )\n",
    "    end\n",
    "    if center\n",
    "        return r, c\n",
    "    end\n",
    "    return r\n",
    "end"
   ]
  },
  {
   "cell_type": "code",
   "execution_count": 122,
   "metadata": {},
   "outputs": [
    {
     "data": {
      "text/plain": [
       "matrixPerturbation (generic function with 1 method)"
      ]
     },
     "execution_count": 122,
     "metadata": {},
     "output_type": "execute_result"
    }
   ],
   "source": [
    "function matrixPerturbation(\n",
    "        M::Array{Float64,2};\n",
    "        atol=1e-10, row = [0], col = [0]\n",
    "    )::Array{Float64,2}\n",
    "\n",
    "    if atol == 0.0\n",
    "        println(\"Warning: no perturbation has been performed.\")\n",
    "        return M\n",
    "    end\n",
    "\n",
    "    if row == [0]\n",
    "        row = [i for i = 1 : size(M, 1)]\n",
    "    end\n",
    "    if col == [0]\n",
    "        col = [i for i = 1 : size(M, 2)]\n",
    "    end\n",
    "\n",
    "    N = copy(M)\n",
    "    perturbation = mod.(rand(Float64, length(row), length(col)), 2*atol).-atol\n",
    "    N[row, col] = M[row, col] + perturbation\n",
    "    return N\n",
    "end"
   ]
  },
  {
   "cell_type": "code",
   "execution_count": 123,
   "metadata": {},
   "outputs": [
    {
     "data": {
      "text/plain": [
       "oppositeHalfSpacePoints (generic function with 1 method)"
      ]
     },
     "execution_count": 123,
     "metadata": {},
     "output_type": "execute_result"
    }
   ],
   "source": [
    "function oppositeHalfSpacePoints(\n",
    "        P::Lar.Points,\n",
    "        face::Array{Float64,2},\n",
    "        point::Array{Float64,1}\n",
    "    )::Array{Int64,1}\n",
    "\n",
    "    dim, n = size(P)\n",
    "    noV = size(face, 2)\n",
    "    @assert dim <= 3 \"oppositeHalfSpacePoints: Not yet coded.\"\n",
    "    @assert noV == dim \"oppositeHalfSpacePoints:\n",
    "        Cannot determine opposite to non hyperplanes.\"\n",
    "    if dim == 1\n",
    "        threshold = face[1]\n",
    "        if point[1] < threshold\n",
    "            opposite = [i for i = 1 : n if P[1, i] > threshold]\n",
    "        else\n",
    "            opposite = [i for i = 1 : n if P[1, i] < threshold]\n",
    "        end\n",
    "    elseif dim == 2\n",
    "        if (Δx = face[1, 1] - face[1, 2]) != 0.0\n",
    "            m = (face[2, 1] - face[2, 2]) / Δx\n",
    "            q = face[2, 1] - m * face[1, 1]\n",
    "            # false = under the line, true = over the line\n",
    "            @assert point[2] ≠ m * point[1] + q \"oppositeHalfSpacePoints,\n",
    "                the point belongs to the face\"\n",
    "            side = sign(m * point[1] + q - point[2])\n",
    "            opposite =\n",
    "                [i for i = 1 : n if side * (m * P[1, i] + q - P[2, i]) < 0]\n",
    "        else\n",
    "            q = face[1, 1]\n",
    "            side = sign(point[1] - q)\n",
    "            opposite = [i for i = 1 : n if side * (P[1, i] - q) < 0]\n",
    "        end\n",
    "\n",
    "\n",
    "    elseif dim == 3\n",
    "        axis = Lar.cross(\n",
    "            face[:, 2] - face[:, 1],\n",
    "            face[:, 3] - face[:, 1]\n",
    "        )\n",
    "        off = Lar.dot(axis, face[:, 1])\n",
    "        position = Lar.dot(point, axis)\n",
    "        if position < off\n",
    "            opposite = [i for i = 1:size(P, 2) if Lar.dot(P[:,i], axis) > off]\n",
    "        else\n",
    "            opposite = [i for i = 1:size(P, 2) if Lar.dot(P[:,i], axis) < off]\n",
    "        end\n",
    "    end\n",
    "\n",
    "    return [\n",
    "        i for i in opposite\n",
    "        if sum([P[:, i] == face[:, j] for j = 1 : noV]) == 0\n",
    "    ]\n",
    "end"
   ]
  },
  {
   "cell_type": "code",
   "execution_count": 124,
   "metadata": {},
   "outputs": [
    {
     "data": {
      "text/plain": [
       "planarIntersection (generic function with 1 method)"
      ]
     },
     "execution_count": 124,
     "metadata": {},
     "output_type": "execute_result"
    }
   ],
   "source": [
    "function planarIntersection(\n",
    "        P::Lar.Points,\n",
    "        face::Array{Int64,1},\n",
    "        axis::Int64,\n",
    "        off::Float64\n",
    "    )::Int64\n",
    "\n",
    "    pos = [P[axis, i] > off for i in face]\n",
    "\n",
    "    if sum([P[axis, i] == off for i in face]) == length(pos)\n",
    "        position = 0 # face coplanar with axis\n",
    "    elseif sum(pos) == 0\n",
    "        position = -1\n",
    "    elseif sum(pos) == length(pos)\n",
    "        position = +1\n",
    "    else\n",
    "        position = 0\n",
    "    end\n",
    "\n",
    "    return position\n",
    "end"
   ]
  },
  {
   "cell_type": "code",
   "execution_count": 125,
   "metadata": {},
   "outputs": [
    {
     "data": {
      "text/plain": [
       "simplexFaces (generic function with 1 method)"
      ]
     },
     "execution_count": 125,
     "metadata": {},
     "output_type": "execute_result"
    }
   ],
   "source": [
    "function simplexFaces(σ::Array{Int64,1})::Array{Array{Int64,1},1}\n",
    "    sort!(sort!.(collect(Combinatorics.combinations(σ, length(σ)-1))))\n",
    "end"
   ]
  },
  {
   "cell_type": "code",
   "execution_count": 126,
   "metadata": {},
   "outputs": [
    {
     "data": {
      "text/plain": [
       "vertexInCircumball (generic function with 1 method)"
      ]
     },
     "execution_count": 126,
     "metadata": {},
     "output_type": "execute_result"
    }
   ],
   "source": [
    "function vertexInCircumball(\n",
    "        P::Lar.Points,\n",
    "        α_char::Float64,\n",
    "        point::Array{Float64,2}\n",
    "    )::Bool\n",
    "\n",
    "    center = findCenter(P)\n",
    "    return Lar.norm(point - center) <= α_char\n",
    "end"
   ]
  },
  {
   "cell_type": "code",
   "execution_count": 127,
   "metadata": {},
   "outputs": [
    {
     "data": {
      "text/plain": [
       "delaunayWall (generic function with 5 methods)"
      ]
     },
     "execution_count": 127,
     "metadata": {},
     "output_type": "execute_result"
    }
   ],
   "source": [
    "function delaunayWall(\n",
    "        P::Lar.Points,\n",
    "        ax = 1,\n",
    "        Pblack = Float64[],\n",
    "        AFL = Array{Int64,1}[],\n",
    "        tetraDict = DataStructures.Dict{Array{Int64,1},Array{Float64,1}}();\n",
    "        DEBUG = false\n",
    "    )::Lar.Cells\n",
    "\n",
    "    if DEBUG @show \"Delaunay Wall with parameters\" P ax AFL tetraDict end\n",
    "\n",
    "    # 0 - Data Reading and Container definition\n",
    "    DT = Array{Int64,1}[]\t\t# Delaunay Triangulation\n",
    "    AFLα = Array{Int64,1}[]\t\t# (d-1)faces intersecting the Wall\n",
    "    AFLplus = Array{Int64,1}[]  # (d-1)faces in positive Wall half-space\n",
    "    AFLminus = Array{Int64,1}[] # (d-1)faces in positive Wall half-space\n",
    "    off = findMedian(P, ax)\n",
    "    if !isempty(Pblack) Pext = [P Pblack] else Pext = copy(P) end\n",
    "\n",
    "    # 1 - Determine first simplex (if necessary)\n",
    "    if isempty(AFL)\n",
    "        @assert isempty(Pblack) \"delaunayWall: If AFL is empty => Pblack must be\"\n",
    "        @assert isempty(tetraDict) \"delaunayWall: If AFL is empty => tetraDict must be\"\n",
    "        σ = sort(firstDeWallSimplex(P, ax, off, DEBUG = DEBUG))\n",
    "        push!(DT, σ)\n",
    "        AFL = simplexFaces(σ)\n",
    "        updateTetraDict!(P, tetraDict, AFL, σ)\n",
    "    else\n",
    "        @assert !isempty(Pblack) \"delaunayWall: Data missing - Pblack\"\n",
    "        @assert !isempty(AFL) \"delaunayWall: Data missing - AFL\"\n",
    "        @assert !isempty(tetraDict) \"delaunayWall: Data missing - tetraDict\"\n",
    "    end\n",
    "\n",
    "    # 2 - Build `AFL*` according to the axis `ax` with constant term `off`\n",
    "    updateAFL!(\n",
    "        P, AFL, AFLα, AFLplus, AFLminus, ax, off, DEBUG = DEBUG\n",
    "    )\n",
    "\n",
    "    # 4 - Build simplex Wall\n",
    "    while !isempty(AFLα)\n",
    "        # if face ∈ keys(tetraDict) oppoint = tetraDict[face]\n",
    "        # else Pselection = setdiff([i for i = 1 : n], face) end\n",
    "        σ = findWallSimplex(\n",
    "                Pext, AFLα[1], tetraDict[AFLα[1]], size(P, 2), DEBUG = DEBUG\n",
    "            )\n",
    "        if σ != nothing && σ ∉ DT\n",
    "            push!(DT, σ)\n",
    "            AFL = simplexFaces(σ)\n",
    "            updateTetraDict!(P, tetraDict, AFL, σ)\n",
    "            # Split σ's Faces according in semi-spaces\n",
    "            updateAFL!(\n",
    "                P, AFL, AFLα, AFLplus, AFLminus, ax, off, DEBUG=DEBUG\n",
    "            )\n",
    "        else\n",
    "            @assert updatelist!(AFLα, AFLα[1]) == false \"delaunayWall:\n",
    "                Something unespected happends while removing a face.\"\n",
    "        end\n",
    "    end\n",
    "\n",
    "    # 5 - Change the axis `ax` and repeat until there are no faces but exposed.\n",
    "    #      A.K.A. Divide & Conquer phase.\n",
    "    if !isempty(AFLminus)\n",
    "        union!(DT, recursiveDelaunayWall(\n",
    "            P, Pblack, tetraDict, AFLminus, ax, off, false; DEBUG = DEBUG\n",
    "        ))\n",
    "    end\n",
    "    if !isempty(AFLplus)\n",
    "        union!(DT, recursiveDelaunayWall(\n",
    "            P, Pblack, tetraDict, AFLplus, ax, off, true; DEBUG = DEBUG\n",
    "        ))\n",
    "    end\n",
    "\n",
    "    return DT\n",
    "end"
   ]
  },
  {
   "cell_type": "code",
   "execution_count": 128,
   "metadata": {},
   "outputs": [
    {
     "data": {
      "text/plain": [
       "findWallSimplex (generic function with 2 methods)"
      ]
     },
     "execution_count": 128,
     "metadata": {},
     "output_type": "execute_result"
    }
   ],
   "source": [
    "function findWallSimplex(\n",
    "        P::Lar.Points,\n",
    "        face::Array{Int64,1},\n",
    "        oppoint::Array{Float64,1},\n",
    "        blackidx = size(P, 2);\n",
    "        DEBUG = false\n",
    "    )::Union{Array{Int64,1}, Nothing}\n",
    "\n",
    "    if DEBUG @show \"find Wall Simplex of\" face oppoint end\n",
    "    # Find the points in the halfspace defined by `face` that do not\n",
    "    #  containsother the other point of the simplex.\n",
    "    Pselection =\n",
    "        oppositeHalfSpacePoints(P, P[:, face], oppoint)\n",
    "\n",
    "    if DEBUG @show Pselection end\n",
    "\n",
    "    # If there are no such points than the face is part of the convex hull.\n",
    "    if isempty(Pselection)\n",
    "        return nothing\n",
    "    end\n",
    "\n",
    "    # Find the Closest Point in the other halfspace with respect to σ\n",
    "    #  according to dd-distance.\n",
    "    idxbase = Pselection[ findClosestPoint(\n",
    "        P[:, face], P[:, Pselection], metric = \"dd\"\n",
    "    ) ]\n",
    "\n",
    "    # @assert !isnothing(idxbase)\n",
    "    # if isnothing(idxbase)\n",
    "    # \treturn nothing\n",
    "    # end\n",
    "\n",
    "    # It prevent from adding the same simplex again (cause it has been\n",
    "    #  determined in a previous recursive call in the stacktrace).\n",
    "    if idxbase > blackidx\n",
    "        if DEBUG println(\"Excluding $face cause simplex already inside.\") end\n",
    "        return nothing\n",
    "    end\n",
    "\n",
    "    σ = sort([face; idxbase])\n",
    "    if DEBUG @show \"Found face\" σ end\n",
    "\n",
    "    # Check the simplex correctness\n",
    "    radius, center = findRadius(P[:, σ], true)\n",
    "    for i = 1 : size(P, 2)\n",
    "        if Lar.norm(center - P[:, i]) < radius - 1.e-14\n",
    "            # @assert i ∉ Pselection \"ERROR: Numerical error\n",
    "            # \tevaluating minimum radius for $σ\"\n",
    "            if DEBUG println(\"$σ discarded due to a closer point.\") end\n",
    "            return nothing\n",
    "        end\n",
    "    end\n",
    "\n",
    "    return σ\n",
    "end\n",
    "\n"
   ]
  },
  {
   "cell_type": "code",
   "execution_count": 129,
   "metadata": {},
   "outputs": [
    {
     "data": {
      "text/plain": [
       "firstDeWallSimplex (generic function with 1 method)"
      ]
     },
     "execution_count": 129,
     "metadata": {},
     "output_type": "execute_result"
    }
   ],
   "source": [
    "function firstDeWallSimplex(\n",
    "        P::Lar.Points,\n",
    "        ax::Int64,\n",
    "        off::Float64;\n",
    "        DEBUG = false\n",
    "    )::Array{Int64,1}\n",
    "\n",
    "    dim = size(P, 1)\n",
    "    n = size(P, 2)\n",
    "\n",
    "    if DEBUG println(\"Determine first Simplex with ax = $ax\") end\n",
    "    # the first point of the simplex is the one with coordinate `ax` maximal\n",
    "    #  such that it is less than `off` (closer to α from minus)\n",
    "\n",
    "    Pselection = findall(x -> x < off, P[ax, :])\n",
    "\n",
    "    # it gives an error if no point are less than `off`\n",
    "    #  in fact it means that all the points are located on the median,\n",
    "    #  with respect to `ax`.\n",
    "    @assert !isempty(Pselection) \"firstDeWallSimplex: not able to build the first Delaunay\n",
    "        dimplex; all the points have the same `ax` coordinate.\"\n",
    "    newidx = Pselection[findmax(P[ax, Pselection])[2]]\n",
    "    # indices will store the indices of the simplex ...\n",
    "    indices = [newidx]                      #Array{Int64,1}\n",
    "    # ... and `Psimplex` will store the corresponding points\n",
    "    Psimplex = P[:, newidx][:,:]    #Array{Float64,2}\n",
    "\n",
    "    # the second point must be seeken across those with coordinate `ax`\n",
    "    #  grater than `off`\n",
    "    Pselection = findall(x -> x > off, P[ax, :])\n",
    "\n",
    "    for d = 1 : dim\n",
    "        idxbase = findClosestPoint(Psimplex, P[:, Pselection])\n",
    "        @assert !isnothing(idxbase) \"firstDeWallSimplex:\n",
    "            not able to determine first Delaunay Simplex\"\n",
    "        newidx = Pselection[idxbase]\n",
    "        indices = [indices; newidx]\n",
    "        Psimplex = [Psimplex P[:, newidx]]\n",
    "        Pselection = [i for i = 1 : n if i ∉ indices]\n",
    "    end\n",
    "\n",
    "    # Correctness check\n",
    "    radius, center = findRadius(Psimplex, true)\n",
    "    for i = 1 : n\n",
    "        @assert Lar.norm(center - P[:, i]) >= radius \"firstDeWallSimplex:\n",
    "            Unable to find first Simplex.\"\n",
    "    end\n",
    "\n",
    "    if DEBUG println(\"First Simplex = $indices\") end\n",
    "\n",
    "    return indices\n",
    "end"
   ]
  },
  {
   "cell_type": "code",
   "execution_count": 130,
   "metadata": {},
   "outputs": [
    {
     "data": {
      "text/plain": [
       "recursiveDelaunayWall (generic function with 1 method)"
      ]
     },
     "execution_count": 130,
     "metadata": {},
     "output_type": "execute_result"
    }
   ],
   "source": [
    "function recursiveDelaunayWall(\n",
    "        P::Lar.Points,\n",
    "        Pblack::Array{Float64},\n",
    "        tetraDict::DataStructures.Dict{Array{Int64,1},Array{Float64,1}},\n",
    "        AFL::Array{Array{Int64,1},1},\n",
    "        ax::Int64,\n",
    "        off::Float64,\n",
    "        positive::Bool;\n",
    "        DEBUG = false\n",
    "    )::Lar.Cells\n",
    "\n",
    "    #DEBUG = true\n",
    "\n",
    "    dim, n = size(P)\n",
    "    newaxis = mod(ax, dim) + 1\n",
    "\n",
    "    if DEBUG println(\"Divide Plus/Minus $positive\") end\n",
    "\n",
    "    Psubset = findall(x -> (x > off) == positive, P[ax, :])\n",
    "    blacklist = setdiff(unique([(keys(tetraDict)...)...]), Psubset)\n",
    "    if !isempty(Pblack)\n",
    "        Pblack = [Pblack P[:, blacklist]]\n",
    "    else\n",
    "        Pblack = P[:, blacklist]\n",
    "    end\n",
    "\n",
    "    if DEBUG println(\"Step In\") end\n",
    "\n",
    "    DT = delaunayWall(\n",
    "            P[:, Psubset],\n",
    "            newaxis,\n",
    "            Pblack,\n",
    "            [[findall(Psubset.==p)[1] for p in σ] for σ in AFL],\n",
    "            Dict([\n",
    "                [findall(Psubset.==p)[1] for p in k] => v\n",
    "                for (k,v) in tetraDict\n",
    "                    if k ⊆ Psubset\n",
    "            ]),\n",
    "            DEBUG = DEBUG\n",
    "        )\n",
    "\n",
    "    if DEBUG @show \"Step Out with \" DT end\n",
    "\n",
    "    return [[Psubset[i] for i in σ] for σ in DT]\n",
    "end\n"
   ]
  },
  {
   "cell_type": "code",
   "execution_count": 131,
   "metadata": {},
   "outputs": [
    {
     "data": {
      "text/plain": [
       "updateAFL! (generic function with 1 method)"
      ]
     },
     "execution_count": 131,
     "metadata": {},
     "output_type": "execute_result"
    }
   ],
   "source": [
    "function updateAFL!(\n",
    "        P::Lar.Points,\n",
    "        newσ::Array{Array{Int64,1},1},\n",
    "        AFLα::Array{Array{Int64,1},1},\n",
    "        AFLplus::Array{Array{Int64,1},1},\n",
    "        AFLminus::Array{Array{Int64,1},1},\n",
    "        ax::Int64, off::Float64;\n",
    "        DEBUG = false\n",
    "    )::Bool\n",
    "\n",
    "    for face in newσ\n",
    "        inters = planarIntersection(P, face, ax, off)\n",
    "        if inters == 0 # intersected by plane α\n",
    "            updatelist!(AFLα, face)\n",
    "        elseif inters == -1 # in NegHalfspace(α)\n",
    "            updatelist!(AFLminus, face)\n",
    "        elseif inters == 1 # in PosHalfspace(α)\n",
    "            updatelist!(AFLplus, face)\n",
    "        else\n",
    "            return false\n",
    "        end\n",
    "    end\n",
    "\n",
    "    if DEBUG @show AFLα AFLminus AFLplus end\n",
    "\n",
    "    return true\n",
    "\n",
    "end\n"
   ]
  },
  {
   "cell_type": "code",
   "execution_count": 132,
   "metadata": {},
   "outputs": [
    {
     "data": {
      "text/plain": [
       "updatelist! (generic function with 1 method)"
      ]
     },
     "execution_count": 132,
     "metadata": {},
     "output_type": "execute_result"
    }
   ],
   "source": [
    "function updatelist!(list, element)::Bool\n",
    "    if element ∈ list\n",
    "        setdiff!(list, [element])\n",
    "        return false\n",
    "    else\n",
    "        push!(list, element)\n",
    "        return true\n",
    "    end\n",
    "end"
   ]
  },
  {
   "cell_type": "code",
   "execution_count": 133,
   "metadata": {},
   "outputs": [
    {
     "data": {
      "text/plain": [
       "updateTetraDict! (generic function with 1 method)"
      ]
     },
     "execution_count": 133,
     "metadata": {},
     "output_type": "execute_result"
    }
   ],
   "source": [
    "function updateTetraDict!(\n",
    "        P::Lar.Points,\n",
    "        tetraDict::DataStructures.Dict{Array{Int64,1},Array{Float64,1}},\n",
    "        AFL::Array{Array{Int64,1},1},\n",
    "        σ::Array{Int64,1}\n",
    "    )::Nothing\n",
    "    for cell in AFL\n",
    "        point = setdiff(σ, cell)\n",
    "        @assert length(point) == 1 \"updateTetraDict!: Error during update of TetraDict $σ, $cell\"\n",
    "        tetraDict[ cell ] = P[:, point[1]]\n",
    "    end\n",
    "end\n"
   ]
  },
  {
   "cell_type": "code",
   "execution_count": 134,
   "metadata": {},
   "outputs": [
    {
     "data": {
      "text/plain": [
       "alphaFilter (generic function with 2 methods)"
      ]
     },
     "execution_count": 134,
     "metadata": {},
     "output_type": "execute_result"
    }
   ],
   "source": [
    "function alphaFilter(\n",
    "        V::Lar.Points,\n",
    "        DT = Array{Int64,1}[];\n",
    "        digits=64\n",
    "    )::DataStructures.SortedDict{}\n",
    "\n",
    "    dim = size(V, 1)\n",
    "    filtration = DataStructures.SortedDict{Array{Int64,1},Float64}()\n",
    "\n",
    "    # 1 - Each point => alpha_char = 0.\n",
    "    for i = 1 : size(V, 2)\n",
    "        insert!(filtration, [i], 0.)\n",
    "    end\n",
    "\n",
    "    # 2 - Delaunay triangulation of ``V``\n",
    "    if isempty(DT)\n",
    "        DT = delaunayTriangulation(V)\n",
    "    end\n",
    "\n",
    "    n_upsimplex = length(DT)\n",
    "\n",
    "    # 3 - process all upper simplex\n",
    "    ind = 1\n",
    "    for upper_simplex in DT\n",
    "        if ind % 500000 == 0\n",
    "            println(ind,\" simplices processed of \", n_upsimplex)\n",
    "        end\n",
    "        processuppersimplex(V,upper_simplex,filtration; digits = digits)\n",
    "        ind = ind + 1\n",
    "    end\n",
    "\n",
    "    return filtration\n",
    "end"
   ]
  },
  {
   "cell_type": "code",
   "execution_count": 135,
   "metadata": {},
   "outputs": [
    {
     "data": {
      "text/plain": [
       "processuppersimplex (generic function with 1 method)"
      ]
     },
     "execution_count": 135,
     "metadata": {},
     "output_type": "execute_result"
    }
   ],
   "source": [
    "function processuppersimplex(\n",
    "        V::Lar.Points,\n",
    "        up_simplex::Array{Int64,1},\n",
    "        filtration::DataStructures.SortedDict{};\n",
    "        digits=64\n",
    "        )\n",
    "\n",
    "    α_char = findRadius(V[:, up_simplex], digits=digits);\n",
    "    insert!(filtration, up_simplex, α_char)\n",
    "\n",
    "    d = length(up_simplex)-1\n",
    "    if d > 1\n",
    "        # It gives back combinations in natural order\n",
    "        newsimplex = collect(Combinatorics.combinations(up_simplex,d))\n",
    "        for lowsimplex in newsimplex\n",
    "            processlowsimplex(V, up_simplex, lowsimplex, filtration; digits=digits)\n",
    "        end\n",
    "    end\n",
    "end"
   ]
  },
  {
   "cell_type": "code",
   "execution_count": 136,
   "metadata": {},
   "outputs": [
    {
     "data": {
      "text/plain": [
       "processlowsimplex (generic function with 1 method)"
      ]
     },
     "execution_count": 136,
     "metadata": {},
     "output_type": "execute_result"
    }
   ],
   "source": [
    "function processlowsimplex(\n",
    "    V::Lar.Points,\n",
    "    up_simplex::Array{Int64,1},\n",
    "    lowsimplex::Array{Int64,1},\n",
    "    filtration::DataStructures.SortedDict{};\n",
    "    digits=64)\n",
    "\n",
    "    α_char = findRadius(V[:, lowsimplex], digits=digits)\n",
    "    point = V[:, setdiff(up_simplex, lowsimplex)]\n",
    "\n",
    "    if vertexInCircumball(V[:, lowsimplex], α_char, point)\n",
    "        filtration[lowsimplex] = filtration[up_simplex]\n",
    "\n",
    "    elseif !haskey(filtration, lowsimplex)\n",
    "        filtration[lowsimplex] = α_char\n",
    "\n",
    "    end\n",
    "\n",
    "    d = length(lowsimplex)-1\n",
    "    if d > 1\n",
    "        # It gives back combinations in natural order\n",
    "        newsimplex = collect(Combinatorics.combinations(lowsimplex,d))\n",
    "        for simplex in newsimplex\n",
    "             processlowsimplex(V, lowsimplex, simplex, filtration, digits=digits)\n",
    "        end\n",
    "    end\n",
    "end\n"
   ]
  },
  {
   "cell_type": "code",
   "execution_count": 137,
   "metadata": {},
   "outputs": [
    {
     "data": {
      "text/plain": [
       "alphaSimplex (generic function with 1 method)"
      ]
     },
     "execution_count": 137,
     "metadata": {},
     "output_type": "execute_result"
    }
   ],
   "source": [
    "function alphaSimplex(\n",
    "        V::Lar.Points,\n",
    "        filtration::DataStructures.SortedDict{},\n",
    "        α_threshold::Float64\n",
    "    )::Array{Lar.Cells,1}\n",
    "\n",
    "    dim = size(V, 1)\n",
    "    # [VV, EV, FV, ...]\n",
    "    simplexCollection = [ Array{Array{Int64,1},1}() for i = 1 : dim+1 ]\n",
    "\n",
    "    for (k, v) in filtration\n",
    "        if v <= α_threshold\n",
    "            push!(simplexCollection[length(k)], k)\n",
    "        end\n",
    "    end\n",
    "\n",
    "    sort!.(simplexCollection)\n",
    "\n",
    "    return simplexCollection\n",
    "end"
   ]
  },
  {
   "cell_type": "code",
   "execution_count": 138,
   "metadata": {},
   "outputs": [
    {
     "data": {
      "text/plain": [
       "delaunayTriangulation (generic function with 1 method)"
      ]
     },
     "execution_count": 138,
     "metadata": {},
     "output_type": "execute_result"
    }
   ],
   "source": [
    "function delaunayTriangulation(V::Lar.Points)::Lar.Cells\n",
    "    dim = size(V, 1)\n",
    "    @assert dim > 0 \"delaunayTriangulation: V do not contains points.\"\n",
    "    @assert dim < 4 \"delaunayTriangulation: Function not yet Programmed.\"\n",
    "\n",
    "    if dim == 1\n",
    "        vertices = vcat(V...)\n",
    "        p = sortperm(vertices)\n",
    "        upper_simplex = [[p[i],p[i+1]] for i=1:length(p)-1]\n",
    "\n",
    "    elseif dim == 2\n",
    "        vertices = convert(Array{Float64,2},V')\n",
    "        points_map = Array{Int64,1}(collect(1:1:size(vertices)[1]))\n",
    "        @assert size(vertices, 1) > 3\n",
    "        upper_simplex = Triangle.basic_triangulation(vertices, points_map)\n",
    "\n",
    "    elseif dim == 3\n",
    "        upper_simplex = delaunayWall(V)\n",
    "    end\n",
    "\n",
    "    sort!.(upper_simplex)\n",
    "\n",
    "    return sort(upper_simplex)\n",
    "end"
   ]
  },
  {
   "cell_type": "markdown",
   "metadata": {},
   "source": [
    "# Esempio 3D (utilizzando le funzioni del vecchio modulo)"
   ]
  },
  {
   "cell_type": "code",
   "execution_count": 139,
   "metadata": {},
   "outputs": [
    {
     "data": {
      "text/plain": [
       "529×3 Array{Float64,2}:\n",
       " 20.2617   3.9956  22.3469\n",
       " 19.2515  -1.1209  22.3469\n",
       " 19.0837  -1.0495  23.0343\n",
       " 20.0799   3.9956  23.0343\n",
       " 19.2783  -1.1323  23.2634\n",
       " 20.2908   3.9956  23.2634\n",
       " 19.6742  -1.3008  23.0343\n",
       " 20.72     3.9956  23.0343\n",
       " 20.1104  -1.4864  22.3469\n",
       " 21.1929   3.9956  22.3469\n",
       " 16.4814  -5.2597  22.3469\n",
       " 16.3523  -5.1306  23.0343\n",
       " 16.5021  -5.2804  23.2634\n",
       "  ⋮                \n",
       "  8.8935   7.9146  24.3109\n",
       " 10.2411  11.082   23.7435\n",
       " 11.4517  13.9273  23.1761\n",
       " 11.9771  15.162   22.3469\n",
       " 10.2423   7.0118  24.3109\n",
       " 12.6801   9.4496  23.7435\n",
       " 14.87    11.6395  23.1761\n",
       " 15.8203  12.5898  22.3469\n",
       " 11.1451   5.663   24.3109\n",
       " 14.3125   7.0107  23.7435\n",
       " 17.1578   8.2213  23.1761\n",
       " 18.3925   8.7466  22.3469"
      ]
     },
     "execution_count": 139,
     "metadata": {},
     "output_type": "execute_result"
    }
   ],
   "source": [
    "using LinearAlgebraicRepresentation, ViewerGL\n",
    "using BenchmarkTools\n",
    "using Distributed\n",
    "GL = ViewerGL\n",
    "filename = \"../examples/examples3D/OBJ/teapot.obj\";\n",
    "\n",
    "W, EVs, FVs = Lar.obj2lar(filename);\n",
    "WW = [[i] for i = 1:size(W, 2)];\n",
    "V, VV = Lar.apply(Lar.r(pi / 2, 0, 0), (W, WW)); #object rotated\n",
    "\n",
    "points = convert(Lar.Points, V')\n",
    "#=\n",
    "GL.VIEW([\n",
    "    GL.GLPoints(points)\n",
    "    GL.GLAxis(GL.Point3d(-1, -1, -1), GL.Point3d(1, 1, 1))\n",
    "]);\n",
    "=#"
   ]
  },
  {
   "cell_type": "code",
   "execution_count": 140,
   "metadata": {},
   "outputs": [
    {
     "name": "stdout",
     "output_type": "stream",
     "text": [
      "  7.510 s (51915163 allocations: 4.07 GiB)\n"
     ]
    }
   ],
   "source": [
    "@btime filtration = alphaFilter(V); # 8.448 s (51918223 allocations: 4.07 GiB)"
   ]
  },
  {
   "cell_type": "code",
   "execution_count": 141,
   "metadata": {},
   "outputs": [],
   "source": [
    "@benchmark filtration = alphaFilter(V);"
   ]
  },
  {
   "cell_type": "code",
   "execution_count": 142,
   "metadata": {},
   "outputs": [
    {
     "name": "stdout",
     "output_type": "stream",
     "text": [
      "Variables\n",
      "  #self#\u001b[36m::Core.Compiler.Const(alphaFilter, false)\u001b[39m\n",
      "  V\u001b[36m::Array{Float64,2}\u001b[39m\n",
      "\n",
      "Body\u001b[36m::SortedDict{Array{Int64,1},Float64,Base.Order.ForwardOrdering}\u001b[39m\n",
      "\u001b[90m1 ─\u001b[39m %1 = Core.apply_type(Main.Array, Main.Int64, 1)\u001b[36m::Core.Compiler.Const(Array{Int64,1}, false)\u001b[39m\n",
      "\u001b[90m│  \u001b[39m %2 = Base.getindex(%1)\u001b[36m::Array{Array{Int64,1},1}\u001b[39m\n",
      "\u001b[90m│  \u001b[39m %3 = (#self#)(V, %2)\u001b[36m::SortedDict{Array{Int64,1},Float64,Base.Order.ForwardOrdering}\u001b[39m\n",
      "\u001b[90m└──\u001b[39m      return %3\n"
     ]
    }
   ],
   "source": [
    "@code_warntype alphaFilter(V);"
   ]
  },
  {
   "cell_type": "code",
   "execution_count": 143,
   "metadata": {},
   "outputs": [],
   "source": [
    "filtration = alphaFilter(V);"
   ]
  },
  {
   "cell_type": "code",
   "execution_count": 144,
   "metadata": {},
   "outputs": [
    {
     "name": "stdout",
     "output_type": "stream",
     "text": [
      "  2.228 ms (55 allocations: 205.47 KiB)\n"
     ]
    },
    {
     "data": {
      "text/plain": [
       "4-element Array{Array{Array{Int64,1},1},1}:\n",
       " [[1], [2], [3], [4], [5], [6], [7], [8], [9], [10]  …  [520], [521], [522], [523], [524], [525], [526], [527], [528], [529]]\n",
       " [[1, 2], [1, 3], [1, 4], [1, 8], [1, 10], [1, 76], [1, 77], [1, 82], [1, 472], [1, 473]  …  [523, 524], [523, 527], [523, 528], [524, 525], [524, 528], [524, 529], [525, 529], [526, 527], [527, 528], [528, 529]]\n",
       " [[1, 2, 3], [1, 2, 8], [1, 2, 10], [1, 2, 472], [1, 3, 4], [1, 3, 8], [1, 3, 472], [1, 4, 8], [1, 4, 77], [1, 4, 472]  …  [519, 522, 523], [520, 521, 524], [520, 523, 524], [521, 524, 525], [522, 523, 527], [522, 526, 527], [523, 524, 528], [523, 527, 528], [524, 525, 529], [524, 528, 529]]\n",
       " [[1, 2, 3, 8], [1, 2, 3, 472], [1, 2, 8, 10], [1, 3, 4, 8], [1, 3, 4, 472], [1, 4, 8, 77], [1, 4, 77, 529], [1, 4, 472, 473], [1, 4, 473, 529], [1, 8, 10, 76]  …  [459, 460, 518, 522], [459, 460, 522, 526], [460, 461, 464, 465], [460, 461, 465, 526], [460, 461, 518, 522], [460, 461, 522, 526], [460, 463, 464, 526], [460, 464, 465, 526], [463, 464, 467, 526], [464, 465, 467, 526]]"
      ]
     },
     "execution_count": 144,
     "metadata": {},
     "output_type": "execute_result"
    }
   ],
   "source": [
    "@btime VV, EV, FV, TV = alphaSimplex(V, filtration, 3.7) # 2.156 ms (55 allocations: 205.47 KiB)"
   ]
  },
  {
   "cell_type": "code",
   "execution_count": 145,
   "metadata": {},
   "outputs": [
    {
     "data": {
      "text/plain": [
       "BenchmarkTools.Trial: \n",
       "  memory estimate:  205.47 KiB\n",
       "  allocs estimate:  55\n",
       "  --------------\n",
       "  minimum time:     2.223 ms (0.00% GC)\n",
       "  median time:      2.863 ms (0.00% GC)\n",
       "  mean time:        3.080 ms (0.96% GC)\n",
       "  maximum time:     11.913 ms (77.62% GC)\n",
       "  --------------\n",
       "  samples:          1618\n",
       "  evals/sample:     1"
      ]
     },
     "execution_count": 145,
     "metadata": {},
     "output_type": "execute_result"
    }
   ],
   "source": [
    "@benchmark VV, EV, FV, TV = alphaSimplex(V, filtration, 3.7)"
   ]
  },
  {
   "cell_type": "code",
   "execution_count": 146,
   "metadata": {},
   "outputs": [
    {
     "name": "stdout",
     "output_type": "stream",
     "text": [
      "Variables\n",
      "  #self#\u001b[36m::Core.Compiler.Const(alphaSimplex, false)\u001b[39m\n",
      "  V\u001b[36m::Array{Float64,2}\u001b[39m\n",
      "  filtration\u001b[36m::SortedDict{Array{Int64,1},Float64,Base.Order.ForwardOrdering}\u001b[39m\n",
      "  α_threshold\u001b[36m::Float64\u001b[39m\n",
      "  #446\u001b[36m::var\"#446#447\"\u001b[39m\n",
      "  dim\u001b[36m::Int64\u001b[39m\n",
      "  simplexCollection\u001b[36m::Array{Array{Array{Int64,1},1},1}\u001b[39m\n",
      "  @_8\u001b[33m\u001b[1m::Union{Nothing, Tuple{Pair{Array{Int64,1},Float64},DataStructures.SAIterationState}}\u001b[22m\u001b[39m\n",
      "  k\u001b[36m::Array{Int64,1}\u001b[39m\n",
      "  v\u001b[36m::Float64\u001b[39m\n",
      "  @_11\u001b[36m::Int64\u001b[39m\n",
      "\n",
      "Body\u001b[91m\u001b[1m::Array{_A,1} where _A\u001b[22m\u001b[39m\n",
      "\u001b[90m1 ─\u001b[39m %1  = Base.getproperty(Main.Lar, :Cells)\u001b[91m\u001b[1m::Any\u001b[22m\u001b[39m\n",
      "\u001b[90m│  \u001b[39m %2  = Core.apply_type(Main.Array, %1, 1)\u001b[91m\u001b[1m::Type{Array{_A,1}} where _A\u001b[22m\u001b[39m\n",
      "\u001b[90m│  \u001b[39m       (dim = Main.size(V, 1))\n",
      "\u001b[90m│  \u001b[39m       (#446 = %new(Main.:(var\"#446#447\")))\n",
      "\u001b[90m│  \u001b[39m %5  = #446\u001b[36m::Core.Compiler.Const(var\"#446#447\"(), false)\u001b[39m\n",
      "\u001b[90m│  \u001b[39m %6  = (dim + 1)\u001b[36m::Int64\u001b[39m\n",
      "\u001b[90m│  \u001b[39m %7  = (1:%6)\u001b[36m::Core.Compiler.PartialStruct(UnitRange{Int64}, Any[Core.Compiler.Const(1, false), Int64])\u001b[39m\n",
      "\u001b[90m│  \u001b[39m %8  = Base.Generator(%5, %7)\u001b[36m::Core.Compiler.PartialStruct(Base.Generator{UnitRange{Int64},var\"#446#447\"}, Any[Core.Compiler.Const(var\"#446#447\"(), false), Core.Compiler.PartialStruct(UnitRange{Int64}, Any[Core.Compiler.Const(1, false), Int64])])\u001b[39m\n",
      "\u001b[90m│  \u001b[39m       (simplexCollection = Base.collect(%8))\n",
      "\u001b[90m│  \u001b[39m %10 = filtration\u001b[36m::SortedDict{Array{Int64,1},Float64,Base.Order.ForwardOrdering}\u001b[39m\n",
      "\u001b[90m│  \u001b[39m       (@_8 = Base.iterate(%10))\n",
      "\u001b[90m│  \u001b[39m %12 = (@_8 === nothing)\u001b[36m::Bool\u001b[39m\n",
      "\u001b[90m│  \u001b[39m %13 = Base.not_int(%12)\u001b[36m::Bool\u001b[39m\n",
      "\u001b[90m└──\u001b[39m       goto #6 if not %13\n",
      "\u001b[90m2 ┄\u001b[39m %15 = @_8::Tuple{Pair{Array{Int64,1},Float64},DataStructures.SAIterationState}\u001b[36m::Tuple{Pair{Array{Int64,1},Float64},DataStructures.SAIterationState}\u001b[39m\n",
      "\u001b[90m│  \u001b[39m %16 = Core.getfield(%15, 1)\u001b[36m::Pair{Array{Int64,1},Float64}\u001b[39m\n",
      "\u001b[90m│  \u001b[39m %17 = Base.indexed_iterate(%16, 1)\u001b[36m::Core.Compiler.PartialStruct(Tuple{Array{Int64,1},Int64}, Any[Array{Int64,1}, Core.Compiler.Const(2, false)])\u001b[39m\n",
      "\u001b[90m│  \u001b[39m       (k = Core.getfield(%17, 1))\n",
      "\u001b[90m│  \u001b[39m       (@_11 = Core.getfield(%17, 2))\n",
      "\u001b[90m│  \u001b[39m %20 = Base.indexed_iterate(%16, 2, @_11::Core.Compiler.Const(2, false))\u001b[36m::Core.Compiler.PartialStruct(Tuple{Float64,Int64}, Any[Float64, Core.Compiler.Const(3, false)])\u001b[39m\n",
      "\u001b[90m│  \u001b[39m       (v = Core.getfield(%20, 1))\n",
      "\u001b[90m│  \u001b[39m %22 = Core.getfield(%15, 2)\u001b[36m::DataStructures.SAIterationState\u001b[39m\n",
      "\u001b[90m│  \u001b[39m %23 = (v <= α_threshold)\u001b[36m::Bool\u001b[39m\n",
      "\u001b[90m└──\u001b[39m       goto #4 if not %23\n",
      "\u001b[90m3 ─\u001b[39m %25 = simplexCollection\u001b[36m::Array{Array{Array{Int64,1},1},1}\u001b[39m\n",
      "\u001b[90m│  \u001b[39m %26 = Main.length(k)\u001b[36m::Int64\u001b[39m\n",
      "\u001b[90m│  \u001b[39m %27 = Base.getindex(%25, %26)\u001b[36m::Array{Array{Int64,1},1}\u001b[39m\n",
      "\u001b[90m└──\u001b[39m       Main.push!(%27, k)\n",
      "\u001b[90m4 ┄\u001b[39m       (@_8 = Base.iterate(%10, %22))\n",
      "\u001b[90m│  \u001b[39m %30 = (@_8 === nothing)\u001b[36m::Bool\u001b[39m\n",
      "\u001b[90m│  \u001b[39m %31 = Base.not_int(%30)\u001b[36m::Bool\u001b[39m\n",
      "\u001b[90m└──\u001b[39m       goto #6 if not %31\n",
      "\u001b[90m5 ─\u001b[39m       goto #2\n",
      "\u001b[90m6 ┄\u001b[39m %34 = Base.broadcasted(Main.sort!, simplexCollection)\u001b[36m::Base.Broadcast.Broadcasted{Base.Broadcast.DefaultArrayStyle{1},Nothing,typeof(sort!),Tuple{Array{Array{Array{Int64,1},1},1}}}\u001b[39m\n",
      "\u001b[90m│  \u001b[39m       Base.materialize(%34)\n",
      "\u001b[90m│  \u001b[39m %36 = Base.convert(%2, simplexCollection)\u001b[91m\u001b[1m::Any\u001b[22m\u001b[39m\n",
      "\u001b[90m│  \u001b[39m %37 = Core.typeassert(%36, %2)\u001b[91m\u001b[1m::Array{_A,1} where _A\u001b[22m\u001b[39m\n",
      "\u001b[90m└──\u001b[39m       return %37\n"
     ]
    }
   ],
   "source": [
    "@code_warntype alphaSimplex(V, filtration, 3.7)"
   ]
  },
  {
   "cell_type": "code",
   "execution_count": 147,
   "metadata": {},
   "outputs": [
    {
     "name": "stdout",
     "output_type": "stream",
     "text": [
      "α = 1.6732420297499826\n",
      "  788.349 μs (20 allocations: 19.34 KiB)\n",
      "α = 1.7457423850614395\n",
      "  832.472 μs (20 allocations: 19.34 KiB)\n",
      "α = 1.796613669185222\n",
      "  767.657 μs (20 allocations: 19.34 KiB)\n",
      "α = 2.68722184082027\n",
      "  738.399 μs (20 allocations: 19.34 KiB)\n",
      "α = 2.9892045125543354\n",
      "  768.914 μs (20 allocations: 19.34 KiB)\n",
      "α = 3.8366361535836235\n",
      "  748.743 μs (20 allocations: 19.34 KiB)\n",
      "α = 7.815471691358947\n",
      "  792.256 μs (20 allocations: 19.34 KiB)\n",
      "α = 10.408317716047518\n",
      "  746.379 μs (20 allocations: 19.34 KiB)\n",
      "α = 11.20978520870777\n",
      "  741.320 μs (20 allocations: 19.34 KiB)\n",
      "α = 12.514114594018103\n",
      "  764.527 μs (20 allocations: 19.34 KiB)\n",
      "α = Inf\n",
      "  788.107 μs (20 allocations: 19.34 KiB)\n"
     ]
    }
   ],
   "source": [
    "VV, EV, FV, TV = alphaSimplex(V, filtration, 3.7)\n",
    "#=\n",
    "GL.VIEW([\n",
    "    GL.GLGrid(V, EV, GL.COLORS[1], 0.6) # White\n",
    "    GL.GLGrid(V, FV, GL.COLORS[2], 0.3) # Red\n",
    "    GL.GLGrid(V, TV, GL.COLORS[3], 0.3) # Green\n",
    "]);\n",
    "=#\n",
    "filter_key = sort(unique(values(filtration)))\n",
    "\n",
    "granular = 10\n",
    "\n",
    "reduced_filter =\n",
    "    filter_key[sort(abs.(rand(Int, granular) .% length(filter_key)))]\n",
    "reduced_filter = [reduced_filter; max(filter_key...)]\n",
    "\n",
    "α=0.0\n",
    "for α in reduced_filter\n",
    "    @show α\n",
    "    @btime VVV, EEV, FFV, TTV = alphaSimplex(V, filtration, α) # 772.066 μs (20 allocations: 19.34 KiB) in media\n",
    "end"
   ]
  },
  {
   "cell_type": "markdown",
   "metadata": {},
   "source": [
    "# Esempio 3D (utilizzando le funzioni del nuovo modulo)"
   ]
  },
  {
   "cell_type": "code",
   "execution_count": 148,
   "metadata": {},
   "outputs": [
    {
     "data": {
      "text/plain": [
       "529×3 Array{Float64,2}:\n",
       " 20.2617   3.9956  22.3469\n",
       " 19.2515  -1.1209  22.3469\n",
       " 19.0837  -1.0495  23.0343\n",
       " 20.0799   3.9956  23.0343\n",
       " 19.2783  -1.1323  23.2634\n",
       " 20.2908   3.9956  23.2634\n",
       " 19.6742  -1.3008  23.0343\n",
       " 20.72     3.9956  23.0343\n",
       " 20.1104  -1.4864  22.3469\n",
       " 21.1929   3.9956  22.3469\n",
       " 16.4814  -5.2597  22.3469\n",
       " 16.3523  -5.1306  23.0343\n",
       " 16.5021  -5.2804  23.2634\n",
       "  ⋮                \n",
       "  8.8935   7.9146  24.3109\n",
       " 10.2411  11.082   23.7435\n",
       " 11.4517  13.9273  23.1761\n",
       " 11.9771  15.162   22.3469\n",
       " 10.2423   7.0118  24.3109\n",
       " 12.6801   9.4496  23.7435\n",
       " 14.87    11.6395  23.1761\n",
       " 15.8203  12.5898  22.3469\n",
       " 11.1451   5.663   24.3109\n",
       " 14.3125   7.0107  23.7435\n",
       " 17.1578   8.2213  23.1761\n",
       " 18.3925   8.7466  22.3469"
      ]
     },
     "execution_count": 148,
     "metadata": {},
     "output_type": "execute_result"
    }
   ],
   "source": [
    "using LinearAlgebraicRepresentation, ViewerGL\n",
    "using BenchmarkTools\n",
    "using Distributed\n",
    "GL = ViewerGL\n",
    "filename = \"../examples/examples3D/OBJ/teapot.obj\";\n",
    "\n",
    "W, EVs, FVs = Lar.obj2lar(filename);\n",
    "WW = [[i] for i = 1:size(W, 2)];\n",
    "V, VV = Lar.apply(Lar.r(pi / 2, 0, 0), (W, WW)); #object rotated\n",
    "\n",
    "points = convert(Lar.Points, V')\n",
    "#=\n",
    "GL.VIEW([\n",
    "    GL.GLPoints(points)\n",
    "    GL.GLAxis(GL.Point3d(-1, -1, -1), GL.Point3d(1, 1, 1))\n",
    "]);\n",
    "=#"
   ]
  },
  {
   "cell_type": "code",
   "execution_count": 149,
   "metadata": {},
   "outputs": [
    {
     "name": "stdout",
     "output_type": "stream",
     "text": [
      "  5.835 s (33372481 allocations: 3.73 GiB)\n"
     ]
    }
   ],
   "source": [
    "@btime filtration = AlphaStructures.alphaFilter(V); # 5.039 s (35330571 allocations: 3.80 GiB)"
   ]
  },
  {
   "cell_type": "code",
   "execution_count": 150,
   "metadata": {},
   "outputs": [],
   "source": [
    "@benchmark filtration = AlphaStructures.alphaFilter(V);"
   ]
  },
  {
   "cell_type": "code",
   "execution_count": 151,
   "metadata": {},
   "outputs": [
    {
     "name": "stdout",
     "output_type": "stream",
     "text": [
      "Variables\n",
      "  #self#\u001b[36m::Core.Compiler.Const(Main.AlphaStructures.alphaFilter, false)\u001b[39m\n",
      "  V\u001b[36m::Array{Float64,2}\u001b[39m\n",
      "\n",
      "Body\u001b[36m::SortedDict{Array{Int64,1},Float64,Base.Order.ForwardOrdering}\u001b[39m\n",
      "\u001b[90m1 ─\u001b[39m %1 = Core.apply_type(Main.AlphaStructures.Array, Main.AlphaStructures.Int64, 1)\u001b[36m::Core.Compiler.Const(Array{Int64,1}, false)\u001b[39m\n",
      "\u001b[90m│  \u001b[39m %2 = Base.getindex(%1)\u001b[36m::Array{Array{Int64,1},1}\u001b[39m\n",
      "\u001b[90m│  \u001b[39m %3 = (#self#)(V, %2)\u001b[36m::SortedDict{Array{Int64,1},Float64,Base.Order.ForwardOrdering}\u001b[39m\n",
      "\u001b[90m└──\u001b[39m      return %3\n"
     ]
    }
   ],
   "source": [
    "@code_warntype AlphaStructures.alphaFilter(V);"
   ]
  },
  {
   "cell_type": "code",
   "execution_count": 152,
   "metadata": {},
   "outputs": [],
   "source": [
    "filtration = AlphaStructures.alphaFilter(V);"
   ]
  },
  {
   "cell_type": "code",
   "execution_count": 153,
   "metadata": {},
   "outputs": [
    {
     "name": "stdout",
     "output_type": "stream",
     "text": [
      "  1.988 ms (55 allocations: 205.47 KiB)\n"
     ]
    },
    {
     "data": {
      "text/plain": [
       "4-element Array{Array{Array{Int64,1},1},1}:\n",
       " [[1], [2], [3], [4], [5], [6], [7], [8], [9], [10]  …  [520], [521], [522], [523], [524], [525], [526], [527], [528], [529]]\n",
       " [[1, 2], [1, 3], [1, 4], [1, 8], [1, 10], [1, 76], [1, 77], [1, 82], [1, 472], [1, 473]  …  [523, 524], [523, 527], [523, 528], [524, 525], [524, 528], [524, 529], [525, 529], [526, 527], [527, 528], [528, 529]]\n",
       " [[1, 2, 3], [1, 2, 8], [1, 2, 10], [1, 2, 472], [1, 3, 4], [1, 3, 8], [1, 3, 472], [1, 4, 8], [1, 4, 77], [1, 4, 472]  …  [519, 522, 523], [520, 521, 524], [520, 523, 524], [521, 524, 525], [522, 523, 527], [522, 526, 527], [523, 524, 528], [523, 527, 528], [524, 525, 529], [524, 528, 529]]\n",
       " [[1, 2, 3, 8], [1, 2, 3, 472], [1, 2, 8, 10], [1, 3, 4, 8], [1, 3, 4, 472], [1, 4, 8, 77], [1, 4, 77, 529], [1, 4, 472, 473], [1, 4, 473, 529], [1, 8, 10, 76]  …  [459, 460, 518, 522], [459, 460, 522, 526], [460, 461, 464, 465], [460, 461, 465, 526], [460, 461, 518, 522], [460, 461, 522, 526], [460, 463, 464, 526], [460, 464, 465, 526], [463, 464, 467, 526], [464, 465, 467, 526]]"
      ]
     },
     "execution_count": 153,
     "metadata": {},
     "output_type": "execute_result"
    }
   ],
   "source": [
    "@btime VV, EV, FV, TV = AlphaStructures.alphaSimplex(V, filtration, 3.7) # 2.110 ms (55 allocations: 205.47 KiB)"
   ]
  },
  {
   "cell_type": "code",
   "execution_count": 154,
   "metadata": {},
   "outputs": [
    {
     "data": {
      "text/plain": [
       "BenchmarkTools.Trial: \n",
       "  memory estimate:  205.47 KiB\n",
       "  allocs estimate:  55\n",
       "  --------------\n",
       "  minimum time:     1.951 ms (0.00% GC)\n",
       "  median time:      2.952 ms (0.00% GC)\n",
       "  mean time:        3.662 ms (0.90% GC)\n",
       "  maximum time:     56.000 ms (0.00% GC)\n",
       "  --------------\n",
       "  samples:          1365\n",
       "  evals/sample:     1"
      ]
     },
     "execution_count": 154,
     "metadata": {},
     "output_type": "execute_result"
    }
   ],
   "source": [
    "@benchmark VV, EV, FV, TV = AlphaStructures.alphaSimplex(V, filtration, 3.7)"
   ]
  },
  {
   "cell_type": "code",
   "execution_count": 155,
   "metadata": {},
   "outputs": [
    {
     "name": "stdout",
     "output_type": "stream",
     "text": [
      "Variables\n",
      "  #self#\u001b[36m::Core.Compiler.Const(Main.AlphaStructures.alphaSimplex, false)\u001b[39m\n",
      "  V\u001b[36m::Array{Float64,2}\u001b[39m\n",
      "  filtration\u001b[36m::SortedDict{Array{Int64,1},Float64,Base.Order.ForwardOrdering}\u001b[39m\n",
      "  α_threshold\u001b[36m::Float64\u001b[39m\n",
      "  #12\u001b[36m::Main.AlphaStructures.var\"#12#14\"{Array{Float64,2},SortedDict{Array{Int64,1},Float64,Base.Order.ForwardOrdering},Float64}\u001b[39m\n",
      "\n",
      "Body\u001b[36m::Array{Array{Array{Int64,1},1},1}\u001b[39m\n",
      "\u001b[90m1 ─\u001b[39m %1  = LinearAlgebraicRepresentation.Cells\u001b[36m::Core.Compiler.Const(Array{Array{Int64,1},1}, false)\u001b[39m\n",
      "\u001b[90m│  \u001b[39m %2  = Core.apply_type(Main.AlphaStructures.Array, %1, 1)\u001b[36m::Core.Compiler.Const(Array{Array{Array{Int64,1},1},1}, false)\u001b[39m\n",
      "\u001b[90m│  \u001b[39m %3  = Main.AlphaStructures.:(var\"#12#14\")\u001b[36m::Core.Compiler.Const(Main.AlphaStructures.var\"#12#14\", false)\u001b[39m\n",
      "\u001b[90m│  \u001b[39m %4  = Core.typeof(V)\u001b[36m::Core.Compiler.Const(Array{Float64,2}, false)\u001b[39m\n",
      "\u001b[90m│  \u001b[39m %5  = Core.typeof(filtration)\u001b[36m::Core.Compiler.Const(SortedDict{Array{Int64,1},Float64,Base.Order.ForwardOrdering}, false)\u001b[39m\n",
      "\u001b[90m│  \u001b[39m %6  = Core.typeof(α_threshold)\u001b[36m::Core.Compiler.Const(Float64, false)\u001b[39m\n",
      "\u001b[90m│  \u001b[39m %7  = Core.apply_type(%3, %4, %5, %6)\u001b[36m::Core.Compiler.Const(Main.AlphaStructures.var\"#12#14\"{Array{Float64,2},SortedDict{Array{Int64,1},Float64,Base.Order.ForwardOrdering},Float64}, false)\u001b[39m\n",
      "\u001b[90m│  \u001b[39m       (#12 = %new(%7, V, filtration, α_threshold))\n",
      "\u001b[90m│  \u001b[39m %9  = #12\u001b[36m::Main.AlphaStructures.var\"#12#14\"{Array{Float64,2},SortedDict{Array{Int64,1},Float64,Base.Order.ForwardOrdering},Float64}\u001b[39m\n",
      "\u001b[90m│  \u001b[39m %10 = (TimerOutputs.timeit)(%9, Main.AlphaStructures.to, \"alphaSimplex\")\u001b[36m::Array{Array{Array{Int64,1},1},1}\u001b[39m\n",
      "\u001b[90m│  \u001b[39m %11 = Base.convert(%2, %10)\u001b[36m::Array{Array{Array{Int64,1},1},1}\u001b[39m\n",
      "\u001b[90m│  \u001b[39m %12 = Core.typeassert(%11, %2)\u001b[36m::Array{Array{Array{Int64,1},1},1}\u001b[39m\n",
      "\u001b[90m└──\u001b[39m       return %12\n"
     ]
    }
   ],
   "source": [
    "@code_warntype AlphaStructures.alphaSimplex(V, filtration, 3.7)"
   ]
  },
  {
   "cell_type": "code",
   "execution_count": 156,
   "metadata": {},
   "outputs": [
    {
     "name": "stdout",
     "output_type": "stream",
     "text": [
      "α = 1.265860571903555\n",
      "  707.758 μs (20 allocations: 19.34 KiB)\n",
      "α = 1.2780301457518404\n",
      "  698.427 μs (20 allocations: 19.34 KiB)\n",
      "α = 1.3983413782049077\n",
      "  762.883 μs (20 allocations: 19.34 KiB)\n",
      "α = 1.5366627126666408\n",
      "  719.961 μs (20 allocations: 19.34 KiB)\n",
      "α = 1.871920996779934\n",
      "  714.646 μs (20 allocations: 19.34 KiB)\n",
      "α = 2.5996203915013227\n",
      "  1.094 ms (20 allocations: 19.34 KiB)\n",
      "α = 2.8424030022629454\n",
      "  713.759 μs (20 allocations: 19.34 KiB)\n",
      "α = 3.424469084074446\n",
      "  685.758 μs (20 allocations: 19.34 KiB)\n",
      "α = 3.531274098473569\n",
      "  754.817 μs (20 allocations: 19.34 KiB)\n",
      "α = 12.466449032742563\n",
      "  734.776 μs (20 allocations: 19.34 KiB)\n",
      "α = Inf\n",
      "  680.355 μs (20 allocations: 19.34 KiB)\n"
     ]
    }
   ],
   "source": [
    "VV, EV, FV, TV = AlphaStructures.alphaSimplex(V, filtration, 3.7)\n",
    "#=\n",
    "GL.VIEW([\n",
    "    GL.GLGrid(V, EV, GL.COLORS[1], 0.6) # White\n",
    "    GL.GLGrid(V, FV, GL.COLORS[2], 0.3) # Red\n",
    "    GL.GLGrid(V, TV, GL.COLORS[3], 0.3) # Green\n",
    "]);\n",
    "=#\n",
    "filter_key = sort(unique(values(filtration)))\n",
    "\n",
    "granular = 10\n",
    "\n",
    "reduced_filter =\n",
    "    filter_key[sort(abs.(rand(Int, granular) .% length(filter_key)))]\n",
    "reduced_filter = [reduced_filter; max(filter_key...)]\n",
    "\n",
    "α=0.0\n",
    "for α in reduced_filter\n",
    "    @show α\n",
    "    @btime VVV, EEV, FFV, TTV = AlphaStructures.alphaSimplex(V, filtration, α) # 685.523 μs (20 allocations: 19.34 KiB) in media\n",
    "end"
   ]
  },
  {
   "cell_type": "markdown",
   "metadata": {},
   "source": [
    "# Esempio 2D (utilizzando le funzioni del vecchio modulo)"
   ]
  },
  {
   "cell_type": "code",
   "execution_count": 157,
   "metadata": {},
   "outputs": [],
   "source": [
    "\"\"\"\n",
    "    pointsRand(V, VV, n, m)\n",
    "\n",
    "Generate random points inside and otuside `(V, VV)`.\n",
    "\"\"\"\n",
    "function pointsRand(\n",
    "        V::Lar.Points, EV::Lar.Cells, n = 1000, m = 0\n",
    "    )::Tuple{Lar.Points, Lar.Points, Lar.Cells, Lar.Cells}\n",
    "    classify = Lar.pointInPolygonClassification(V, EV)\n",
    "    Vi = [0;0]\n",
    "    Ve = [0;0]\n",
    "    k1 = 0\n",
    "    k2 = 0\n",
    "    while k1 < n || k2 < m\n",
    "        queryPoint = [rand();rand()]\n",
    "        inOut = classify(queryPoint)\n",
    "\n",
    "        if k1 < n && inOut == \"p_in\"\n",
    "            Vi = hcat(Vi, queryPoint)\n",
    "            k1 = k1 + 1;\n",
    "        end\n",
    "        if k2 < m && inOut == \"p_out\"\n",
    "            Ve = hcat(Ve, queryPoint)\n",
    "            k2 = k2 + 1;\n",
    "        end\n",
    "    end\n",
    "    VVi = [[i] for i = 1 : n]\n",
    "    VVe = [[i] for i = 1 : m]\n",
    "    return Vi[:,2:end], Ve[:,2:end], VVi, VVe\n",
    "end\n",
    "\n",
    "filename = \"../examples/examples2D/svg_files/Lar2.svg\";\n",
    "\n",
    "V,EV = Lar.svg2lar(filename);\n",
    "\n",
    "Vi, Ve, VVi, VVe = pointsRand(V, EV, 1000, 10000);\n",
    "\n",
    "#=\n",
    "GL.VIEW([\n",
    " \tGL.GLGrid(Vi, VVi, GL.COLORS[1], 1)\n",
    " \tGL.GLGrid(Ve, VVe, GL.COLORS[12], 1)\n",
    "])\n",
    "=#"
   ]
  },
  {
   "cell_type": "code",
   "execution_count": 158,
   "metadata": {},
   "outputs": [
    {
     "name": "stdout",
     "output_type": "stream",
     "text": [
      "  37.081 ms (370628 allocations: 25.51 MiB)\n"
     ]
    }
   ],
   "source": [
    "@btime filtration = alphaFilter(Vi); # 38.343 ms (371714 allocations: 25.58 MiB)"
   ]
  },
  {
   "cell_type": "code",
   "execution_count": 159,
   "metadata": {},
   "outputs": [],
   "source": [
    "@benchmark filtration = alphaFilter(Vi);"
   ]
  },
  {
   "cell_type": "code",
   "execution_count": 160,
   "metadata": {},
   "outputs": [
    {
     "name": "stdout",
     "output_type": "stream",
     "text": [
      "Variables\n",
      "  #self#\u001b[36m::Core.Compiler.Const(alphaFilter, false)\u001b[39m\n",
      "  V\u001b[36m::Array{Float64,2}\u001b[39m\n",
      "\n",
      "Body\u001b[36m::SortedDict{Array{Int64,1},Float64,Base.Order.ForwardOrdering}\u001b[39m\n",
      "\u001b[90m1 ─\u001b[39m %1 = Core.apply_type(Main.Array, Main.Int64, 1)\u001b[36m::Core.Compiler.Const(Array{Int64,1}, false)\u001b[39m\n",
      "\u001b[90m│  \u001b[39m %2 = Base.getindex(%1)\u001b[36m::Array{Array{Int64,1},1}\u001b[39m\n",
      "\u001b[90m│  \u001b[39m %3 = (#self#)(V, %2)\u001b[36m::SortedDict{Array{Int64,1},Float64,Base.Order.ForwardOrdering}\u001b[39m\n",
      "\u001b[90m└──\u001b[39m      return %3\n"
     ]
    }
   ],
   "source": [
    "@code_warntype alphaFilter(Vi);"
   ]
  },
  {
   "cell_type": "code",
   "execution_count": 161,
   "metadata": {},
   "outputs": [],
   "source": [
    "filtration = alphaFilter(Vi);"
   ]
  },
  {
   "cell_type": "code",
   "execution_count": 162,
   "metadata": {},
   "outputs": [
    {
     "name": "stdout",
     "output_type": "stream",
     "text": [
      "  669.334 μs (41 allocations: 134.94 KiB)\n"
     ]
    },
    {
     "data": {
      "text/plain": [
       "3-element Array{Array{Array{Int64,1},1},1}:\n",
       " [[1], [2], [3], [4], [5], [6], [7], [8], [9], [10]  …  [991], [992], [993], [994], [995], [996], [997], [998], [999], [1000]]\n",
       " [[1, 95], [1, 379], [1, 795], [1, 826], [2, 149], [2, 150], [2, 194], [2, 231], [2, 526], [3, 4]  …  [951, 966], [952, 975], [955, 958], [963, 983], [969, 997], [971, 975], [974, 987], [977, 979], [984, 988], [994, 997]]\n",
       " [[1, 95, 795], [1, 95, 826], [1, 379, 795], [1, 379, 826], [2, 149, 231], [2, 149, 526], [2, 150, 194], [2, 150, 526], [2, 194, 231], [3, 4, 405]  …  [840, 866, 872], [852, 908, 919], [858, 867, 976], [869, 913, 918], [874, 896, 939], [883, 894, 917], [889, 923, 968], [897, 899, 945], [899, 935, 945], [907, 932, 986]]"
      ]
     },
     "execution_count": 162,
     "metadata": {},
     "output_type": "execute_result"
    }
   ],
   "source": [
    "@btime VV,EV,FV = alphaSimplex(Vi, filtration, 0.02) # 744.878 μs (41 allocations: 135.13 KiB)"
   ]
  },
  {
   "cell_type": "code",
   "execution_count": 163,
   "metadata": {},
   "outputs": [
    {
     "data": {
      "text/plain": [
       "BenchmarkTools.Trial: \n",
       "  memory estimate:  134.94 KiB\n",
       "  allocs estimate:  41\n",
       "  --------------\n",
       "  minimum time:     661.807 μs (0.00% GC)\n",
       "  median time:      1.070 ms (0.00% GC)\n",
       "  mean time:        1.262 ms (1.79% GC)\n",
       "  maximum time:     15.527 ms (87.24% GC)\n",
       "  --------------\n",
       "  samples:          3948\n",
       "  evals/sample:     1"
      ]
     },
     "execution_count": 163,
     "metadata": {},
     "output_type": "execute_result"
    }
   ],
   "source": [
    "@benchmark VV,EV,FV = alphaSimplex(Vi, filtration, 0.02)"
   ]
  },
  {
   "cell_type": "code",
   "execution_count": 164,
   "metadata": {},
   "outputs": [
    {
     "name": "stdout",
     "output_type": "stream",
     "text": [
      "Variables\n",
      "  #self#\u001b[36m::Core.Compiler.Const(alphaSimplex, false)\u001b[39m\n",
      "  V\u001b[36m::Array{Float64,2}\u001b[39m\n",
      "  filtration\u001b[36m::SortedDict{Array{Int64,1},Float64,Base.Order.ForwardOrdering}\u001b[39m\n",
      "  α_threshold\u001b[36m::Float64\u001b[39m\n",
      "  #446\u001b[36m::var\"#446#447\"\u001b[39m\n",
      "  dim\u001b[36m::Int64\u001b[39m\n",
      "  simplexCollection\u001b[36m::Array{Array{Array{Int64,1},1},1}\u001b[39m\n",
      "  @_8\u001b[33m\u001b[1m::Union{Nothing, Tuple{Pair{Array{Int64,1},Float64},DataStructures.SAIterationState}}\u001b[22m\u001b[39m\n",
      "  k\u001b[36m::Array{Int64,1}\u001b[39m\n",
      "  v\u001b[36m::Float64\u001b[39m\n",
      "  @_11\u001b[36m::Int64\u001b[39m\n",
      "\n",
      "Body\u001b[91m\u001b[1m::Array{_A,1} where _A\u001b[22m\u001b[39m\n",
      "\u001b[90m1 ─\u001b[39m %1  = Base.getproperty(Main.Lar, :Cells)\u001b[91m\u001b[1m::Any\u001b[22m\u001b[39m\n",
      "\u001b[90m│  \u001b[39m %2  = Core.apply_type(Main.Array, %1, 1)\u001b[91m\u001b[1m::Type{Array{_A,1}} where _A\u001b[22m\u001b[39m\n",
      "\u001b[90m│  \u001b[39m       (dim = Main.size(V, 1))\n",
      "\u001b[90m│  \u001b[39m       (#446 = %new(Main.:(var\"#446#447\")))\n",
      "\u001b[90m│  \u001b[39m %5  = #446\u001b[36m::Core.Compiler.Const(var\"#446#447\"(), false)\u001b[39m\n",
      "\u001b[90m│  \u001b[39m %6  = (dim + 1)\u001b[36m::Int64\u001b[39m\n",
      "\u001b[90m│  \u001b[39m %7  = (1:%6)\u001b[36m::Core.Compiler.PartialStruct(UnitRange{Int64}, Any[Core.Compiler.Const(1, false), Int64])\u001b[39m\n",
      "\u001b[90m│  \u001b[39m %8  = Base.Generator(%5, %7)\u001b[36m::Core.Compiler.PartialStruct(Base.Generator{UnitRange{Int64},var\"#446#447\"}, Any[Core.Compiler.Const(var\"#446#447\"(), false), Core.Compiler.PartialStruct(UnitRange{Int64}, Any[Core.Compiler.Const(1, false), Int64])])\u001b[39m\n",
      "\u001b[90m│  \u001b[39m       (simplexCollection = Base.collect(%8))\n",
      "\u001b[90m│  \u001b[39m %10 = filtration\u001b[36m::SortedDict{Array{Int64,1},Float64,Base.Order.ForwardOrdering}\u001b[39m\n",
      "\u001b[90m│  \u001b[39m       (@_8 = Base.iterate(%10))\n",
      "\u001b[90m│  \u001b[39m %12 = (@_8 === nothing)\u001b[36m::Bool\u001b[39m\n",
      "\u001b[90m│  \u001b[39m %13 = Base.not_int(%12)\u001b[36m::Bool\u001b[39m\n",
      "\u001b[90m└──\u001b[39m       goto #6 if not %13\n",
      "\u001b[90m2 ┄\u001b[39m %15 = @_8::Tuple{Pair{Array{Int64,1},Float64},DataStructures.SAIterationState}\u001b[36m::Tuple{Pair{Array{Int64,1},Float64},DataStructures.SAIterationState}\u001b[39m\n",
      "\u001b[90m│  \u001b[39m %16 = Core.getfield(%15, 1)\u001b[36m::Pair{Array{Int64,1},Float64}\u001b[39m\n",
      "\u001b[90m│  \u001b[39m %17 = Base.indexed_iterate(%16, 1)\u001b[36m::Core.Compiler.PartialStruct(Tuple{Array{Int64,1},Int64}, Any[Array{Int64,1}, Core.Compiler.Const(2, false)])\u001b[39m\n",
      "\u001b[90m│  \u001b[39m       (k = Core.getfield(%17, 1))\n",
      "\u001b[90m│  \u001b[39m       (@_11 = Core.getfield(%17, 2))\n",
      "\u001b[90m│  \u001b[39m %20 = Base.indexed_iterate(%16, 2, @_11::Core.Compiler.Const(2, false))\u001b[36m::Core.Compiler.PartialStruct(Tuple{Float64,Int64}, Any[Float64, Core.Compiler.Const(3, false)])\u001b[39m\n",
      "\u001b[90m│  \u001b[39m       (v = Core.getfield(%20, 1))\n",
      "\u001b[90m│  \u001b[39m %22 = Core.getfield(%15, 2)\u001b[36m::DataStructures.SAIterationState\u001b[39m\n",
      "\u001b[90m│  \u001b[39m %23 = (v <= α_threshold)\u001b[36m::Bool\u001b[39m\n",
      "\u001b[90m└──\u001b[39m       goto #4 if not %23\n",
      "\u001b[90m3 ─\u001b[39m %25 = simplexCollection\u001b[36m::Array{Array{Array{Int64,1},1},1}\u001b[39m\n",
      "\u001b[90m│  \u001b[39m %26 = Main.length(k)\u001b[36m::Int64\u001b[39m\n",
      "\u001b[90m│  \u001b[39m %27 = Base.getindex(%25, %26)\u001b[36m::Array{Array{Int64,1},1}\u001b[39m\n",
      "\u001b[90m└──\u001b[39m       Main.push!(%27, k)\n",
      "\u001b[90m4 ┄\u001b[39m       (@_8 = Base.iterate(%10, %22))\n",
      "\u001b[90m│  \u001b[39m %30 = (@_8 === nothing)\u001b[36m::Bool\u001b[39m\n",
      "\u001b[90m│  \u001b[39m %31 = Base.not_int(%30)\u001b[36m::Bool\u001b[39m\n",
      "\u001b[90m└──\u001b[39m       goto #6 if not %31\n",
      "\u001b[90m5 ─\u001b[39m       goto #2\n",
      "\u001b[90m6 ┄\u001b[39m %34 = Base.broadcasted(Main.sort!, simplexCollection)\u001b[36m::Base.Broadcast.Broadcasted{Base.Broadcast.DefaultArrayStyle{1},Nothing,typeof(sort!),Tuple{Array{Array{Array{Int64,1},1},1}}}\u001b[39m\n",
      "\u001b[90m│  \u001b[39m       Base.materialize(%34)\n",
      "\u001b[90m│  \u001b[39m %36 = Base.convert(%2, simplexCollection)\u001b[91m\u001b[1m::Any\u001b[22m\u001b[39m\n",
      "\u001b[90m│  \u001b[39m %37 = Core.typeassert(%36, %2)\u001b[91m\u001b[1m::Array{_A,1} where _A\u001b[22m\u001b[39m\n",
      "\u001b[90m└──\u001b[39m       return %37\n"
     ]
    }
   ],
   "source": [
    "@code_warntype alphaSimplex(Vi, filtration, 0.02)"
   ]
  },
  {
   "cell_type": "code",
   "execution_count": 165,
   "metadata": {},
   "outputs": [
    {
     "name": "stdout",
     "output_type": "stream",
     "text": [
      "α = 0.0018494497798915769\n",
      "  261.513 μs (18 allocations: 21.00 KiB)\n",
      "α = 0.00253210014694557\n",
      "  259.700 μs (18 allocations: 21.00 KiB)\n",
      "α = 0.0028012478588421755\n",
      "  260.478 μs (18 allocations: 21.00 KiB)\n",
      "α = 0.0034753877675220367\n",
      "  259.635 μs (18 allocations: 21.00 KiB)\n",
      "α = 0.003598361131796303\n",
      "  258.062 μs (18 allocations: 21.00 KiB)\n",
      "α = 0.006173783133085484\n",
      "  262.677 μs (18 allocations: 21.00 KiB)\n",
      "α = 0.0068323061765421635\n",
      "  260.661 μs (18 allocations: 21.00 KiB)\n",
      "α = 0.006963655998767298\n",
      "  260.080 μs (18 allocations: 21.00 KiB)\n",
      "α = 0.009613007777398961\n",
      "  259.491 μs (18 allocations: 21.00 KiB)\n",
      "α = 0.20729729402455183\n",
      "  260.211 μs (18 allocations: 21.00 KiB)\n",
      "α = 332.50575236914773\n",
      "  262.542 μs (18 allocations: 21.00 KiB)\n",
      "  279.896 μs (30 allocations: 26.53 KiB)\n",
      "  311.782 μs (36 allocations: 42.03 KiB)\n",
      "  280.894 μs (30 allocations: 26.53 KiB)\n",
      "  310.309 μs (36 allocations: 42.03 KiB)\n",
      "  296.164 μs (30 allocations: 26.53 KiB)\n",
      "  314.567 μs (36 allocations: 42.03 KiB)\n",
      "  279.645 μs (30 allocations: 26.53 KiB)\n",
      "  310.957 μs (36 allocations: 42.03 KiB)\n",
      "  279.446 μs (30 allocations: 26.53 KiB)\n",
      "  311.422 μs (36 allocations: 42.03 KiB)\n",
      "  280.510 μs (30 allocations: 26.53 KiB)\n",
      "  309.993 μs (36 allocations: 42.03 KiB)\n",
      "  284.877 μs (30 allocations: 26.53 KiB)\n",
      "  318.077 μs (36 allocations: 42.03 KiB)\n",
      "  282.100 μs (30 allocations: 26.53 KiB)\n",
      "  315.863 μs (36 allocations: 42.03 KiB)\n",
      "  281.250 μs (30 allocations: 26.53 KiB)\n",
      "  312.789 μs (36 allocations: 42.03 KiB)\n",
      "  279.504 μs (30 allocations: 26.53 KiB)\n",
      "  308.713 μs (36 allocations: 42.03 KiB)\n",
      "  279.375 μs (30 allocations: 26.53 KiB)\n",
      "  309.504 μs (36 allocations: 42.03 KiB)\n",
      "  279.423 μs (30 allocations: 26.53 KiB)\n",
      "  310.063 μs (36 allocations: 42.03 KiB)\n",
      "  279.507 μs (30 allocations: 26.53 KiB)\n",
      "  308.733 μs (36 allocations: 42.03 KiB)\n"
     ]
    }
   ],
   "source": [
    "VV,EV,FV = alphaSimplex(Vi, filtration, 0.02)\n",
    "points = [[p] for p in VV]\n",
    "faces = [[f] for f in FV]\n",
    "edges = [[e] for e in EV]\n",
    "#GL.VIEW(\n",
    "#    GL.GLExplode(Vi, [edges; faces], 1.5, 1.5, 1.5, 99, 1)\n",
    "# );\n",
    "\n",
    "filter_key = sort(unique(values(filtration)))\n",
    "\n",
    "granular = 10\n",
    "\n",
    "reduced_filter = filter_key[sort(abs.(rand(Int, granular).%length(filter_key)))]\n",
    "reduced_filter = [reduced_filter; max(filter_key...)]\n",
    "\n",
    "#\n",
    "# Arlecchino's Lar\n",
    "#\n",
    "#\n",
    "α = 0.0\n",
    "for α in reduced_filter\n",
    "    @show α\n",
    "    @btime VV,EV,FV = alphaSimplex(Vi, filtration, α) # 315.970 μs (18 allocations: 21.00 KiB) in media\n",
    "    #VV,EV,FV = alphaSimplex(Vi, filtration, α)\n",
    "\n",
    "    #=\n",
    "    GL.VIEW(\n",
    "        GL.GLExplode(\n",
    "            Vi,\n",
    "            [[[f] for f in FV]; [[e] for e in EV]],\n",
    "            1., 1., 1.,\t# Explode Ratio\n",
    "            99, 1\t\t# Colors\n",
    "        )\n",
    "    )\n",
    "    =#\n",
    "    \n",
    "end\n",
    "#\n",
    "#\n",
    "# Appearing Colors\n",
    "#\n",
    "\n",
    "reduced_filter = [\n",
    "    0.002;\t0.003;\t0.004;\t0.005;  0.006;\n",
    "    0.007;\t0.008;\t0.009;\t0.010;\t0.013;\n",
    "    0.015;\t0.020;\t0.050;\t1.000\n",
    "]\n",
    "\n",
    "i=2\n",
    "for i = 2 : length(reduced_filter)\n",
    "    @btime VV0, EV0, FV0 = alphaSimplex(Vi, filtration, reduced_filter[i-1])# 337.409 μs (36 allocations: 42.03 KiB) in media\n",
    "    @btime VV,  EV,  FV  = alphaSimplex(Vi, filtration, reduced_filter[i])# 297.250 μs (32 allocations: 30.86 KiB) in media\n",
    "    \n",
    "    #=EV0mesh = GL.GLGrid(Vi, EV0)\n",
    "    FV0mesh = GL.GLGrid(Vi, FV0)\n",
    "    EVmesh = GL.GLGrid(Vi, setdiff(EV, EV0), GL.COLORS[2], 1)\n",
    "    FVmesh = GL.GLGrid(Vi, setdiff(FV, FV0), GL.COLORS[7], 1)\n",
    "    GL.VIEW([EV0mesh; FV0mesh; EVmesh; FVmesh])=#\n",
    "end"
   ]
  },
  {
   "cell_type": "markdown",
   "metadata": {},
   "source": [
    "# Esempio 2D (utilizzando le funzioni del nuovo modulo)"
   ]
  },
  {
   "cell_type": "code",
   "execution_count": 166,
   "metadata": {},
   "outputs": [],
   "source": [
    "\"\"\"\n",
    "    pointsRand(V, VV, n, m)\n",
    "\n",
    "Generate random points inside and otuside `(V, VV)`.\n",
    "\"\"\"\n",
    "function pointsRand(\n",
    "        V::Lar.Points, EV::Lar.Cells, n = 1000, m = 0\n",
    "    )::Tuple{Lar.Points, Lar.Points, Lar.Cells, Lar.Cells}\n",
    "    classify = Lar.pointInPolygonClassification(V, EV)\n",
    "    Vi = [0;0]\n",
    "    Ve = [0;0]\n",
    "    k1 = 0\n",
    "    k2 = 0\n",
    "    while k1 < n || k2 < m\n",
    "        queryPoint = [rand();rand()]\n",
    "        inOut = classify(queryPoint)\n",
    "\n",
    "        if k1 < n && inOut == \"p_in\"\n",
    "            Vi = hcat(Vi, queryPoint)\n",
    "            k1 = k1 + 1;\n",
    "        end\n",
    "        if k2 < m && inOut == \"p_out\"\n",
    "            Ve = hcat(Ve, queryPoint)\n",
    "            k2 = k2 + 1;\n",
    "        end\n",
    "    end\n",
    "    VVi = [[i] for i = 1 : n]\n",
    "    VVe = [[i] for i = 1 : m]\n",
    "    return Vi[:,2:end], Ve[:,2:end], VVi, VVe\n",
    "end\n",
    "\n",
    "filename = \"../examples/examples2D/svg_files/Lar2.svg\";\n",
    "\n",
    "V,EV = Lar.svg2lar(filename);\n",
    "\n",
    "Vi, Ve, VVi, VVe = pointsRand(V, EV, 1000, 10000);\n",
    "\n",
    "#=\n",
    "GL.VIEW([\n",
    " \tGL.GLGrid(Vi, VVi, GL.COLORS[1], 1)\n",
    " \tGL.GLGrid(Ve, VVe, GL.COLORS[12], 1)\n",
    "])\n",
    "=#"
   ]
  },
  {
   "cell_type": "code",
   "execution_count": 167,
   "metadata": {},
   "outputs": [
    {
     "name": "stdout",
     "output_type": "stream",
     "text": [
      "  29.011 ms (282384 allocations: 24.18 MiB)\n"
     ]
    }
   ],
   "source": [
    "@btime filtration = AlphaStructures.alphaFilter(Vi); # 30.037 ms (283750 allocations: 24.19 MiB)"
   ]
  },
  {
   "cell_type": "code",
   "execution_count": 168,
   "metadata": {},
   "outputs": [],
   "source": [
    "@benchmark filtration = AlphaStructures.alphaFilter(Vi);"
   ]
  },
  {
   "cell_type": "code",
   "execution_count": 169,
   "metadata": {},
   "outputs": [
    {
     "name": "stdout",
     "output_type": "stream",
     "text": [
      "Variables\n",
      "  #self#\u001b[36m::Core.Compiler.Const(Main.AlphaStructures.alphaFilter, false)\u001b[39m\n",
      "  V\u001b[36m::Array{Float64,2}\u001b[39m\n",
      "\n",
      "Body\u001b[36m::SortedDict{Array{Int64,1},Float64,Base.Order.ForwardOrdering}\u001b[39m\n",
      "\u001b[90m1 ─\u001b[39m %1 = Core.apply_type(Main.AlphaStructures.Array, Main.AlphaStructures.Int64, 1)\u001b[36m::Core.Compiler.Const(Array{Int64,1}, false)\u001b[39m\n",
      "\u001b[90m│  \u001b[39m %2 = Base.getindex(%1)\u001b[36m::Array{Array{Int64,1},1}\u001b[39m\n",
      "\u001b[90m│  \u001b[39m %3 = (#self#)(V, %2)\u001b[36m::SortedDict{Array{Int64,1},Float64,Base.Order.ForwardOrdering}\u001b[39m\n",
      "\u001b[90m└──\u001b[39m      return %3\n"
     ]
    }
   ],
   "source": [
    "@code_warntype AlphaStructures.alphaFilter(Vi); "
   ]
  },
  {
   "cell_type": "code",
   "execution_count": 170,
   "metadata": {},
   "outputs": [],
   "source": [
    "filtration = AlphaStructures.alphaFilter(Vi); "
   ]
  },
  {
   "cell_type": "code",
   "execution_count": 171,
   "metadata": {},
   "outputs": [
    {
     "name": "stdout",
     "output_type": "stream",
     "text": [
      "  658.656 μs (41 allocations: 134.94 KiB)\n"
     ]
    },
    {
     "data": {
      "text/plain": [
       "3-element Array{Array{Array{Int64,1},1},1}:\n",
       " [[1], [2], [3], [4], [5], [6], [7], [8], [9], [10]  …  [991], [992], [993], [994], [995], [996], [997], [998], [999], [1000]]\n",
       " [[1, 54], [1, 186], [1, 224], [1, 289], [1, 387], [1, 801], [2, 166], [2, 389], [2, 806], [2, 985]  …  [933, 960], [939, 944], [942, 956], [945, 966], [961, 994], [965, 994], [966, 967], [969, 992], [970, 973], [978, 999]]\n",
       " [[1, 54, 387], [1, 54, 801], [1, 186, 224], [1, 186, 801], [1, 224, 289], [1, 289, 387], [2, 166, 806], [2, 166, 985], [2, 389, 806], [2, 389, 985]  …  [845, 890, 995], [858, 939, 944], [871, 920, 942], [871, 920, 964], [871, 924, 927], [871, 927, 964], [872, 906, 996], [918, 966, 967], [925, 939, 944], [930, 942, 956]]"
      ]
     },
     "execution_count": 171,
     "metadata": {},
     "output_type": "execute_result"
    }
   ],
   "source": [
    "@btime VV,EV,FV = AlphaStructures.alphaSimplex(Vi, filtration, 0.02) # 690.470 μs (41 allocations: 135.00 KiB)"
   ]
  },
  {
   "cell_type": "code",
   "execution_count": 172,
   "metadata": {},
   "outputs": [
    {
     "data": {
      "text/plain": [
       "BenchmarkTools.Trial: \n",
       "  memory estimate:  134.94 KiB\n",
       "  allocs estimate:  41\n",
       "  --------------\n",
       "  minimum time:     661.880 μs (0.00% GC)\n",
       "  median time:      954.317 μs (0.00% GC)\n",
       "  mean time:        1.449 ms (1.65% GC)\n",
       "  maximum time:     42.671 ms (0.00% GC)\n",
       "  --------------\n",
       "  samples:          3448\n",
       "  evals/sample:     1"
      ]
     },
     "execution_count": 172,
     "metadata": {},
     "output_type": "execute_result"
    }
   ],
   "source": [
    "@benchmark VV,EV,FV = AlphaStructures.alphaSimplex(Vi, filtration, 0.02)"
   ]
  },
  {
   "cell_type": "code",
   "execution_count": 173,
   "metadata": {},
   "outputs": [
    {
     "name": "stdout",
     "output_type": "stream",
     "text": [
      "Variables\n",
      "  #self#\u001b[36m::Core.Compiler.Const(Main.AlphaStructures.alphaSimplex, false)\u001b[39m\n",
      "  V\u001b[36m::Array{Float64,2}\u001b[39m\n",
      "  filtration\u001b[36m::SortedDict{Array{Int64,1},Float64,Base.Order.ForwardOrdering}\u001b[39m\n",
      "  α_threshold\u001b[36m::Float64\u001b[39m\n",
      "  #12\u001b[36m::Main.AlphaStructures.var\"#12#14\"{Array{Float64,2},SortedDict{Array{Int64,1},Float64,Base.Order.ForwardOrdering},Float64}\u001b[39m\n",
      "\n",
      "Body\u001b[36m::Array{Array{Array{Int64,1},1},1}\u001b[39m\n",
      "\u001b[90m1 ─\u001b[39m %1  = LinearAlgebraicRepresentation.Cells\u001b[36m::Core.Compiler.Const(Array{Array{Int64,1},1}, false)\u001b[39m\n",
      "\u001b[90m│  \u001b[39m %2  = Core.apply_type(Main.AlphaStructures.Array, %1, 1)\u001b[36m::Core.Compiler.Const(Array{Array{Array{Int64,1},1},1}, false)\u001b[39m\n",
      "\u001b[90m│  \u001b[39m %3  = Main.AlphaStructures.:(var\"#12#14\")\u001b[36m::Core.Compiler.Const(Main.AlphaStructures.var\"#12#14\", false)\u001b[39m\n",
      "\u001b[90m│  \u001b[39m %4  = Core.typeof(V)\u001b[36m::Core.Compiler.Const(Array{Float64,2}, false)\u001b[39m\n",
      "\u001b[90m│  \u001b[39m %5  = Core.typeof(filtration)\u001b[36m::Core.Compiler.Const(SortedDict{Array{Int64,1},Float64,Base.Order.ForwardOrdering}, false)\u001b[39m\n",
      "\u001b[90m│  \u001b[39m %6  = Core.typeof(α_threshold)\u001b[36m::Core.Compiler.Const(Float64, false)\u001b[39m\n",
      "\u001b[90m│  \u001b[39m %7  = Core.apply_type(%3, %4, %5, %6)\u001b[36m::Core.Compiler.Const(Main.AlphaStructures.var\"#12#14\"{Array{Float64,2},SortedDict{Array{Int64,1},Float64,Base.Order.ForwardOrdering},Float64}, false)\u001b[39m\n",
      "\u001b[90m│  \u001b[39m       (#12 = %new(%7, V, filtration, α_threshold))\n",
      "\u001b[90m│  \u001b[39m %9  = #12\u001b[36m::Main.AlphaStructures.var\"#12#14\"{Array{Float64,2},SortedDict{Array{Int64,1},Float64,Base.Order.ForwardOrdering},Float64}\u001b[39m\n",
      "\u001b[90m│  \u001b[39m %10 = (TimerOutputs.timeit)(%9, Main.AlphaStructures.to, \"alphaSimplex\")\u001b[36m::Array{Array{Array{Int64,1},1},1}\u001b[39m\n",
      "\u001b[90m│  \u001b[39m %11 = Base.convert(%2, %10)\u001b[36m::Array{Array{Array{Int64,1},1},1}\u001b[39m\n",
      "\u001b[90m│  \u001b[39m %12 = Core.typeassert(%11, %2)\u001b[36m::Array{Array{Array{Int64,1},1},1}\u001b[39m\n",
      "\u001b[90m└──\u001b[39m       return %12\n"
     ]
    }
   ],
   "source": [
    "@code_warntype AlphaStructures.alphaSimplex(Vi, filtration, 0.02)"
   ]
  },
  {
   "cell_type": "code",
   "execution_count": null,
   "metadata": {},
   "outputs": [
    {
     "name": "stdout",
     "output_type": "stream",
     "text": [
      "α = 0.001143377007748084\n",
      "  242.695 μs (18 allocations: 21.00 KiB)\n",
      "α = 0.0030274175860053477\n",
      "  243.389 μs (18 allocations: 21.00 KiB)\n",
      "α = 0.004373761624185768\n",
      "  244.232 μs (18 allocations: 21.00 KiB)\n",
      "α = 0.004670240769166227\n",
      "  244.873 μs (18 allocations: 21.00 KiB)\n",
      "α = 0.005587395125027122\n",
      "  246.215 μs (18 allocations: 21.00 KiB)\n",
      "α = 0.005749989149830111\n",
      "  242.283 μs (18 allocations: 21.00 KiB)\n",
      "α = 0.0062719953885048765\n",
      "  242.793 μs (18 allocations: 21.00 KiB)\n",
      "α = 0.007293151915619161\n",
      "  243.567 μs (18 allocations: 21.00 KiB)\n",
      "α = 0.007782234440256091\n",
      "  243.629 μs (18 allocations: 21.00 KiB)\n",
      "α = 3.4918259237858393\n",
      "  243.032 μs (18 allocations: 21.00 KiB)\n",
      "α = 11.214595116575394\n",
      "  243.000 μs (18 allocations: 21.00 KiB)\n",
      "  265.884 μs (31 allocations: 26.72 KiB)\n",
      "  292.367 μs (36 allocations: 41.97 KiB)\n",
      "  261.878 μs (31 allocations: 26.72 KiB)\n",
      "  290.715 μs (36 allocations: 41.97 KiB)\n",
      "  263.283 μs (31 allocations: 26.72 KiB)\n",
      "  291.708 μs (36 allocations: 41.97 KiB)\n",
      "  263.455 μs (31 allocations: 26.72 KiB)\n",
      "  291.773 μs (36 allocations: 41.97 KiB)\n",
      "  262.800 μs (31 allocations: 26.72 KiB)\n",
      "  291.856 μs (36 allocations: 41.97 KiB)\n",
      "  262.769 μs (31 allocations: 26.72 KiB)\n",
      "  292.357 μs (36 allocations: 41.97 KiB)\n",
      "  263.107 μs (31 allocations: 26.72 KiB)\n",
      "  291.629 μs (36 allocations: 41.97 KiB)\n",
      "  263.258 μs (31 allocations: 26.72 KiB)\n",
      "  "
     ]
    }
   ],
   "source": [
    "VV,EV,FV = AlphaStructures.alphaSimplex(Vi, filtration, 0.02)\n",
    "points = [[p] for p in VV]\n",
    "faces = [[f] for f in FV]\n",
    "edges = [[e] for e in EV]\n",
    "#GL.VIEW(\n",
    "#    GL.GLExplode(Vi, [edges; faces], 1.5, 1.5, 1.5, 99, 1)\n",
    "# );\n",
    "\n",
    "filter_key = sort(unique(values(filtration)))\n",
    "\n",
    "granular = 10\n",
    "\n",
    "reduced_filter = filter_key[sort(abs.(rand(Int, granular).%length(filter_key)))]\n",
    "reduced_filter = [reduced_filter; max(filter_key...)]\n",
    "\n",
    "#\n",
    "# Arlecchino's Lar\n",
    "#\n",
    "#\n",
    "α = 0.0\n",
    "for α in reduced_filter\n",
    "    @show α\n",
    "    @btime VV,EV,FV = AlphaStructures.alphaSimplex(Vi, filtration, α) # 255.389 μs (18 allocations: 21.00 KiB) in media\n",
    "    #VV,EV,FV = alphaSimplex(Vi, filtration, α)\n",
    "\n",
    "    #=\n",
    "    GL.VIEW(\n",
    "        GL.GLExplode(\n",
    "            Vi,\n",
    "            [[[f] for f in FV]; [[e] for e in EV]],\n",
    "            1., 1., 1.,\t# Explode Ratio\n",
    "            99, 1\t\t# Colors\n",
    "        )\n",
    "    )\n",
    "    =#\n",
    "    \n",
    "end\n",
    "#\n",
    "#\n",
    "# Appearing Colors\n",
    "#\n",
    "\n",
    "reduced_filter = [\n",
    "    0.002;\t0.003;\t0.004;\t0.005;  0.006;\n",
    "    0.007;\t0.008;\t0.009;\t0.010;\t0.013;\n",
    "    0.015;\t0.020;\t0.050;\t1.000\n",
    "]\n",
    "\n",
    "i=2\n",
    "for i = 2 : length(reduced_filter)\n",
    "    @btime VV0, EV0, FV0 = AlphaStructures.alphaSimplex(Vi, filtration, reduced_filter[i-1]) # 292.120 μs (35 allocations: 40.78 KiB) in media\n",
    "    @btime VV,  EV,  FV  = AlphaStructures.alphaSimplex(Vi, filtration, reduced_filter[i]) # 266.537 μs (30 allocations: 26.45 KiB) in media\n",
    "    \n",
    "    #=EV0mesh = GL.GLGrid(Vi, EV0)\n",
    "    FV0mesh = GL.GLGrid(Vi, FV0)\n",
    "    EVmesh = GL.GLGrid(Vi, setdiff(EV, EV0), GL.COLORS[2], 1)\n",
    "    FVmesh = GL.GLGrid(Vi, setdiff(FV, FV0), GL.COLORS[7], 1)\n",
    "    GL.VIEW([EV0mesh; FV0mesh; EVmesh; FVmesh])=#\n",
    "end"
   ]
  },
  {
   "cell_type": "code",
   "execution_count": null,
   "metadata": {},
   "outputs": [],
   "source": []
  }
 ],
 "metadata": {
  "kernelspec": {
   "display_name": "Julia 1.5.3",
   "language": "julia",
   "name": "julia-1.5"
  },
  "language_info": {
   "file_extension": ".jl",
   "mimetype": "application/julia",
   "name": "julia",
   "version": "1.5.3"
  }
 },
 "nbformat": 4,
 "nbformat_minor": 4
}
