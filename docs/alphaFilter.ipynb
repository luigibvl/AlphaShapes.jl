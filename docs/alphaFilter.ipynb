{
 "cells": [
  {
   "cell_type": "code",
   "execution_count": 59,
   "metadata": {},
   "outputs": [
    {
     "name": "stderr",
     "output_type": "stream",
     "text": [
      "WARNING: replacing module AlphaStructures.\n"
     ]
    },
    {
     "data": {
      "text/plain": [
       "Main.AlphaStructures"
      ]
     },
     "execution_count": 59,
     "metadata": {},
     "output_type": "execute_result"
    }
   ],
   "source": [
    "using LinearAlgebraicRepresentation\n",
    "using Delaunay, Triangle\n",
    "using Combinatorics, DataStructures\n",
    "using Distributed, SharedArrays\n",
    "Lar = LinearAlgebraicRepresentation\n",
    "include(\"../src/AlphaStructures.jl\") # nuovo modulo AlphaStructures"
   ]
  },
  {
   "cell_type": "markdown",
   "metadata": {},
   "source": [
    "Di seguito tutte le funzioni originali del modulo AlphaStructures, per poter comparare i loro tempi di esecuzione con le nuove versioni delle stesse funzioni"
   ]
  },
  {
   "cell_type": "code",
   "execution_count": 60,
   "metadata": {},
   "outputs": [
    {
     "data": {
      "text/plain": [
       "findCenter (generic function with 1 method)"
      ]
     },
     "execution_count": 60,
     "metadata": {},
     "output_type": "execute_result"
    }
   ],
   "source": [
    "function findCenter(P::Lar.Points)::Array{Float64,1}\n",
    "    dim, n = size(P)\n",
    "    @assert n > 0\t\t\"findCenter: at least one points is needed.\"\n",
    "    @assert dim >= n-1\t\"findCenter: Too much points\"\n",
    "\n",
    "    @assert dim < 4\t\t\"findCenter: Function not yet Programmed.\"\n",
    "\n",
    "    if n == 1\n",
    "        center = P[:, 1]\n",
    "\n",
    "    elseif n == 2\n",
    "        #for each dimension\n",
    "        center = (P[:, 1] + P[:, 2]) / 2\n",
    "\n",
    "    elseif n == 3\n",
    "        #https://www.ics.uci.edu/~eppstein/junkyard/circumcenter.html\n",
    "        if dim == 2\n",
    "            denom = 2 * Lar.det([ P[:, 2] - P[:, 1]  P[:, 3] - P[:, 1] ])\n",
    "            deter = (P[:, 2] - P[:, 1]) * Lar.norm(P[:, 3] - P[:, 1])^2 -\n",
    "                    (P[:, 3] - P[:, 1]) * Lar.norm(P[:, 2] - P[:, 1])^2\n",
    "            numer = [- deter[2], deter[1]]\n",
    "            center = P[:, 1] + numer / denom\n",
    "\n",
    "        elseif dim == 3\n",
    "            #circumcenter of a triangle in R^3\n",
    "            numer = Lar.norm(P[:, 3] - P[:, 1])^2 * Lar.cross(\n",
    "                        Lar.cross(P[:, 2] - P[:, 1], P[:, 3] - P[:, 1]),\n",
    "                        P[:, 2] - P[:, 1]\n",
    "                    ) +\n",
    "                    Lar.norm(P[:, 2] - P[:, 1])^2 * Lar.cross(\n",
    "                        P[:, 3] - P[:, 1],\n",
    "                        Lar.cross(P[:, 2] - P[:, 1], P[:, 3] - P[:, 1]\n",
    "                    )\n",
    "            )\n",
    "            denom = 2 * Lar.norm(\n",
    "                Lar.cross(P[:, 2] - P[:, 1], P[:, 3] - P[:, 1])\n",
    "            )^2\n",
    "            center = P[:, 1] + numer / denom\n",
    "        end\n",
    "\n",
    "    elseif n == 4 #&& dim = 3\n",
    "        # https://people.sc.fsu.edu/~jburkardt/presentations\n",
    "        #\t/cg_lab_tetrahedrons.pdf\n",
    "        # page 6 (matrix are transposed)\n",
    "        α = Lar.det([P; ones(1, 4)])\n",
    "        sq = sum(abs2, P, dims = 1)\n",
    "        Dx = Lar.det([sq; P[2:2,:]; P[3:3,:]; ones(1, 4)])\n",
    "        Dy = Lar.det([P[1:1,:]; sq; P[3:3,:]; ones(1, 4)])\n",
    "        Dz = Lar.det([P[1:1,:]; P[2:2,:]; sq; ones(1, 4)])\n",
    "        center = [Dx; Dy; Dz]/2α\n",
    "    end\n",
    "\n",
    "    return center\n",
    "end"
   ]
  },
  {
   "cell_type": "code",
   "execution_count": 61,
   "metadata": {},
   "outputs": [
    {
     "data": {
      "text/plain": [
       "findClosestPoint (generic function with 1 method)"
      ]
     },
     "execution_count": 61,
     "metadata": {},
     "output_type": "execute_result"
    }
   ],
   "source": [
    "function findClosestPoint(\n",
    "        Psimplex::Lar.Points, P::Lar.Points;\n",
    "        metric = \"circumcenter\"\n",
    "    )::Union{Int64, Nothing}\n",
    "\n",
    "    @assert metric ∈ [\"circumcenter\", \"dd\"] \"findClosestPoint: available metrics are\n",
    "        `circumcenter` and `dd`.\"\n",
    "\n",
    "    simplexDim = size(Psimplex, 2)\n",
    "    @assert simplexDim <= size(Psimplex, 1) \"findClosestPoint: Cannot add\n",
    "    another point to the simplex.\"\n",
    "\n",
    "    @assert (m = size(P, 2)) != 0 \"findClosestPoint: No Points in `P`.\"\n",
    "\n",
    "    radlist = SharedArray{Float64}(m)\n",
    "    for col = 1 : m\n",
    "        r, c = findRadius([Psimplex P[:,col]], true)\n",
    "        sameSign = (\n",
    "            r == Inf ||\n",
    "            metric != \"dd\" ||\n",
    "            isempty(oppositeHalfSpacePoints(\n",
    "                [Psimplex P[:,col]], Psimplex, c\n",
    "            ))\n",
    "        )\n",
    "        radlist[col] = ((-1)^(1 + sameSign)) * r\n",
    "    end\n",
    "\n",
    "    radius, closestidx = findmin(radlist)\n",
    "\n",
    "    if radius == Inf\n",
    "        closestidx = nothing\n",
    "    end\n",
    "\n",
    "    return closestidx\n",
    "\n",
    "end\n"
   ]
  },
  {
   "cell_type": "code",
   "execution_count": 62,
   "metadata": {},
   "outputs": [
    {
     "data": {
      "text/plain": [
       "findMedian (generic function with 1 method)"
      ]
     },
     "execution_count": 62,
     "metadata": {},
     "output_type": "execute_result"
    }
   ],
   "source": [
    "function findMedian(P::Lar.Points, ax::Int64)::Float64\n",
    "    xp = sort(unique(P[ax, :]))\n",
    "    if length(xp) == 1\n",
    "        median = xp[1]\n",
    "    else\n",
    "        idx = Int64(floor(length(xp)/2))\n",
    "        median = (xp[idx] + xp[idx+1])/2\n",
    "    end\n",
    "    return median\n",
    "end"
   ]
  },
  {
   "cell_type": "code",
   "execution_count": 63,
   "metadata": {},
   "outputs": [
    {
     "data": {
      "text/plain": [
       "findRadius (generic function with 2 methods)"
      ]
     },
     "execution_count": 63,
     "metadata": {},
     "output_type": "execute_result"
    }
   ],
   "source": [
    "function findRadius(\n",
    "        P::Lar.Points, center=false; digits=64\n",
    "    )::Union{Float64, Tuple{Float64, Array{Float64,1}}}\n",
    "\n",
    "    c = findCenter(P)\n",
    "    if any(isnan, c)\n",
    "        r = Inf\n",
    "    else\n",
    "        r = round(\n",
    "            findmin([Lar.norm(c - P[:, i]) for i = 1 : size(P, 2)])[1],\n",
    "            digits = digits\n",
    "        )\n",
    "    end\n",
    "    if center\n",
    "        return r, c\n",
    "    end\n",
    "    return r\n",
    "end"
   ]
  },
  {
   "cell_type": "code",
   "execution_count": 64,
   "metadata": {},
   "outputs": [
    {
     "data": {
      "text/plain": [
       "matrixPerturbation (generic function with 1 method)"
      ]
     },
     "execution_count": 64,
     "metadata": {},
     "output_type": "execute_result"
    }
   ],
   "source": [
    "function matrixPerturbation(\n",
    "        M::Array{Float64,2};\n",
    "        atol=1e-10, row = [0], col = [0]\n",
    "    )::Array{Float64,2}\n",
    "\n",
    "    if atol == 0.0\n",
    "        println(\"Warning: no perturbation has been performed.\")\n",
    "        return M\n",
    "    end\n",
    "\n",
    "    if row == [0]\n",
    "        row = [i for i = 1 : size(M, 1)]\n",
    "    end\n",
    "    if col == [0]\n",
    "        col = [i for i = 1 : size(M, 2)]\n",
    "    end\n",
    "\n",
    "    N = copy(M)\n",
    "    perturbation = mod.(rand(Float64, length(row), length(col)), 2*atol).-atol\n",
    "    N[row, col] = M[row, col] + perturbation\n",
    "    return N\n",
    "end"
   ]
  },
  {
   "cell_type": "code",
   "execution_count": 65,
   "metadata": {},
   "outputs": [
    {
     "data": {
      "text/plain": [
       "oppositeHalfSpacePoints (generic function with 1 method)"
      ]
     },
     "execution_count": 65,
     "metadata": {},
     "output_type": "execute_result"
    }
   ],
   "source": [
    "function oppositeHalfSpacePoints(\n",
    "        P::Lar.Points,\n",
    "        face::Array{Float64,2},\n",
    "        point::Array{Float64,1}\n",
    "    )::Array{Int64,1}\n",
    "\n",
    "    dim, n = size(P)\n",
    "    noV = size(face, 2)\n",
    "    @assert dim <= 3 \"oppositeHalfSpacePoints: Not yet coded.\"\n",
    "    @assert noV == dim \"oppositeHalfSpacePoints:\n",
    "        Cannot determine opposite to non hyperplanes.\"\n",
    "    if dim == 1\n",
    "        threshold = face[1]\n",
    "        if point[1] < threshold\n",
    "            opposite = [i for i = 1 : n if P[1, i] > threshold]\n",
    "        else\n",
    "            opposite = [i for i = 1 : n if P[1, i] < threshold]\n",
    "        end\n",
    "    elseif dim == 2\n",
    "        if (Δx = face[1, 1] - face[1, 2]) != 0.0\n",
    "            m = (face[2, 1] - face[2, 2]) / Δx\n",
    "            q = face[2, 1] - m * face[1, 1]\n",
    "            # false = under the line, true = over the line\n",
    "            @assert point[2] ≠ m * point[1] + q \"oppositeHalfSpacePoints,\n",
    "                the point belongs to the face\"\n",
    "            side = sign(m * point[1] + q - point[2])\n",
    "            opposite =\n",
    "                [i for i = 1 : n if side * (m * P[1, i] + q - P[2, i]) < 0]\n",
    "        else\n",
    "            q = face[1, 1]\n",
    "            side = sign(point[1] - q)\n",
    "            opposite = [i for i = 1 : n if side * (P[1, i] - q) < 0]\n",
    "        end\n",
    "\n",
    "\n",
    "    elseif dim == 3\n",
    "        axis = Lar.cross(\n",
    "            face[:, 2] - face[:, 1],\n",
    "            face[:, 3] - face[:, 1]\n",
    "        )\n",
    "        off = Lar.dot(axis, face[:, 1])\n",
    "        position = Lar.dot(point, axis)\n",
    "        if position < off\n",
    "            opposite = [i for i = 1:size(P, 2) if Lar.dot(P[:,i], axis) > off]\n",
    "        else\n",
    "            opposite = [i for i = 1:size(P, 2) if Lar.dot(P[:,i], axis) < off]\n",
    "        end\n",
    "    end\n",
    "\n",
    "    return [\n",
    "        i for i in opposite\n",
    "        if sum([P[:, i] == face[:, j] for j = 1 : noV]) == 0\n",
    "    ]\n",
    "end"
   ]
  },
  {
   "cell_type": "code",
   "execution_count": 66,
   "metadata": {},
   "outputs": [
    {
     "data": {
      "text/plain": [
       "planarIntersection (generic function with 1 method)"
      ]
     },
     "execution_count": 66,
     "metadata": {},
     "output_type": "execute_result"
    }
   ],
   "source": [
    "function planarIntersection(\n",
    "        P::Lar.Points,\n",
    "        face::Array{Int64,1},\n",
    "        axis::Int64,\n",
    "        off::Float64\n",
    "    )::Int64\n",
    "\n",
    "    pos = [P[axis, i] > off for i in face]\n",
    "\n",
    "    if sum([P[axis, i] == off for i in face]) == length(pos)\n",
    "        position = 0 # face coplanar with axis\n",
    "    elseif sum(pos) == 0\n",
    "        position = -1\n",
    "    elseif sum(pos) == length(pos)\n",
    "        position = +1\n",
    "    else\n",
    "        position = 0\n",
    "    end\n",
    "\n",
    "    return position\n",
    "end"
   ]
  },
  {
   "cell_type": "code",
   "execution_count": 67,
   "metadata": {},
   "outputs": [
    {
     "data": {
      "text/plain": [
       "simplexFaces (generic function with 1 method)"
      ]
     },
     "execution_count": 67,
     "metadata": {},
     "output_type": "execute_result"
    }
   ],
   "source": [
    "function simplexFaces(σ::Array{Int64,1})::Array{Array{Int64,1},1}\n",
    "    sort!(sort!.(collect(Combinatorics.combinations(σ, length(σ)-1))))\n",
    "end"
   ]
  },
  {
   "cell_type": "code",
   "execution_count": 68,
   "metadata": {},
   "outputs": [
    {
     "data": {
      "text/plain": [
       "vertexInCircumball (generic function with 1 method)"
      ]
     },
     "execution_count": 68,
     "metadata": {},
     "output_type": "execute_result"
    }
   ],
   "source": [
    "function vertexInCircumball(\n",
    "        P::Lar.Points,\n",
    "        α_char::Float64,\n",
    "        point::Array{Float64,2}\n",
    "    )::Bool\n",
    "\n",
    "    center = findCenter(P)\n",
    "    return Lar.norm(point - center) <= α_char\n",
    "end"
   ]
  },
  {
   "cell_type": "code",
   "execution_count": 69,
   "metadata": {},
   "outputs": [
    {
     "data": {
      "text/plain": [
       "delaunayWall (generic function with 5 methods)"
      ]
     },
     "execution_count": 69,
     "metadata": {},
     "output_type": "execute_result"
    }
   ],
   "source": [
    "function delaunayWall(\n",
    "        P::Lar.Points,\n",
    "        ax = 1,\n",
    "        Pblack = Float64[],\n",
    "        AFL = Array{Int64,1}[],\n",
    "        tetraDict = DataStructures.Dict{Array{Int64,1},Array{Float64,1}}();\n",
    "        DEBUG = false\n",
    "    )::Lar.Cells\n",
    "\n",
    "    if DEBUG @show \"Delaunay Wall with parameters\" P ax AFL tetraDict end\n",
    "\n",
    "    # 0 - Data Reading and Container definition\n",
    "    DT = Array{Int64,1}[]\t\t# Delaunay Triangulation\n",
    "    AFLα = Array{Int64,1}[]\t\t# (d-1)faces intersecting the Wall\n",
    "    AFLplus = Array{Int64,1}[]  # (d-1)faces in positive Wall half-space\n",
    "    AFLminus = Array{Int64,1}[] # (d-1)faces in positive Wall half-space\n",
    "    off = findMedian(P, ax)\n",
    "    if !isempty(Pblack) Pext = [P Pblack] else Pext = copy(P) end\n",
    "\n",
    "    # 1 - Determine first simplex (if necessary)\n",
    "    if isempty(AFL)\n",
    "        @assert isempty(Pblack) \"delaunayWall: If AFL is empty => Pblack must be\"\n",
    "        @assert isempty(tetraDict) \"delaunayWall: If AFL is empty => tetraDict must be\"\n",
    "        σ = sort(firstDeWallSimplex(P, ax, off, DEBUG = DEBUG))\n",
    "        push!(DT, σ)\n",
    "        AFL = simplexFaces(σ)\n",
    "        updateTetraDict!(P, tetraDict, AFL, σ)\n",
    "    else\n",
    "        @assert !isempty(Pblack) \"delaunayWall: Data missing - Pblack\"\n",
    "        @assert !isempty(AFL) \"delaunayWall: Data missing - AFL\"\n",
    "        @assert !isempty(tetraDict) \"delaunayWall: Data missing - tetraDict\"\n",
    "    end\n",
    "\n",
    "    # 2 - Build `AFL*` according to the axis `ax` with constant term `off`\n",
    "    updateAFL!(\n",
    "        P, AFL, AFLα, AFLplus, AFLminus, ax, off, DEBUG = DEBUG\n",
    "    )\n",
    "\n",
    "    # 4 - Build simplex Wall\n",
    "    while !isempty(AFLα)\n",
    "        # if face ∈ keys(tetraDict) oppoint = tetraDict[face]\n",
    "        # else Pselection = setdiff([i for i = 1 : n], face) end\n",
    "        σ = findWallSimplex(\n",
    "                Pext, AFLα[1], tetraDict[AFLα[1]], size(P, 2), DEBUG = DEBUG\n",
    "            )\n",
    "        if σ != nothing && σ ∉ DT\n",
    "            push!(DT, σ)\n",
    "            AFL = simplexFaces(σ)\n",
    "            updateTetraDict!(P, tetraDict, AFL, σ)\n",
    "            # Split σ's Faces according in semi-spaces\n",
    "            updateAFL!(\n",
    "                P, AFL, AFLα, AFLplus, AFLminus, ax, off, DEBUG=DEBUG\n",
    "            )\n",
    "        else\n",
    "            @assert updatelist!(AFLα, AFLα[1]) == false \"delaunayWall:\n",
    "                Something unespected happends while removing a face.\"\n",
    "        end\n",
    "    end\n",
    "\n",
    "    # 5 - Change the axis `ax` and repeat until there are no faces but exposed.\n",
    "    #      A.K.A. Divide & Conquer phase.\n",
    "    if !isempty(AFLminus)\n",
    "        union!(DT, recursiveDelaunayWall(\n",
    "            P, Pblack, tetraDict, AFLminus, ax, off, false; DEBUG = DEBUG\n",
    "        ))\n",
    "    end\n",
    "    if !isempty(AFLplus)\n",
    "        union!(DT, recursiveDelaunayWall(\n",
    "            P, Pblack, tetraDict, AFLplus, ax, off, true; DEBUG = DEBUG\n",
    "        ))\n",
    "    end\n",
    "\n",
    "    return DT\n",
    "end"
   ]
  },
  {
   "cell_type": "code",
   "execution_count": 70,
   "metadata": {},
   "outputs": [
    {
     "data": {
      "text/plain": [
       "findWallSimplex (generic function with 2 methods)"
      ]
     },
     "execution_count": 70,
     "metadata": {},
     "output_type": "execute_result"
    }
   ],
   "source": [
    "function findWallSimplex(\n",
    "        P::Lar.Points,\n",
    "        face::Array{Int64,1},\n",
    "        oppoint::Array{Float64,1},\n",
    "        blackidx = size(P, 2);\n",
    "        DEBUG = false\n",
    "    )::Union{Array{Int64,1}, Nothing}\n",
    "\n",
    "    if DEBUG @show \"find Wall Simplex of\" face oppoint end\n",
    "    # Find the points in the halfspace defined by `face` that do not\n",
    "    #  containsother the other point of the simplex.\n",
    "    Pselection =\n",
    "        oppositeHalfSpacePoints(P, P[:, face], oppoint)\n",
    "\n",
    "    if DEBUG @show Pselection end\n",
    "\n",
    "    # If there are no such points than the face is part of the convex hull.\n",
    "    if isempty(Pselection)\n",
    "        return nothing\n",
    "    end\n",
    "\n",
    "    # Find the Closest Point in the other halfspace with respect to σ\n",
    "    #  according to dd-distance.\n",
    "    idxbase = Pselection[ findClosestPoint(\n",
    "        P[:, face], P[:, Pselection], metric = \"dd\"\n",
    "    ) ]\n",
    "\n",
    "    # @assert !isnothing(idxbase)\n",
    "    # if isnothing(idxbase)\n",
    "    # \treturn nothing\n",
    "    # end\n",
    "\n",
    "    # It prevent from adding the same simplex again (cause it has been\n",
    "    #  determined in a previous recursive call in the stacktrace).\n",
    "    if idxbase > blackidx\n",
    "        if DEBUG println(\"Excluding $face cause simplex already inside.\") end\n",
    "        return nothing\n",
    "    end\n",
    "\n",
    "    σ = sort([face; idxbase])\n",
    "    if DEBUG @show \"Found face\" σ end\n",
    "\n",
    "    # Check the simplex correctness\n",
    "    radius, center = findRadius(P[:, σ], true)\n",
    "    for i = 1 : size(P, 2)\n",
    "        if Lar.norm(center - P[:, i]) < radius - 1.e-14\n",
    "            # @assert i ∉ Pselection \"ERROR: Numerical error\n",
    "            # \tevaluating minimum radius for $σ\"\n",
    "            if DEBUG println(\"$σ discarded due to a closer point.\") end\n",
    "            return nothing\n",
    "        end\n",
    "    end\n",
    "\n",
    "    return σ\n",
    "end\n",
    "\n"
   ]
  },
  {
   "cell_type": "code",
   "execution_count": 71,
   "metadata": {},
   "outputs": [
    {
     "data": {
      "text/plain": [
       "firstDeWallSimplex (generic function with 1 method)"
      ]
     },
     "execution_count": 71,
     "metadata": {},
     "output_type": "execute_result"
    }
   ],
   "source": [
    "function firstDeWallSimplex(\n",
    "        P::Lar.Points,\n",
    "        ax::Int64,\n",
    "        off::Float64;\n",
    "        DEBUG = false\n",
    "    )::Array{Int64,1}\n",
    "\n",
    "    dim = size(P, 1)\n",
    "    n = size(P, 2)\n",
    "\n",
    "    if DEBUG println(\"Determine first Simplex with ax = $ax\") end\n",
    "    # the first point of the simplex is the one with coordinate `ax` maximal\n",
    "    #  such that it is less than `off` (closer to α from minus)\n",
    "\n",
    "    Pselection = findall(x -> x < off, P[ax, :])\n",
    "\n",
    "    # it gives an error if no point are less than `off`\n",
    "    #  in fact it means that all the points are located on the median,\n",
    "    #  with respect to `ax`.\n",
    "    @assert !isempty(Pselection) \"firstDeWallSimplex: not able to build the first Delaunay\n",
    "        dimplex; all the points have the same `ax` coordinate.\"\n",
    "    newidx = Pselection[findmax(P[ax, Pselection])[2]]\n",
    "    # indices will store the indices of the simplex ...\n",
    "    indices = [newidx]                      #Array{Int64,1}\n",
    "    # ... and `Psimplex` will store the corresponding points\n",
    "    Psimplex = P[:, newidx][:,:]    #Array{Float64,2}\n",
    "\n",
    "    # the second point must be seeken across those with coordinate `ax`\n",
    "    #  grater than `off`\n",
    "    Pselection = findall(x -> x > off, P[ax, :])\n",
    "\n",
    "    for d = 1 : dim\n",
    "        idxbase = findClosestPoint(Psimplex, P[:, Pselection])\n",
    "        @assert !isnothing(idxbase) \"firstDeWallSimplex:\n",
    "            not able to determine first Delaunay Simplex\"\n",
    "        newidx = Pselection[idxbase]\n",
    "        indices = [indices; newidx]\n",
    "        Psimplex = [Psimplex P[:, newidx]]\n",
    "        Pselection = [i for i = 1 : n if i ∉ indices]\n",
    "    end\n",
    "\n",
    "    # Correctness check\n",
    "    radius, center = findRadius(Psimplex, true)\n",
    "    for i = 1 : n\n",
    "        @assert Lar.norm(center - P[:, i]) >= radius \"firstDeWallSimplex:\n",
    "            Unable to find first Simplex.\"\n",
    "    end\n",
    "\n",
    "    if DEBUG println(\"First Simplex = $indices\") end\n",
    "\n",
    "    return indices\n",
    "end"
   ]
  },
  {
   "cell_type": "code",
   "execution_count": 72,
   "metadata": {},
   "outputs": [
    {
     "data": {
      "text/plain": [
       "recursiveDelaunayWall (generic function with 1 method)"
      ]
     },
     "execution_count": 72,
     "metadata": {},
     "output_type": "execute_result"
    }
   ],
   "source": [
    "function recursiveDelaunayWall(\n",
    "        P::Lar.Points,\n",
    "        Pblack::Array{Float64},\n",
    "        tetraDict::DataStructures.Dict{Array{Int64,1},Array{Float64,1}},\n",
    "        AFL::Array{Array{Int64,1},1},\n",
    "        ax::Int64,\n",
    "        off::Float64,\n",
    "        positive::Bool;\n",
    "        DEBUG = false\n",
    "    )::Lar.Cells\n",
    "\n",
    "    #DEBUG = true\n",
    "\n",
    "    dim, n = size(P)\n",
    "    newaxis = mod(ax, dim) + 1\n",
    "\n",
    "    if DEBUG println(\"Divide Plus/Minus $positive\") end\n",
    "\n",
    "    Psubset = findall(x -> (x > off) == positive, P[ax, :])\n",
    "    blacklist = setdiff(unique([(keys(tetraDict)...)...]), Psubset)\n",
    "    if !isempty(Pblack)\n",
    "        Pblack = [Pblack P[:, blacklist]]\n",
    "    else\n",
    "        Pblack = P[:, blacklist]\n",
    "    end\n",
    "\n",
    "    if DEBUG println(\"Step In\") end\n",
    "\n",
    "    DT = delaunayWall(\n",
    "            P[:, Psubset],\n",
    "            newaxis,\n",
    "            Pblack,\n",
    "            [[findall(Psubset.==p)[1] for p in σ] for σ in AFL],\n",
    "            Dict([\n",
    "                [findall(Psubset.==p)[1] for p in k] => v\n",
    "                for (k,v) in tetraDict\n",
    "                    if k ⊆ Psubset\n",
    "            ]),\n",
    "            DEBUG = DEBUG\n",
    "        )\n",
    "\n",
    "    if DEBUG @show \"Step Out with \" DT end\n",
    "\n",
    "    return [[Psubset[i] for i in σ] for σ in DT]\n",
    "end\n"
   ]
  },
  {
   "cell_type": "code",
   "execution_count": 73,
   "metadata": {},
   "outputs": [
    {
     "data": {
      "text/plain": [
       "updateAFL! (generic function with 1 method)"
      ]
     },
     "execution_count": 73,
     "metadata": {},
     "output_type": "execute_result"
    }
   ],
   "source": [
    "function updateAFL!(\n",
    "        P::Lar.Points,\n",
    "        newσ::Array{Array{Int64,1},1},\n",
    "        AFLα::Array{Array{Int64,1},1},\n",
    "        AFLplus::Array{Array{Int64,1},1},\n",
    "        AFLminus::Array{Array{Int64,1},1},\n",
    "        ax::Int64, off::Float64;\n",
    "        DEBUG = false\n",
    "    )::Bool\n",
    "\n",
    "    for face in newσ\n",
    "        inters = planarIntersection(P, face, ax, off)\n",
    "        if inters == 0 # intersected by plane α\n",
    "            updatelist!(AFLα, face)\n",
    "        elseif inters == -1 # in NegHalfspace(α)\n",
    "            updatelist!(AFLminus, face)\n",
    "        elseif inters == 1 # in PosHalfspace(α)\n",
    "            updatelist!(AFLplus, face)\n",
    "        else\n",
    "            return false\n",
    "        end\n",
    "    end\n",
    "\n",
    "    if DEBUG @show AFLα AFLminus AFLplus end\n",
    "\n",
    "    return true\n",
    "\n",
    "end\n"
   ]
  },
  {
   "cell_type": "code",
   "execution_count": 74,
   "metadata": {},
   "outputs": [
    {
     "data": {
      "text/plain": [
       "updatelist! (generic function with 1 method)"
      ]
     },
     "execution_count": 74,
     "metadata": {},
     "output_type": "execute_result"
    }
   ],
   "source": [
    "function updatelist!(list, element)::Bool\n",
    "    if element ∈ list\n",
    "        setdiff!(list, [element])\n",
    "        return false\n",
    "    else\n",
    "        push!(list, element)\n",
    "        return true\n",
    "    end\n",
    "end"
   ]
  },
  {
   "cell_type": "code",
   "execution_count": 75,
   "metadata": {},
   "outputs": [
    {
     "data": {
      "text/plain": [
       "updateTetraDict! (generic function with 1 method)"
      ]
     },
     "execution_count": 75,
     "metadata": {},
     "output_type": "execute_result"
    }
   ],
   "source": [
    "function updateTetraDict!(\n",
    "        P::Lar.Points,\n",
    "        tetraDict::DataStructures.Dict{Array{Int64,1},Array{Float64,1}},\n",
    "        AFL::Array{Array{Int64,1},1},\n",
    "        σ::Array{Int64,1}\n",
    "    )::Nothing\n",
    "    for cell in AFL\n",
    "        point = setdiff(σ, cell)\n",
    "        @assert length(point) == 1 \"updateTetraDict!: Error during update of TetraDict $σ, $cell\"\n",
    "        tetraDict[ cell ] = P[:, point[1]]\n",
    "    end\n",
    "end\n"
   ]
  },
  {
   "cell_type": "code",
   "execution_count": 76,
   "metadata": {},
   "outputs": [
    {
     "data": {
      "text/plain": [
       "alphaFilter (generic function with 2 methods)"
      ]
     },
     "execution_count": 76,
     "metadata": {},
     "output_type": "execute_result"
    }
   ],
   "source": [
    "function alphaFilter(\n",
    "        V::Lar.Points,\n",
    "        DT = Array{Int64,1}[];\n",
    "        digits=64\n",
    "    )::DataStructures.SortedDict{}\n",
    "\n",
    "    dim = size(V, 1)\n",
    "    filtration = DataStructures.SortedDict{Array{Int64,1},Float64}()\n",
    "\n",
    "    # 1 - Each point => alpha_char = 0.\n",
    "    for i = 1 : size(V, 2)\n",
    "        insert!(filtration, [i], 0.)\n",
    "    end\n",
    "\n",
    "    # 2 - Delaunay triangulation of ``V``\n",
    "    if isempty(DT)\n",
    "        DT = delaunayTriangulation(V)\n",
    "    end\n",
    "\n",
    "    n_upsimplex = length(DT)\n",
    "\n",
    "    # 3 - process all upper simplex\n",
    "    ind = 1\n",
    "    for upper_simplex in DT\n",
    "        if ind % 500000 == 0\n",
    "            println(ind,\" simplices processed of \", n_upsimplex)\n",
    "        end\n",
    "        processuppersimplex(V,upper_simplex,filtration; digits = digits)\n",
    "        ind = ind + 1\n",
    "    end\n",
    "\n",
    "    return filtration\n",
    "end"
   ]
  },
  {
   "cell_type": "code",
   "execution_count": 77,
   "metadata": {},
   "outputs": [
    {
     "data": {
      "text/plain": [
       "processuppersimplex (generic function with 1 method)"
      ]
     },
     "execution_count": 77,
     "metadata": {},
     "output_type": "execute_result"
    }
   ],
   "source": [
    "function processuppersimplex(\n",
    "        V::Lar.Points,\n",
    "        up_simplex::Array{Int64,1},\n",
    "        filtration::DataStructures.SortedDict{};\n",
    "        digits=64\n",
    "        )\n",
    "\n",
    "    α_char = findRadius(V[:, up_simplex], digits=digits);\n",
    "    insert!(filtration, up_simplex, α_char)\n",
    "\n",
    "    d = length(up_simplex)-1\n",
    "    if d > 1\n",
    "        # It gives back combinations in natural order\n",
    "        newsimplex = collect(Combinatorics.combinations(up_simplex,d))\n",
    "        for lowsimplex in newsimplex\n",
    "            processlowsimplex(V, up_simplex, lowsimplex, filtration; digits=digits)\n",
    "        end\n",
    "    end\n",
    "end"
   ]
  },
  {
   "cell_type": "code",
   "execution_count": 78,
   "metadata": {},
   "outputs": [
    {
     "data": {
      "text/plain": [
       "processlowsimplex (generic function with 1 method)"
      ]
     },
     "execution_count": 78,
     "metadata": {},
     "output_type": "execute_result"
    }
   ],
   "source": [
    "function processlowsimplex(\n",
    "    V::Lar.Points,\n",
    "    up_simplex::Array{Int64,1},\n",
    "    lowsimplex::Array{Int64,1},\n",
    "    filtration::DataStructures.SortedDict{};\n",
    "    digits=64)\n",
    "\n",
    "    α_char = findRadius(V[:, lowsimplex], digits=digits)\n",
    "    point = V[:, setdiff(up_simplex, lowsimplex)]\n",
    "\n",
    "    if vertexInCircumball(V[:, lowsimplex], α_char, point)\n",
    "        filtration[lowsimplex] = filtration[up_simplex]\n",
    "\n",
    "    elseif !haskey(filtration, lowsimplex)\n",
    "        filtration[lowsimplex] = α_char\n",
    "\n",
    "    end\n",
    "\n",
    "    d = length(lowsimplex)-1\n",
    "    if d > 1\n",
    "        # It gives back combinations in natural order\n",
    "        newsimplex = collect(Combinatorics.combinations(lowsimplex,d))\n",
    "        for simplex in newsimplex\n",
    "             processlowsimplex(V, lowsimplex, simplex, filtration, digits=digits)\n",
    "        end\n",
    "    end\n",
    "end\n"
   ]
  },
  {
   "cell_type": "code",
   "execution_count": 79,
   "metadata": {},
   "outputs": [
    {
     "data": {
      "text/plain": [
       "alphaSimplex (generic function with 1 method)"
      ]
     },
     "execution_count": 79,
     "metadata": {},
     "output_type": "execute_result"
    }
   ],
   "source": [
    "function alphaSimplex(\n",
    "        V::Lar.Points,\n",
    "        filtration::DataStructures.SortedDict{},\n",
    "        α_threshold::Float64\n",
    "    )::Array{Lar.Cells,1}\n",
    "\n",
    "    dim = size(V, 1)\n",
    "    # [VV, EV, FV, ...]\n",
    "    simplexCollection = [ Array{Array{Int64,1},1}() for i = 1 : dim+1 ]\n",
    "\n",
    "    for (k, v) in filtration\n",
    "        if v <= α_threshold\n",
    "            push!(simplexCollection[length(k)], k)\n",
    "        end\n",
    "    end\n",
    "\n",
    "    sort!.(simplexCollection)\n",
    "\n",
    "    return simplexCollection\n",
    "end"
   ]
  },
  {
   "cell_type": "code",
   "execution_count": 80,
   "metadata": {},
   "outputs": [
    {
     "data": {
      "text/plain": [
       "delaunayTriangulation (generic function with 1 method)"
      ]
     },
     "execution_count": 80,
     "metadata": {},
     "output_type": "execute_result"
    }
   ],
   "source": [
    "function delaunayTriangulation(V::Lar.Points)::Lar.Cells\n",
    "    dim = size(V, 1)\n",
    "    @assert dim > 0 \"delaunayTriangulation: V do not contains points.\"\n",
    "    @assert dim < 4 \"delaunayTriangulation: Function not yet Programmed.\"\n",
    "\n",
    "    if dim == 1\n",
    "        vertices = vcat(V...)\n",
    "        p = sortperm(vertices)\n",
    "        upper_simplex = [[p[i],p[i+1]] for i=1:length(p)-1]\n",
    "\n",
    "    elseif dim == 2\n",
    "        vertices = convert(Array{Float64,2},V')\n",
    "        points_map = Array{Int64,1}(collect(1:1:size(vertices)[1]))\n",
    "        @assert size(vertices, 1) > 3\n",
    "        upper_simplex = Triangle.basic_triangulation(vertices, points_map)\n",
    "\n",
    "    elseif dim == 3\n",
    "        upper_simplex = delaunayWall(V)\n",
    "    end\n",
    "\n",
    "    sort!.(upper_simplex)\n",
    "\n",
    "    return sort(upper_simplex)\n",
    "end"
   ]
  },
  {
   "cell_type": "markdown",
   "metadata": {},
   "source": [
    "# Esempio 3D (utilizzando le funzioni del vecchio modulo)"
   ]
  },
  {
   "cell_type": "code",
   "execution_count": 81,
   "metadata": {},
   "outputs": [
    {
     "data": {
      "text/plain": [
       "529×3 Array{Float64,2}:\n",
       " 20.2617   3.9956  22.3469\n",
       " 19.2515  -1.1209  22.3469\n",
       " 19.0837  -1.0495  23.0343\n",
       " 20.0799   3.9956  23.0343\n",
       " 19.2783  -1.1323  23.2634\n",
       " 20.2908   3.9956  23.2634\n",
       " 19.6742  -1.3008  23.0343\n",
       " 20.72     3.9956  23.0343\n",
       " 20.1104  -1.4864  22.3469\n",
       " 21.1929   3.9956  22.3469\n",
       " 16.4814  -5.2597  22.3469\n",
       " 16.3523  -5.1306  23.0343\n",
       " 16.5021  -5.2804  23.2634\n",
       "  ⋮                \n",
       "  8.8935   7.9146  24.3109\n",
       " 10.2411  11.082   23.7435\n",
       " 11.4517  13.9273  23.1761\n",
       " 11.9771  15.162   22.3469\n",
       " 10.2423   7.0118  24.3109\n",
       " 12.6801   9.4496  23.7435\n",
       " 14.87    11.6395  23.1761\n",
       " 15.8203  12.5898  22.3469\n",
       " 11.1451   5.663   24.3109\n",
       " 14.3125   7.0107  23.7435\n",
       " 17.1578   8.2213  23.1761\n",
       " 18.3925   8.7466  22.3469"
      ]
     },
     "execution_count": 81,
     "metadata": {},
     "output_type": "execute_result"
    }
   ],
   "source": [
    "using LinearAlgebraicRepresentation, ViewerGL\n",
    "using BenchmarkTools\n",
    "using Distributed\n",
    "GL = ViewerGL\n",
    "filename = \"../examples/examples3D/OBJ/teapot.obj\";\n",
    "\n",
    "W, EVs, FVs = Lar.obj2lar(filename);\n",
    "WW = [[i] for i = 1:size(W, 2)];\n",
    "V, VV = Lar.apply(Lar.r(pi / 2, 0, 0), (W, WW)); #object rotated\n",
    "\n",
    "points = convert(Lar.Points, V')\n",
    "#=\n",
    "GL.VIEW([\n",
    "    GL.GLPoints(points)\n",
    "    GL.GLAxis(GL.Point3d(-1, -1, -1), GL.Point3d(1, 1, 1))\n",
    "]);\n",
    "=#"
   ]
  },
  {
   "cell_type": "code",
   "execution_count": null,
   "metadata": {},
   "outputs": [],
   "source": [
    "@btime filtration = alphaFilter(V); # 8.448 s (51918223 allocations: 4.07 GiB)"
   ]
  },
  {
   "cell_type": "code",
   "execution_count": null,
   "metadata": {},
   "outputs": [],
   "source": [
    "@benchmark filtration = alphaFilter(V);"
   ]
  },
  {
   "cell_type": "code",
   "execution_count": null,
   "metadata": {},
   "outputs": [],
   "source": [
    "@code_warntype alphaFilter(V);"
   ]
  },
  {
   "cell_type": "code",
   "execution_count": null,
   "metadata": {},
   "outputs": [],
   "source": [
    "filtration = alphaFilter(V);"
   ]
  },
  {
   "cell_type": "code",
   "execution_count": null,
   "metadata": {},
   "outputs": [],
   "source": [
    "@btime VV, EV, FV, TV = alphaSimplex(V, filtration, 3.7) # 2.156 ms (55 allocations: 205.47 KiB)"
   ]
  },
  {
   "cell_type": "code",
   "execution_count": null,
   "metadata": {},
   "outputs": [],
   "source": [
    "@benchmark VV, EV, FV, TV = alphaSimplex(V, filtration, 3.7)"
   ]
  },
  {
   "cell_type": "code",
   "execution_count": null,
   "metadata": {},
   "outputs": [],
   "source": [
    "@code_warntype alphaSimplex(V, filtration, 3.7)"
   ]
  },
  {
   "cell_type": "code",
   "execution_count": null,
   "metadata": {},
   "outputs": [],
   "source": [
    "VV, EV, FV, TV = alphaSimplex(V, filtration, 3.7)\n",
    "#=\n",
    "GL.VIEW([\n",
    "    GL.GLGrid(V, EV, GL.COLORS[1], 0.6) # White\n",
    "    GL.GLGrid(V, FV, GL.COLORS[2], 0.3) # Red\n",
    "    GL.GLGrid(V, TV, GL.COLORS[3], 0.3) # Green\n",
    "]);\n",
    "=#\n",
    "filter_key = sort(unique(values(filtration)))\n",
    "\n",
    "granular = 10\n",
    "\n",
    "reduced_filter =\n",
    "    filter_key[sort(abs.(rand(Int, granular) .% length(filter_key)))]\n",
    "reduced_filter = [reduced_filter; max(filter_key...)]\n",
    "\n",
    "α=0.0\n",
    "for α in reduced_filter\n",
    "    @show α\n",
    "    @btime VVV, EEV, FFV, TTV = alphaSimplex(V, filtration, α) # 772.066 μs (20 allocations: 19.34 KiB) in media\n",
    "end"
   ]
  },
  {
   "cell_type": "markdown",
   "metadata": {},
   "source": [
    "# Esempio 3D (utilizzando le funzioni del nuovo modulo)"
   ]
  },
  {
   "cell_type": "code",
   "execution_count": null,
   "metadata": {},
   "outputs": [],
   "source": [
    "using LinearAlgebraicRepresentation, ViewerGL\n",
    "using BenchmarkTools\n",
    "using Distributed\n",
    "GL = ViewerGL\n",
    "filename = \"../examples/examples3D/OBJ/teapot.obj\";\n",
    "\n",
    "W, EVs, FVs = Lar.obj2lar(filename);\n",
    "WW = [[i] for i = 1:size(W, 2)];\n",
    "V, VV = Lar.apply(Lar.r(pi / 2, 0, 0), (W, WW)); #object rotated\n",
    "\n",
    "points = convert(Lar.Points, V')\n",
    "#=\n",
    "GL.VIEW([\n",
    "    GL.GLPoints(points)\n",
    "    GL.GLAxis(GL.Point3d(-1, -1, -1), GL.Point3d(1, 1, 1))\n",
    "]);\n",
    "=#"
   ]
  },
  {
   "cell_type": "code",
   "execution_count": null,
   "metadata": {},
   "outputs": [],
   "source": [
    "@btime filtration = AlphaStructures.alphaFilter(V); # 5.039 s (35330571 allocations: 3.80 GiB)"
   ]
  },
  {
   "cell_type": "code",
   "execution_count": null,
   "metadata": {},
   "outputs": [],
   "source": [
    "@benchmark filtration = AlphaStructures.alphaFilter(V);"
   ]
  },
  {
   "cell_type": "code",
   "execution_count": null,
   "metadata": {},
   "outputs": [],
   "source": [
    "@code_warntype AlphaStructures.alphaFilter(V);"
   ]
  },
  {
   "cell_type": "code",
   "execution_count": null,
   "metadata": {},
   "outputs": [],
   "source": [
    "filtration = AlphaStructures.alphaFilter(V);"
   ]
  },
  {
   "cell_type": "code",
   "execution_count": null,
   "metadata": {},
   "outputs": [],
   "source": [
    "@btime VV, EV, FV, TV = AlphaStructures.alphaSimplex(V, filtration, 3.7) # 2.110 ms (55 allocations: 205.47 KiB)"
   ]
  },
  {
   "cell_type": "code",
   "execution_count": null,
   "metadata": {},
   "outputs": [],
   "source": [
    "@benchmark VV, EV, FV, TV = AlphaStructures.alphaSimplex(V, filtration, 3.7)"
   ]
  },
  {
   "cell_type": "code",
   "execution_count": null,
   "metadata": {},
   "outputs": [],
   "source": [
    "@code_warntype AlphaStructures.alphaSimplex(V, filtration, 3.7)"
   ]
  },
  {
   "cell_type": "code",
   "execution_count": null,
   "metadata": {},
   "outputs": [],
   "source": [
    "VV, EV, FV, TV = AlphaStructures.alphaSimplex(V, filtration, 3.7)\n",
    "#=\n",
    "GL.VIEW([\n",
    "    GL.GLGrid(V, EV, GL.COLORS[1], 0.6) # White\n",
    "    GL.GLGrid(V, FV, GL.COLORS[2], 0.3) # Red\n",
    "    GL.GLGrid(V, TV, GL.COLORS[3], 0.3) # Green\n",
    "]);\n",
    "=#\n",
    "filter_key = sort(unique(values(filtration)))\n",
    "\n",
    "granular = 10\n",
    "\n",
    "reduced_filter =\n",
    "    filter_key[sort(abs.(rand(Int, granular) .% length(filter_key)))]\n",
    "reduced_filter = [reduced_filter; max(filter_key...)]\n",
    "\n",
    "α=0.0\n",
    "for α in reduced_filter\n",
    "    @show α\n",
    "    @btime VVV, EEV, FFV, TTV = AlphaStructures.alphaSimplex(V, filtration, α) # 685.523 μs (20 allocations: 19.34 KiB) in media\n",
    "end"
   ]
  },
  {
   "cell_type": "markdown",
   "metadata": {},
   "source": [
    "# Esempio 2D (utilizzando le funzioni del vecchio modulo)"
   ]
  },
  {
   "cell_type": "code",
   "execution_count": null,
   "metadata": {},
   "outputs": [],
   "source": [
    "\"\"\"\n",
    "    pointsRand(V, VV, n, m)\n",
    "\n",
    "Generate random points inside and otuside `(V, VV)`.\n",
    "\"\"\"\n",
    "function pointsRand(\n",
    "        V::Lar.Points, EV::Lar.Cells, n = 1000, m = 0\n",
    "    )::Tuple{Lar.Points, Lar.Points, Lar.Cells, Lar.Cells}\n",
    "    classify = Lar.pointInPolygonClassification(V, EV)\n",
    "    Vi = [0;0]\n",
    "    Ve = [0;0]\n",
    "    k1 = 0\n",
    "    k2 = 0\n",
    "    while k1 < n || k2 < m\n",
    "        queryPoint = [rand();rand()]\n",
    "        inOut = classify(queryPoint)\n",
    "\n",
    "        if k1 < n && inOut == \"p_in\"\n",
    "            Vi = hcat(Vi, queryPoint)\n",
    "            k1 = k1 + 1;\n",
    "        end\n",
    "        if k2 < m && inOut == \"p_out\"\n",
    "            Ve = hcat(Ve, queryPoint)\n",
    "            k2 = k2 + 1;\n",
    "        end\n",
    "    end\n",
    "    VVi = [[i] for i = 1 : n]\n",
    "    VVe = [[i] for i = 1 : m]\n",
    "    return Vi[:,2:end], Ve[:,2:end], VVi, VVe\n",
    "end\n",
    "\n",
    "filename = \"../examples/examples2D/svg_files/Lar2.svg\";\n",
    "\n",
    "V,EV = Lar.svg2lar(filename);\n",
    "\n",
    "Vi, Ve, VVi, VVe = pointsRand(V, EV, 1000, 10000);\n",
    "\n",
    "#=\n",
    "GL.VIEW([\n",
    " \tGL.GLGrid(Vi, VVi, GL.COLORS[1], 1)\n",
    " \tGL.GLGrid(Ve, VVe, GL.COLORS[12], 1)\n",
    "])\n",
    "=#"
   ]
  },
  {
   "cell_type": "code",
   "execution_count": null,
   "metadata": {},
   "outputs": [],
   "source": [
    "@btime filtration = alphaFilter(Vi); # 38.343 ms (371714 allocations: 25.58 MiB)"
   ]
  },
  {
   "cell_type": "code",
   "execution_count": null,
   "metadata": {},
   "outputs": [],
   "source": [
    "@benchmark filtration = alphaFilter(Vi);"
   ]
  },
  {
   "cell_type": "code",
   "execution_count": null,
   "metadata": {},
   "outputs": [],
   "source": [
    "@code_warntype alphaFilter(Vi);"
   ]
  },
  {
   "cell_type": "code",
   "execution_count": null,
   "metadata": {},
   "outputs": [],
   "source": [
    "filtration = alphaFilter(Vi);"
   ]
  },
  {
   "cell_type": "code",
   "execution_count": null,
   "metadata": {},
   "outputs": [],
   "source": [
    "@btime VV,EV,FV = alphaSimplex(Vi, filtration, 0.02) # 744.878 μs (41 allocations: 135.13 KiB)"
   ]
  },
  {
   "cell_type": "code",
   "execution_count": null,
   "metadata": {},
   "outputs": [],
   "source": [
    "@benchmark VV,EV,FV = alphaSimplex(Vi, filtration, 0.02)"
   ]
  },
  {
   "cell_type": "code",
   "execution_count": null,
   "metadata": {},
   "outputs": [],
   "source": [
    "@code_warntype alphaSimplex(Vi, filtration, 0.02)"
   ]
  },
  {
   "cell_type": "code",
   "execution_count": null,
   "metadata": {},
   "outputs": [],
   "source": [
    "VV,EV,FV = alphaSimplex(Vi, filtration, 0.02)\n",
    "points = [[p] for p in VV]\n",
    "faces = [[f] for f in FV]\n",
    "edges = [[e] for e in EV]\n",
    "#GL.VIEW(\n",
    "#    GL.GLExplode(Vi, [edges; faces], 1.5, 1.5, 1.5, 99, 1)\n",
    "# );\n",
    "\n",
    "filter_key = sort(unique(values(filtration)))\n",
    "\n",
    "granular = 10\n",
    "\n",
    "reduced_filter = filter_key[sort(abs.(rand(Int, granular).%length(filter_key)))]\n",
    "reduced_filter = [reduced_filter; max(filter_key...)]\n",
    "\n",
    "#\n",
    "# Arlecchino's Lar\n",
    "#\n",
    "#\n",
    "α = 0.0\n",
    "for α in reduced_filter\n",
    "    @show α\n",
    "    @btime VV,EV,FV = alphaSimplex(Vi, filtration, α) # 315.970 μs (18 allocations: 21.00 KiB) in media\n",
    "    #VV,EV,FV = alphaSimplex(Vi, filtration, α)\n",
    "\n",
    "    #=\n",
    "    GL.VIEW(\n",
    "        GL.GLExplode(\n",
    "            Vi,\n",
    "            [[[f] for f in FV]; [[e] for e in EV]],\n",
    "            1., 1., 1.,\t# Explode Ratio\n",
    "            99, 1\t\t# Colors\n",
    "        )\n",
    "    )\n",
    "    =#\n",
    "    \n",
    "end\n",
    "#\n",
    "#\n",
    "# Appearing Colors\n",
    "#\n",
    "\n",
    "reduced_filter = [\n",
    "    0.002;\t0.003;\t0.004;\t0.005;  0.006;\n",
    "    0.007;\t0.008;\t0.009;\t0.010;\t0.013;\n",
    "    0.015;\t0.020;\t0.050;\t1.000\n",
    "]\n",
    "\n",
    "i=2\n",
    "for i = 2 : length(reduced_filter)\n",
    "    @btime VV0, EV0, FV0 = alphaSimplex(Vi, filtration, reduced_filter[i-1])# 337.409 μs (36 allocations: 42.03 KiB) in media\n",
    "    @btime VV,  EV,  FV  = alphaSimplex(Vi, filtration, reduced_filter[i])# 297.250 μs (32 allocations: 30.86 KiB) in media\n",
    "    \n",
    "    #=EV0mesh = GL.GLGrid(Vi, EV0)\n",
    "    FV0mesh = GL.GLGrid(Vi, FV0)\n",
    "    EVmesh = GL.GLGrid(Vi, setdiff(EV, EV0), GL.COLORS[2], 1)\n",
    "    FVmesh = GL.GLGrid(Vi, setdiff(FV, FV0), GL.COLORS[7], 1)\n",
    "    GL.VIEW([EV0mesh; FV0mesh; EVmesh; FVmesh])=#\n",
    "end"
   ]
  },
  {
   "cell_type": "markdown",
   "metadata": {},
   "source": [
    "# Esempio 2D (utilizzando le funzioni del nuovo modulo)"
   ]
  },
  {
   "cell_type": "code",
   "execution_count": null,
   "metadata": {},
   "outputs": [],
   "source": [
    "\"\"\"\n",
    "    pointsRand(V, VV, n, m)\n",
    "\n",
    "Generate random points inside and otuside `(V, VV)`.\n",
    "\"\"\"\n",
    "function pointsRand(\n",
    "        V::Lar.Points, EV::Lar.Cells, n = 1000, m = 0\n",
    "    )::Tuple{Lar.Points, Lar.Points, Lar.Cells, Lar.Cells}\n",
    "    classify = Lar.pointInPolygonClassification(V, EV)\n",
    "    Vi = [0;0]\n",
    "    Ve = [0;0]\n",
    "    k1 = 0\n",
    "    k2 = 0\n",
    "    while k1 < n || k2 < m\n",
    "        queryPoint = [rand();rand()]\n",
    "        inOut = classify(queryPoint)\n",
    "\n",
    "        if k1 < n && inOut == \"p_in\"\n",
    "            Vi = hcat(Vi, queryPoint)\n",
    "            k1 = k1 + 1;\n",
    "        end\n",
    "        if k2 < m && inOut == \"p_out\"\n",
    "            Ve = hcat(Ve, queryPoint)\n",
    "            k2 = k2 + 1;\n",
    "        end\n",
    "    end\n",
    "    VVi = [[i] for i = 1 : n]\n",
    "    VVe = [[i] for i = 1 : m]\n",
    "    return Vi[:,2:end], Ve[:,2:end], VVi, VVe\n",
    "end\n",
    "\n",
    "filename = \"../examples/examples2D/svg_files/Lar2.svg\";\n",
    "\n",
    "V,EV = Lar.svg2lar(filename);\n",
    "\n",
    "Vi, Ve, VVi, VVe = pointsRand(V, EV, 1000, 10000);\n",
    "\n",
    "#=\n",
    "GL.VIEW([\n",
    " \tGL.GLGrid(Vi, VVi, GL.COLORS[1], 1)\n",
    " \tGL.GLGrid(Ve, VVe, GL.COLORS[12], 1)\n",
    "])\n",
    "=#"
   ]
  },
  {
   "cell_type": "code",
   "execution_count": null,
   "metadata": {},
   "outputs": [],
   "source": [
    "@btime filtration = AlphaStructures.alphaFilter(Vi); # 30.037 ms (283750 allocations: 24.19 MiB)"
   ]
  },
  {
   "cell_type": "code",
   "execution_count": null,
   "metadata": {},
   "outputs": [],
   "source": [
    "@benchmark filtration = AlphaStructures.alphaFilter(Vi);"
   ]
  },
  {
   "cell_type": "code",
   "execution_count": null,
   "metadata": {},
   "outputs": [],
   "source": [
    "@code_warntype AlphaStructures.alphaFilter(Vi); "
   ]
  },
  {
   "cell_type": "code",
   "execution_count": null,
   "metadata": {},
   "outputs": [],
   "source": [
    "filtration = AlphaStructures.alphaFilter(Vi); "
   ]
  },
  {
   "cell_type": "code",
   "execution_count": null,
   "metadata": {},
   "outputs": [],
   "source": [
    "@btime VV,EV,FV = AlphaStructures.alphaSimplex(Vi, filtration, 0.02) # 690.470 μs (41 allocations: 135.00 KiB)"
   ]
  },
  {
   "cell_type": "code",
   "execution_count": null,
   "metadata": {},
   "outputs": [],
   "source": [
    "@benchmark VV,EV,FV = AlphaStructures.alphaSimplex(Vi, filtration, 0.02)"
   ]
  },
  {
   "cell_type": "code",
   "execution_count": null,
   "metadata": {},
   "outputs": [],
   "source": [
    "@code_warntype AlphaStructures.alphaSimplex(Vi, filtration, 0.02)"
   ]
  },
  {
   "cell_type": "code",
   "execution_count": null,
   "metadata": {},
   "outputs": [],
   "source": [
    "VV,EV,FV = AlphaStructures.alphaSimplex(Vi, filtration, 0.02)\n",
    "points = [[p] for p in VV]\n",
    "faces = [[f] for f in FV]\n",
    "edges = [[e] for e in EV]\n",
    "#GL.VIEW(\n",
    "#    GL.GLExplode(Vi, [edges; faces], 1.5, 1.5, 1.5, 99, 1)\n",
    "# );\n",
    "\n",
    "filter_key = sort(unique(values(filtration)))\n",
    "\n",
    "granular = 10\n",
    "\n",
    "reduced_filter = filter_key[sort(abs.(rand(Int, granular).%length(filter_key)))]\n",
    "reduced_filter = [reduced_filter; max(filter_key...)]\n",
    "\n",
    "#\n",
    "# Arlecchino's Lar\n",
    "#\n",
    "#\n",
    "α = 0.0\n",
    "for α in reduced_filter\n",
    "    @show α\n",
    "    @btime VV,EV,FV = AlphaStructures.alphaSimplex(Vi, filtration, α) # 255.389 μs (18 allocations: 21.00 KiB) in media\n",
    "    #VV,EV,FV = alphaSimplex(Vi, filtration, α)\n",
    "\n",
    "    #=\n",
    "    GL.VIEW(\n",
    "        GL.GLExplode(\n",
    "            Vi,\n",
    "            [[[f] for f in FV]; [[e] for e in EV]],\n",
    "            1., 1., 1.,\t# Explode Ratio\n",
    "            99, 1\t\t# Colors\n",
    "        )\n",
    "    )\n",
    "    =#\n",
    "    \n",
    "end\n",
    "#\n",
    "#\n",
    "# Appearing Colors\n",
    "#\n",
    "\n",
    "reduced_filter = [\n",
    "    0.002;\t0.003;\t0.004;\t0.005;  0.006;\n",
    "    0.007;\t0.008;\t0.009;\t0.010;\t0.013;\n",
    "    0.015;\t0.020;\t0.050;\t1.000\n",
    "]\n",
    "\n",
    "i=2\n",
    "for i = 2 : length(reduced_filter)\n",
    "    @btime VV0, EV0, FV0 = AlphaStructures.alphaSimplex(Vi, filtration, reduced_filter[i-1]) # 292.120 μs (35 allocations: 40.78 KiB) in media\n",
    "    @btime VV,  EV,  FV  = AlphaStructures.alphaSimplex(Vi, filtration, reduced_filter[i]) # 266.537 μs (30 allocations: 26.45 KiB) in media\n",
    "    \n",
    "    #=EV0mesh = GL.GLGrid(Vi, EV0)\n",
    "    FV0mesh = GL.GLGrid(Vi, FV0)\n",
    "    EVmesh = GL.GLGrid(Vi, setdiff(EV, EV0), GL.COLORS[2], 1)\n",
    "    FVmesh = GL.GLGrid(Vi, setdiff(FV, FV0), GL.COLORS[7], 1)\n",
    "    GL.VIEW([EV0mesh; FV0mesh; EVmesh; FVmesh])=#\n",
    "end"
   ]
  },
  {
   "cell_type": "code",
   "execution_count": null,
   "metadata": {},
   "outputs": [],
   "source": []
  }
 ],
 "metadata": {
  "kernelspec": {
   "display_name": "Julia 1.5.3",
   "language": "julia",
   "name": "julia-1.5"
  },
  "language_info": {
   "file_extension": ".jl",
   "mimetype": "application/julia",
   "name": "julia",
   "version": "1.5.3"
  }
 },
 "nbformat": 4,
 "nbformat_minor": 4
}
