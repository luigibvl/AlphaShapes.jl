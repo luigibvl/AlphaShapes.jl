{
 "cells": [
  {
   "cell_type": "markdown",
   "metadata": {},
   "source": [
    "# Principali modifiche alle funzioni in alpha_complex.jl"
   ]
  },
  {
   "cell_type": "markdown",
   "metadata": {},
   "source": [
    "Vecchia versione della funzione alphaFilter"
   ]
  },
  {
   "cell_type": "code",
   "execution_count": 1,
   "metadata": {},
   "outputs": [
    {
     "ename": "LoadError",
     "evalue": "UndefVarError: Lar not defined",
     "output_type": "error",
     "traceback": [
      "UndefVarError: Lar not defined",
      "",
      "Stacktrace:",
      " [1] top-level scope at In[1]:1",
      " [2] include_string(::Function, ::Module, ::String, ::String) at ./loading.jl:1091"
     ]
    }
   ],
   "source": [
    "function alphaFilter(\n",
    "        V::Lar.Points,\n",
    "        DT = Array{Int64,1}[];\n",
    "        digits=64\n",
    "    )::DataStructures.SortedDict{}\n",
    "\n",
    "    dim = size(V, 1)\n",
    "    filtration = DataStructures.SortedDict{Array{Int64,1},Float64}()\n",
    "\n",
    "    # 1 - Each point => alpha_char = 0.\n",
    "    for i = 1 : size(V, 2)\n",
    "        insert!(filtration, [i], 0.)\n",
    "    end\n",
    "\n",
    "    # 2 - Delaunay triangulation of ``V``\n",
    "    if isempty(DT)\n",
    "        DT = AlphaShapes.delaunayTriangulation(V)\n",
    "    end\n",
    "\n",
    "    n_upsimplex = length(DT)\n",
    "\n",
    "    # 3 - process all upper simplex\n",
    "    ind = 1\n",
    "    for upper_simplex in DT\n",
    "        if ind % 500000 == 0\n",
    "            println(ind,\" simplices processed of \", n_upsimplex)\n",
    "        end\n",
    "        AlphaShapes.processuppersimplex(V,upper_simplex,filtration; digits = digits)\n",
    "        ind = ind + 1\n",
    "    end\n",
    "\n",
    "    return filtration\n",
    "end\n"
   ]
  },
  {
   "cell_type": "markdown",
   "metadata": {},
   "source": [
    "Nuova versione della funzione alphaFilter"
   ]
  },
  {
   "cell_type": "code",
   "execution_count": 2,
   "metadata": {},
   "outputs": [
    {
     "ename": "LoadError",
     "evalue": "LoadError: UndefVarError: @timeit not defined\nin expression starting at In[2]:1",
     "output_type": "error",
     "traceback": [
      "LoadError: UndefVarError: @timeit not defined\nin expression starting at In[2]:1",
      "",
      "Stacktrace:",
      " [1] top-level scope",
      " [2] include_string(::Function, ::Module, ::String, ::String) at ./loading.jl:1091"
     ]
    }
   ],
   "source": [
    "@timeit to \"alphaFilter\" function alphaFilter(\n",
    "        V::Lar.Points,\n",
    "        DT = Array{Int64,1}[];\n",
    "        digits=64\n",
    "    )::DataStructures.SortedDict{}\n",
    "\n",
    "    dim = size(V, 1)\n",
    "    filtration = DataStructures.SortedDict{Array{Int64,1},Float64}()\n",
    "\n",
    "    # 1 - Each point => alpha_char = 0.\n",
    "    @inbounds @simd for i = 1 : size(V, 2)\n",
    "        insert!(filtration, [i], 0.)\n",
    "    end\n",
    "\n",
    "    # 2 - Delaunay triangulation of ``V``\n",
    "    if isempty(DT)\n",
    "        DT =Threads.@spawn AlphaShapes.delaunayTriangulation(V)\n",
    "        DT=fetch(DT)\n",
    "    end\n",
    "\n",
    "    n_upsimplex = length(DT)\n",
    "\n",
    "    # 3 - process all upper simplex\n",
    "    ind = 1\n",
    "    @simd for upper_simplex in DT\n",
    "        if ind % 500000 == 0\n",
    "            println(ind,\" simplices processed of \", n_upsimplex)\n",
    "        end\n",
    "        AlphaShapes.processuppersimplex(V,upper_simplex,filtration; digits = digits)\n",
    "        ind = ind + 1\n",
    "    end\n",
    "\n",
    "    return filtration\n",
    "end\n"
   ]
  },
  {
   "cell_type": "markdown",
   "metadata": {},
   "source": [
    "Vecchia versione della funzione processuppersimplex"
   ]
  },
  {
   "cell_type": "code",
   "execution_count": 3,
   "metadata": {},
   "outputs": [
    {
     "ename": "LoadError",
     "evalue": "UndefVarError: Lar not defined",
     "output_type": "error",
     "traceback": [
      "UndefVarError: Lar not defined",
      "",
      "Stacktrace:",
      " [1] top-level scope at In[3]:1",
      " [2] include_string(::Function, ::Module, ::String, ::String) at ./loading.jl:1091"
     ]
    }
   ],
   "source": [
    "function processuppersimplex(\n",
    "        V::Lar.Points,\n",
    "        up_simplex::Array{Int64,1},\n",
    "        filtration::DataStructures.SortedDict{};\n",
    "        digits=64\n",
    "        )\n",
    "\n",
    "    α_char = AlphaShapes.findRadius(V[:, up_simplex], digits=digits);\n",
    "    insert!(filtration, up_simplex, α_char)\n",
    "\n",
    "    d = length(up_simplex)-1\n",
    "    if d > 1\n",
    "        # It gives back combinations in natural order\n",
    "        newsimplex = collect(Combinatorics.combinations(up_simplex,d))\n",
    "        for lowsimplex in newsimplex\n",
    "            AlphaShapes.processlowsimplex(V, up_simplex, lowsimplex, filtration; digits=digits)\n",
    "        end\n",
    "    end\n",
    "end"
   ]
  },
  {
   "cell_type": "markdown",
   "metadata": {},
   "source": [
    "Nuova versione della funzione processuppersimplex"
   ]
  },
  {
   "cell_type": "code",
   "execution_count": 4,
   "metadata": {},
   "outputs": [
    {
     "ename": "LoadError",
     "evalue": "LoadError: UndefVarError: @timeit not defined\nin expression starting at In[4]:1",
     "output_type": "error",
     "traceback": [
      "LoadError: UndefVarError: @timeit not defined\nin expression starting at In[4]:1",
      "",
      "Stacktrace:",
      " [1] top-level scope",
      " [2] include_string(::Function, ::Module, ::String, ::String) at ./loading.jl:1091"
     ]
    }
   ],
   "source": [
    "@timeit to \"processuppersimplex\" function processuppersimplex(\n",
    "        V::Lar.Points,\n",
    "        up_simplex::Array{Int64,1},\n",
    "        filtration::DataStructures.SortedDict{};\n",
    "        digits=64)\n",
    "\n",
    "\n",
    "    α_char = AlphaShapes.findRadius(V[:, up_simplex], digits=digits);\n",
    "    insert!(filtration, up_simplex, α_char)\n",
    "\n",
    "    d = length(up_simplex)-1\n",
    "    if d > 1\n",
    "        # It gives back combinations in natural order\n",
    "        newsimplex = collect(Combinatorics.combinations(up_simplex,d))\n",
    "        @simd for lowsimplex in newsimplex\n",
    "            AlphaShapes.processlowsimplex(V, up_simplex, lowsimplex, filtration; digits=digits)\n",
    "        end\n",
    "    end\n",
    "end"
   ]
  },
  {
   "cell_type": "markdown",
   "metadata": {},
   "source": [
    "Vecchia versione della funzione processlowsimplex"
   ]
  },
  {
   "cell_type": "code",
   "execution_count": 5,
   "metadata": {},
   "outputs": [
    {
     "ename": "LoadError",
     "evalue": "UndefVarError: Lar not defined",
     "output_type": "error",
     "traceback": [
      "UndefVarError: Lar not defined",
      "",
      "Stacktrace:",
      " [1] top-level scope at In[5]:1",
      " [2] include_string(::Function, ::Module, ::String, ::String) at ./loading.jl:1091"
     ]
    }
   ],
   "source": [
    "function processlowsimplex(\n",
    "    V::Lar.Points,\n",
    "    up_simplex::Array{Int64,1},\n",
    "    lowsimplex::Array{Int64,1},\n",
    "    filtration::DataStructures.SortedDict{};\n",
    "    digits=64)\n",
    "\n",
    "    α_char = AlphaShapes.findRadius(V[:, lowsimplex], digits=digits)\n",
    "    point = V[:, setdiff(up_simplex, lowsimplex)]\n",
    "\n",
    "    if AlphaShapes.vertexInCircumball(V[:, lowsimplex], α_char, point)\n",
    "        filtration[lowsimplex] = filtration[up_simplex]\n",
    "\n",
    "    elseif !haskey(filtration, lowsimplex)\n",
    "        filtration[lowsimplex] = α_char\n",
    "\n",
    "    end\n",
    "\n",
    "    d = length(lowsimplex)-1\n",
    "    if d > 1\n",
    "        # It gives back combinations in natural order\n",
    "        newsimplex = collect(Combinatorics.combinations(lowsimplex,d))\n",
    "        for simplex in newsimplex\n",
    "             AlphaShapes.processlowsimplex(V, lowsimplex, simplex, filtration, digits=digits)\n",
    "        end\n",
    "    end\n",
    "end"
   ]
  },
  {
   "cell_type": "markdown",
   "metadata": {},
   "source": [
    "Nuova versione della funzione processlowsimplex"
   ]
  },
  {
   "cell_type": "code",
   "execution_count": 6,
   "metadata": {},
   "outputs": [
    {
     "ename": "LoadError",
     "evalue": "LoadError: UndefVarError: @timeit not defined\nin expression starting at In[6]:1",
     "output_type": "error",
     "traceback": [
      "LoadError: UndefVarError: @timeit not defined\nin expression starting at In[6]:1",
      "",
      "Stacktrace:",
      " [1] top-level scope",
      " [2] include_string(::Function, ::Module, ::String, ::String) at ./loading.jl:1091"
     ]
    }
   ],
   "source": [
    "@timeit to \"processlowsimplex\" function processlowsimplex(\n",
    "    V::Lar.Points,\n",
    "    up_simplex::Array{Int64,1},\n",
    "    lowsimplex::Array{Int64,1},\n",
    "    filtration::DataStructures.SortedDict{};\n",
    "    digits=64)\n",
    "\n",
    "    α_char = AlphaShapes.findRadius(V[:, lowsimplex], digits=digits)\n",
    "    point = V[:, setdiff(up_simplex, lowsimplex)]\n",
    "\n",
    "    if AlphaShapes.vertexInCircumball(V[:, lowsimplex], α_char, point)\n",
    "        filtration[lowsimplex] = filtration[up_simplex]\n",
    "\n",
    "    elseif !haskey(filtration, lowsimplex)\n",
    "        filtration[lowsimplex] = α_char\n",
    "\n",
    "    end\n",
    "\n",
    "    d = length(lowsimplex)-1\n",
    "    if d > 1\n",
    "        # It gives back combinations in natural order\n",
    "        newsimplex = collect(Combinatorics.combinations(lowsimplex,d))\n",
    "        @simd for simplex in newsimplex\n",
    "             AlphaShapes.processlowsimplex(V, lowsimplex, simplex, filtration, digits=digits)\n",
    "        end\n",
    "    end\n",
    "end"
   ]
  }
 ],
 "metadata": {
  "kernelspec": {
   "display_name": "Julia 1.5.3",
   "language": "julia",
   "name": "julia-1.5"
  },
  "language_info": {
   "file_extension": ".jl",
   "mimetype": "application/julia",
   "name": "julia",
   "version": "1.5.3"
  }
 },
 "nbformat": 4,
 "nbformat_minor": 4
}
